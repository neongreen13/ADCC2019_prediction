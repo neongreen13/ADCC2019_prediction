{
 "cells": [
  {
   "cell_type": "markdown",
   "metadata": {},
   "source": [
    "<font color= #28b463>\n",
    "\n",
    "## ADCC Model Prediction"
   ]
  },
  {
   "cell_type": "markdown",
   "metadata": {},
   "source": [
    "Finalize feature generation"
   ]
  },
  {
   "cell_type": "markdown",
   "metadata": {},
   "source": [
    "<font color=  #3498db >\n",
    "Project: Predict match-level win/loss outcome for fighter match ups at ADCC. "
   ]
  },
  {
   "cell_type": "code",
   "execution_count": 49,
   "metadata": {},
   "outputs": [],
   "source": [
    "import warnings\n",
    "warnings.filterwarnings('ignore')"
   ]
  },
  {
   "cell_type": "code",
   "execution_count": 2,
   "metadata": {
    "scrolled": false
   },
   "outputs": [
    {
     "data": {
      "text/html": [
       "<div>\n",
       "<style scoped>\n",
       "    .dataframe tbody tr th:only-of-type {\n",
       "        vertical-align: middle;\n",
       "    }\n",
       "\n",
       "    .dataframe tbody tr th {\n",
       "        vertical-align: top;\n",
       "    }\n",
       "\n",
       "    .dataframe thead th {\n",
       "        text-align: right;\n",
       "    }\n",
       "</style>\n",
       "<table border=\"1\" class=\"dataframe\">\n",
       "  <thead>\n",
       "    <tr style=\"text-align: right;\">\n",
       "      <th></th>\n",
       "      <th>Gender</th>\n",
       "      <th>Weight</th>\n",
       "      <th>Championship</th>\n",
       "      <th>Round</th>\n",
       "      <th>Fighter</th>\n",
       "      <th>Opponant</th>\n",
       "      <th>Points</th>\n",
       "      <th>Result</th>\n",
       "      <th>How</th>\n",
       "      <th>Time</th>\n",
       "      <th>...</th>\n",
       "      <th>MR_IBJJF_yr</th>\n",
       "      <th>IBJJF_belt</th>\n",
       "      <th>Num_IBJJF_medals</th>\n",
       "      <th>MR_IBJJF_place</th>\n",
       "      <th>MR_Other_yr</th>\n",
       "      <th>Other_belt</th>\n",
       "      <th>Num_Other_medals</th>\n",
       "      <th>MR_Other_place</th>\n",
       "      <th>Birthdate</th>\n",
       "      <th>Belt_date</th>\n",
       "    </tr>\n",
       "  </thead>\n",
       "  <tbody>\n",
       "    <tr>\n",
       "      <th>0</th>\n",
       "      <td>Male</td>\n",
       "      <td>Men -66kg</td>\n",
       "      <td>Championship</td>\n",
       "      <td>Semi-Finals</td>\n",
       "      <td>Paulo Miyao</td>\n",
       "      <td>Augusto \"Tanquinho\" Mendes</td>\n",
       "      <td>0</td>\n",
       "      <td>l</td>\n",
       "      <td>ref decision</td>\n",
       "      <td>15:00</td>\n",
       "      <td>...</td>\n",
       "      <td>2019.0</td>\n",
       "      <td>black</td>\n",
       "      <td>6.0</td>\n",
       "      <td>1.0</td>\n",
       "      <td>2019.0</td>\n",
       "      <td>black</td>\n",
       "      <td>6.0</td>\n",
       "      <td>1.0</td>\n",
       "      <td>1991-05-11 00:00:00</td>\n",
       "      <td>2013-06-01</td>\n",
       "    </tr>\n",
       "    <tr>\n",
       "      <th>1</th>\n",
       "      <td>Male</td>\n",
       "      <td>Men -77kg</td>\n",
       "      <td>Consolation</td>\n",
       "      <td>Consolation</td>\n",
       "      <td>Garry Tonon</td>\n",
       "      <td>Dante Leon</td>\n",
       "      <td>0</td>\n",
       "      <td>w</td>\n",
       "      <td>submission</td>\n",
       "      <td>5:22</td>\n",
       "      <td>...</td>\n",
       "      <td>2014.0</td>\n",
       "      <td>black</td>\n",
       "      <td>1.0</td>\n",
       "      <td>3.0</td>\n",
       "      <td>2016.0</td>\n",
       "      <td>black</td>\n",
       "      <td>4.0</td>\n",
       "      <td>1.0</td>\n",
       "      <td>1991-09-12 00:00:00</td>\n",
       "      <td>2013-09-01</td>\n",
       "    </tr>\n",
       "    <tr>\n",
       "      <th>2</th>\n",
       "      <td>Male</td>\n",
       "      <td>Men -88kg</td>\n",
       "      <td>Consolation</td>\n",
       "      <td>Consolation</td>\n",
       "      <td>Josh Hinger</td>\n",
       "      <td>Jon Blank</td>\n",
       "      <td>3</td>\n",
       "      <td>w</td>\n",
       "      <td>score</td>\n",
       "      <td>10:00</td>\n",
       "      <td>...</td>\n",
       "      <td>2018.0</td>\n",
       "      <td>black</td>\n",
       "      <td>4.0</td>\n",
       "      <td>1.0</td>\n",
       "      <td>2017.0</td>\n",
       "      <td>black</td>\n",
       "      <td>9.0</td>\n",
       "      <td>1.0</td>\n",
       "      <td>1982-05-28 00:00:00</td>\n",
       "      <td>2013-12-01</td>\n",
       "    </tr>\n",
       "    <tr>\n",
       "      <th>3</th>\n",
       "      <td>Male</td>\n",
       "      <td>Men -99kg</td>\n",
       "      <td>Consolation</td>\n",
       "      <td>Consolation</td>\n",
       "      <td>Lucas \"Hulk\" Barbosa</td>\n",
       "      <td>Vinny Magalhaes</td>\n",
       "      <td>0</td>\n",
       "      <td>w</td>\n",
       "      <td>forfeit</td>\n",
       "      <td>0:00</td>\n",
       "      <td>...</td>\n",
       "      <td>2019.0</td>\n",
       "      <td>black</td>\n",
       "      <td>9.0</td>\n",
       "      <td>1.0</td>\n",
       "      <td>2017.0</td>\n",
       "      <td>black</td>\n",
       "      <td>1.0</td>\n",
       "      <td>1.0</td>\n",
       "      <td>1992-02-13 00:00:00</td>\n",
       "      <td>2015-07-01</td>\n",
       "    </tr>\n",
       "    <tr>\n",
       "      <th>4</th>\n",
       "      <td>Male</td>\n",
       "      <td>Men +99kg</td>\n",
       "      <td>Consolation</td>\n",
       "      <td>Consolation</td>\n",
       "      <td>Marcus Buchecha Almeida</td>\n",
       "      <td>Roberto \"Cyborg\" Abreu</td>\n",
       "      <td>0</td>\n",
       "      <td>w</td>\n",
       "      <td>forfeit</td>\n",
       "      <td>0:00</td>\n",
       "      <td>...</td>\n",
       "      <td>2012.0</td>\n",
       "      <td>black</td>\n",
       "      <td>6.0</td>\n",
       "      <td>1.0</td>\n",
       "      <td>2016.0</td>\n",
       "      <td>black</td>\n",
       "      <td>7.0</td>\n",
       "      <td>1.0</td>\n",
       "      <td>1990-01-08 00:00:00</td>\n",
       "      <td>2010-06-01</td>\n",
       "    </tr>\n",
       "  </tbody>\n",
       "</table>\n",
       "<p>5 rows × 61 columns</p>\n",
       "</div>"
      ],
      "text/plain": [
       "  Gender     Weight  Championship        Round                  Fighter  \\\n",
       "0   Male  Men -66kg  Championship  Semi-Finals              Paulo Miyao   \n",
       "1   Male  Men -77kg   Consolation  Consolation              Garry Tonon   \n",
       "2   Male  Men -88kg   Consolation  Consolation              Josh Hinger   \n",
       "3   Male  Men -99kg   Consolation  Consolation     Lucas \"Hulk\" Barbosa   \n",
       "4   Male  Men +99kg   Consolation  Consolation  Marcus Buchecha Almeida   \n",
       "\n",
       "                     Opponant  Points Result           How   Time  ...  \\\n",
       "0  Augusto \"Tanquinho\" Mendes       0      l  ref decision  15:00  ...   \n",
       "1                  Dante Leon       0      w    submission   5:22  ...   \n",
       "2                   Jon Blank       3      w         score  10:00  ...   \n",
       "3             Vinny Magalhaes       0      w       forfeit   0:00  ...   \n",
       "4      Roberto \"Cyborg\" Abreu       0      w       forfeit   0:00  ...   \n",
       "\n",
       "  MR_IBJJF_yr  IBJJF_belt Num_IBJJF_medals MR_IBJJF_place MR_Other_yr  \\\n",
       "0      2019.0       black              6.0            1.0      2019.0   \n",
       "1      2014.0       black              1.0            3.0      2016.0   \n",
       "2      2018.0       black              4.0            1.0      2017.0   \n",
       "3      2019.0       black              9.0            1.0      2017.0   \n",
       "4      2012.0       black              6.0            1.0      2016.0   \n",
       "\n",
       "  Other_belt Num_Other_medals MR_Other_place            Birthdate  Belt_date  \n",
       "0      black              6.0            1.0  1991-05-11 00:00:00 2013-06-01  \n",
       "1      black              4.0            1.0  1991-09-12 00:00:00 2013-09-01  \n",
       "2      black              9.0            1.0  1982-05-28 00:00:00 2013-12-01  \n",
       "3      black              1.0            1.0  1992-02-13 00:00:00 2015-07-01  \n",
       "4      black              7.0            1.0  1990-01-08 00:00:00 2010-06-01  \n",
       "\n",
       "[5 rows x 61 columns]"
      ]
     },
     "metadata": {},
     "output_type": "display_data"
    }
   ],
   "source": [
    "import pandas as pd\n",
    "df = pd.read_excel('ADCC_fighter_history_FINAL.xlsx')\n",
    "df.drop(['Unnamed: 0'], axis=1, inplace=True)\n",
    "display(df.head())"
   ]
  },
  {
   "cell_type": "code",
   "execution_count": 3,
   "metadata": {},
   "outputs": [
    {
     "data": {
      "text/plain": [
       "(226, 61)"
      ]
     },
     "execution_count": 3,
     "metadata": {},
     "output_type": "execute_result"
    }
   ],
   "source": [
    "df.shape"
   ]
  },
  {
   "cell_type": "code",
   "execution_count": 4,
   "metadata": {},
   "outputs": [
    {
     "name": "stdout",
     "output_type": "stream",
     "text": [
      "Total Row Number: 226 \n",
      "Total Col Number: 61\n"
     ]
    }
   ],
   "source": [
    "print(\"Total Row Number: {0} \\nTotal Col Number: {1}\".format(df.shape[0], df.shape[1]))"
   ]
  },
  {
   "cell_type": "code",
   "execution_count": 5,
   "metadata": {},
   "outputs": [
    {
     "name": "stdout",
     "output_type": "stream",
     "text": [
      "<class 'pandas.core.frame.DataFrame'>\n",
      "RangeIndex: 226 entries, 0 to 225\n",
      "Data columns (total 61 columns):\n",
      "Gender                  226 non-null object\n",
      "Weight                  226 non-null object\n",
      "Championship            226 non-null object\n",
      "Round                   226 non-null object\n",
      "Fighter                 226 non-null object\n",
      "Opponant                226 non-null object\n",
      "Points                  226 non-null int64\n",
      "Result                  226 non-null object\n",
      "How                     226 non-null object\n",
      "Time                    226 non-null object\n",
      "Day                     226 non-null object\n",
      "Match No                226 non-null int64\n",
      "Place                   226 non-null object\n",
      "Entrance                221 non-null object\n",
      "Gym                     226 non-null object\n",
      "Belt                    224 non-null object\n",
      "Medal_ADCC              79 non-null object\n",
      "ADCC_place              79 non-null object\n",
      "ADCC_Year               80 non-null object\n",
      "ADCC_years_competed     224 non-null object\n",
      "Num_ADCC_comp           224 non-null float64\n",
      "Trails_winner           93 non-null object\n",
      "Trials_Year             94 non-null object\n",
      "Trails_place            88 non-null object\n",
      "Highest_ADCC_place      61 non-null float64\n",
      "Max_ADCC_medals         61 non-null float64\n",
      "MR_ADCC_Medal_yr        224 non-null float64\n",
      "Highest_Trials_place    88 non-null float64\n",
      "Max_tr_medals           88 non-null float64\n",
      "MR_tr_Medal_yr          94 non-null float64\n",
      "age_float               226 non-null float64\n",
      "blackbelt_float         226 non-null float64\n",
      "Results                 226 non-null object\n",
      "RoundNo                 226 non-null int64\n",
      "Min                     226 non-null int64\n",
      "Sec                     226 non-null int64\n",
      "Seconds                 226 non-null float64\n",
      "KGWeight                226 non-null int64\n",
      "How_weighted            226 non-null int64\n",
      "How_weighted_2          226 non-null int64\n",
      "Result_score            226 non-null int64\n",
      "Final_WL_Score          226 non-null int64\n",
      "Place_score             226 non-null int64\n",
      "Place_num               226 non-null int64\n",
      "IBJJF_world             134 non-null object\n",
      "IBJJF_majors            177 non-null object\n",
      "Other_tours             151 non-null object\n",
      "MR_IBJJF_W_yr           132 non-null float64\n",
      "IBJJF_W_belt            133 non-null object\n",
      "Num_IBJJF_W_medals      132 non-null float64\n",
      "MR_IBJJF_W_place        132 non-null float64\n",
      "MR_IBJJF_yr             177 non-null float64\n",
      "IBJJF_belt              178 non-null object\n",
      "Num_IBJJF_medals        177 non-null float64\n",
      "MR_IBJJF_place          177 non-null float64\n",
      "MR_Other_yr             151 non-null float64\n",
      "Other_belt              151 non-null object\n",
      "Num_Other_medals        151 non-null float64\n",
      "MR_Other_place          151 non-null float64\n",
      "Birthdate               214 non-null object\n",
      "Belt_date               194 non-null datetime64[ns]\n",
      "dtypes: datetime64[ns](1), float64(19), int64(12), object(29)\n",
      "memory usage: 107.8+ KB\n"
     ]
    }
   ],
   "source": [
    "df.info()"
   ]
  },
  {
   "cell_type": "code",
   "execution_count": 6,
   "metadata": {},
   "outputs": [
    {
     "data": {
      "text/plain": [
       "Highest_ADCC_place      165\n",
       "Max_ADCC_medals         165\n",
       "ADCC_place              147\n",
       "Medal_ADCC              147\n",
       "ADCC_Year               146\n",
       "Trails_place            138\n",
       "Highest_Trials_place    138\n",
       "Max_tr_medals           138\n",
       "Trails_winner           133\n",
       "Trials_Year             132\n",
       "MR_tr_Medal_yr          132\n",
       "MR_IBJJF_W_yr            94\n",
       "Num_IBJJF_W_medals       94\n",
       "MR_IBJJF_W_place         94\n",
       "IBJJF_W_belt             93\n",
       "IBJJF_world              92\n",
       "Other_tours              75\n",
       "MR_Other_yr              75\n",
       "Other_belt               75\n",
       "Num_Other_medals         75\n",
       "MR_Other_place           75\n",
       "IBJJF_majors             49\n",
       "MR_IBJJF_yr              49\n",
       "Num_IBJJF_medals         49\n",
       "MR_IBJJF_place           49\n",
       "IBJJF_belt               48\n",
       "Belt_date                32\n",
       "Birthdate                12\n",
       "Entrance                  5\n",
       "ADCC_years_competed       2\n",
       "Num_ADCC_comp             2\n",
       "MR_ADCC_Medal_yr          2\n",
       "Belt                      2\n",
       "dtype: int64"
      ]
     },
     "execution_count": 6,
     "metadata": {},
     "output_type": "execute_result"
    }
   ],
   "source": [
    "nullvalues = df.loc[:, df.isnull().any()].isnull().sum().sort_values(ascending=False)\n",
    "nullvalues"
   ]
  },
  {
   "cell_type": "code",
   "execution_count": 4,
   "metadata": {},
   "outputs": [],
   "source": [
    "import datetime\n",
    "from datetime import time\n",
    "# df['Time'] = pd.to_datetime(df['Time'], format= '%M:%S')\n",
    "df['Birthdate_DT'] = pd.to_datetime(df['Birthdate'])\n",
    "df['Belt_date_DT'] = pd.to_datetime(df['Belt_date'])"
   ]
  },
  {
   "cell_type": "code",
   "execution_count": 5,
   "metadata": {},
   "outputs": [
    {
     "data": {
      "text/plain": [
       "dtype('<M8[ns]')"
      ]
     },
     "execution_count": 5,
     "metadata": {},
     "output_type": "execute_result"
    }
   ],
   "source": [
    "df['Birthdate_DT'].dtype"
   ]
  },
  {
   "cell_type": "code",
   "execution_count": 6,
   "metadata": {},
   "outputs": [
    {
     "data": {
      "text/plain": [
       "datetime.datetime(2019, 12, 10, 9, 2, 50, 581145)"
      ]
     },
     "execution_count": 6,
     "metadata": {},
     "output_type": "execute_result"
    }
   ],
   "source": [
    "datetime.datetime.now()"
   ]
  },
  {
   "cell_type": "code",
   "execution_count": 7,
   "metadata": {},
   "outputs": [],
   "source": [
    "import numpy as np\n",
    "df['age_float'] = (datetime.datetime.now() - df['Birthdate_DT'])/np.timedelta64(1, 'Y')\n",
    "df['blackbelt_float'] = (datetime.datetime.now() - df['Belt_date_DT'])/np.timedelta64(1, 'Y')"
   ]
  },
  {
   "cell_type": "code",
   "execution_count": 8,
   "metadata": {},
   "outputs": [
    {
     "data": {
      "text/plain": [
       "12"
      ]
     },
     "execution_count": 8,
     "metadata": {},
     "output_type": "execute_result"
    }
   ],
   "source": [
    "df.age_float.isnull().sum()"
   ]
  },
  {
   "cell_type": "code",
   "execution_count": 9,
   "metadata": {},
   "outputs": [],
   "source": [
    "#fill in birthdate NaNs with the median age\n",
    "df['age_float'].fillna((df['age_float'].median()), inplace=True)"
   ]
  },
  {
   "cell_type": "code",
   "execution_count": 10,
   "metadata": {},
   "outputs": [
    {
     "data": {
      "text/plain": [
       "0"
      ]
     },
     "execution_count": 10,
     "metadata": {},
     "output_type": "execute_result"
    }
   ],
   "source": [
    "df.age_float.isnull().sum()"
   ]
  },
  {
   "cell_type": "code",
   "execution_count": 11,
   "metadata": {},
   "outputs": [
    {
     "data": {
      "text/plain": [
       "32"
      ]
     },
     "execution_count": 11,
     "metadata": {},
     "output_type": "execute_result"
    }
   ],
   "source": [
    "df.blackbelt_float.isnull().sum()"
   ]
  },
  {
   "cell_type": "code",
   "execution_count": 12,
   "metadata": {},
   "outputs": [],
   "source": [
    "#fill missing black belt dates with 0 since the fighters aren't bb yet\n",
    "df['blackbelt_float'].fillna(value=0, inplace=True)"
   ]
  },
  {
   "cell_type": "code",
   "execution_count": 13,
   "metadata": {},
   "outputs": [
    {
     "data": {
      "text/plain": [
       "0"
      ]
     },
     "execution_count": 13,
     "metadata": {},
     "output_type": "execute_result"
    }
   ],
   "source": [
    "df.blackbelt_float.isnull().sum()"
   ]
  },
  {
   "cell_type": "markdown",
   "metadata": {},
   "source": [
    "<font color=  #3498db >\n",
    "\n",
    "#### Target Column"
   ]
  },
  {
   "cell_type": "code",
   "execution_count": 17,
   "metadata": {},
   "outputs": [
    {
     "data": {
      "text/plain": [
       "Loss    113\n",
       "Win     113\n",
       "Name: Results, dtype: int64"
      ]
     },
     "execution_count": 17,
     "metadata": {},
     "output_type": "execute_result"
    }
   ],
   "source": [
    "df.Results.value_counts() #result is win/loss,  binary classification"
   ]
  },
  {
   "cell_type": "code",
   "execution_count": 18,
   "metadata": {},
   "outputs": [
    {
     "data": {
      "text/plain": [
       "0"
      ]
     },
     "execution_count": 18,
     "metadata": {},
     "output_type": "execute_result"
    }
   ],
   "source": [
    "df.Results.isnull().sum()"
   ]
  },
  {
   "cell_type": "code",
   "execution_count": 19,
   "metadata": {},
   "outputs": [
    {
     "data": {
      "text/plain": [
       "array(['Loss', 'Win'], dtype=object)"
      ]
     },
     "execution_count": 19,
     "metadata": {},
     "output_type": "execute_result"
    }
   ],
   "source": [
    "pd.unique(df.Results)"
   ]
  },
  {
   "cell_type": "code",
   "execution_count": 20,
   "metadata": {},
   "outputs": [
    {
     "data": {
      "text/plain": [
       "Results\n",
       "Loss    113\n",
       "Win     113\n",
       "Name: Fighter, dtype: int64"
      ]
     },
     "execution_count": 20,
     "metadata": {},
     "output_type": "execute_result"
    }
   ],
   "source": [
    "df.groupby('Results')['Fighter'].count()"
   ]
  },
  {
   "cell_type": "markdown",
   "metadata": {},
   "source": [
    "<font color=  #3498db >\n",
    "\n",
    "Second Target"
   ]
  },
  {
   "cell_type": "code",
   "execution_count": 21,
   "metadata": {},
   "outputs": [
    {
     "data": {
      "text/plain": [
       "score           108\n",
       "submission       70\n",
       "ref decision     42\n",
       "forfeit           6\n",
       "Name: How, dtype: int64"
      ]
     },
     "execution_count": 21,
     "metadata": {},
     "output_type": "execute_result"
    }
   ],
   "source": [
    "df.How.value_counts() #how match was won - 4 categories, multiclass classification"
   ]
  },
  {
   "cell_type": "code",
   "execution_count": 22,
   "metadata": {},
   "outputs": [
    {
     "data": {
      "text/plain": [
       "0"
      ]
     },
     "execution_count": 22,
     "metadata": {},
     "output_type": "execute_result"
    }
   ],
   "source": [
    "df.How.isnull().sum()"
   ]
  },
  {
   "cell_type": "code",
   "execution_count": 23,
   "metadata": {},
   "outputs": [
    {
     "data": {
      "text/plain": [
       "array(['ref decision', 'submission', 'score', 'forfeit'], dtype=object)"
      ]
     },
     "execution_count": 23,
     "metadata": {},
     "output_type": "execute_result"
    }
   ],
   "source": [
    "pd.unique(df.How)"
   ]
  },
  {
   "cell_type": "code",
   "execution_count": 24,
   "metadata": {},
   "outputs": [
    {
     "data": {
      "text/plain": [
       "How\n",
       "forfeit           6\n",
       "ref decision     42\n",
       "score           108\n",
       "submission       70\n",
       "Name: Fighter, dtype: int64"
      ]
     },
     "execution_count": 24,
     "metadata": {},
     "output_type": "execute_result"
    }
   ],
   "source": [
    "df.groupby('How')['Fighter'].count()"
   ]
  },
  {
   "cell_type": "markdown",
   "metadata": {},
   "source": [
    "<font color= #28b463>\n",
    "\n",
    "## Model Prediction"
   ]
  },
  {
   "cell_type": "code",
   "execution_count": 25,
   "metadata": {},
   "outputs": [
    {
     "data": {
      "text/html": [
       "<div>\n",
       "<style scoped>\n",
       "    .dataframe tbody tr th:only-of-type {\n",
       "        vertical-align: middle;\n",
       "    }\n",
       "\n",
       "    .dataframe tbody tr th {\n",
       "        vertical-align: top;\n",
       "    }\n",
       "\n",
       "    .dataframe thead th {\n",
       "        text-align: right;\n",
       "    }\n",
       "</style>\n",
       "<table border=\"1\" class=\"dataframe\">\n",
       "  <thead>\n",
       "    <tr style=\"text-align: right;\">\n",
       "      <th></th>\n",
       "      <th>Gender</th>\n",
       "      <th>Weight</th>\n",
       "      <th>Championship</th>\n",
       "      <th>Round</th>\n",
       "      <th>Fighter</th>\n",
       "      <th>Opponant</th>\n",
       "      <th>Points</th>\n",
       "      <th>Result</th>\n",
       "      <th>How</th>\n",
       "      <th>Time</th>\n",
       "      <th>...</th>\n",
       "      <th>Num_IBJJF_medals</th>\n",
       "      <th>MR_IBJJF_place</th>\n",
       "      <th>MR_Other_yr</th>\n",
       "      <th>Other_belt</th>\n",
       "      <th>Num_Other_medals</th>\n",
       "      <th>MR_Other_place</th>\n",
       "      <th>Birthdate</th>\n",
       "      <th>Belt_date</th>\n",
       "      <th>Birthdate_DT</th>\n",
       "      <th>Belt_date_DT</th>\n",
       "    </tr>\n",
       "  </thead>\n",
       "  <tbody>\n",
       "    <tr>\n",
       "      <th>0</th>\n",
       "      <td>Male</td>\n",
       "      <td>Men -66kg</td>\n",
       "      <td>Championship</td>\n",
       "      <td>Semi-Finals</td>\n",
       "      <td>Paulo Miyao</td>\n",
       "      <td>Augusto \"Tanquinho\" Mendes</td>\n",
       "      <td>0</td>\n",
       "      <td>l</td>\n",
       "      <td>ref decision</td>\n",
       "      <td>15:00</td>\n",
       "      <td>...</td>\n",
       "      <td>6.0</td>\n",
       "      <td>1.0</td>\n",
       "      <td>2019.0</td>\n",
       "      <td>black</td>\n",
       "      <td>6.0</td>\n",
       "      <td>1.0</td>\n",
       "      <td>1991-05-11 00:00:00</td>\n",
       "      <td>2013-06-01</td>\n",
       "      <td>1991-05-11</td>\n",
       "      <td>2013-06-01</td>\n",
       "    </tr>\n",
       "    <tr>\n",
       "      <th>1</th>\n",
       "      <td>Male</td>\n",
       "      <td>Men -77kg</td>\n",
       "      <td>Consolation</td>\n",
       "      <td>Consolation</td>\n",
       "      <td>Garry Tonon</td>\n",
       "      <td>Dante Leon</td>\n",
       "      <td>0</td>\n",
       "      <td>w</td>\n",
       "      <td>submission</td>\n",
       "      <td>5:22</td>\n",
       "      <td>...</td>\n",
       "      <td>1.0</td>\n",
       "      <td>3.0</td>\n",
       "      <td>2016.0</td>\n",
       "      <td>black</td>\n",
       "      <td>4.0</td>\n",
       "      <td>1.0</td>\n",
       "      <td>1991-09-12 00:00:00</td>\n",
       "      <td>2013-09-01</td>\n",
       "      <td>1991-09-12</td>\n",
       "      <td>2013-09-01</td>\n",
       "    </tr>\n",
       "    <tr>\n",
       "      <th>2</th>\n",
       "      <td>Male</td>\n",
       "      <td>Men -88kg</td>\n",
       "      <td>Consolation</td>\n",
       "      <td>Consolation</td>\n",
       "      <td>Josh Hinger</td>\n",
       "      <td>Jon Blank</td>\n",
       "      <td>3</td>\n",
       "      <td>w</td>\n",
       "      <td>score</td>\n",
       "      <td>10:00</td>\n",
       "      <td>...</td>\n",
       "      <td>4.0</td>\n",
       "      <td>1.0</td>\n",
       "      <td>2017.0</td>\n",
       "      <td>black</td>\n",
       "      <td>9.0</td>\n",
       "      <td>1.0</td>\n",
       "      <td>1982-05-28 00:00:00</td>\n",
       "      <td>2013-12-01</td>\n",
       "      <td>1982-05-28</td>\n",
       "      <td>2013-12-01</td>\n",
       "    </tr>\n",
       "  </tbody>\n",
       "</table>\n",
       "<p>3 rows × 63 columns</p>\n",
       "</div>"
      ],
      "text/plain": [
       "  Gender     Weight  Championship        Round      Fighter  \\\n",
       "0   Male  Men -66kg  Championship  Semi-Finals  Paulo Miyao   \n",
       "1   Male  Men -77kg   Consolation  Consolation  Garry Tonon   \n",
       "2   Male  Men -88kg   Consolation  Consolation  Josh Hinger   \n",
       "\n",
       "                     Opponant  Points Result           How   Time  ...  \\\n",
       "0  Augusto \"Tanquinho\" Mendes       0      l  ref decision  15:00  ...   \n",
       "1                  Dante Leon       0      w    submission   5:22  ...   \n",
       "2                   Jon Blank       3      w         score  10:00  ...   \n",
       "\n",
       "  Num_IBJJF_medals  MR_IBJJF_place MR_Other_yr Other_belt Num_Other_medals  \\\n",
       "0              6.0             1.0      2019.0      black              6.0   \n",
       "1              1.0             3.0      2016.0      black              4.0   \n",
       "2              4.0             1.0      2017.0      black              9.0   \n",
       "\n",
       "  MR_Other_place            Birthdate  Belt_date Birthdate_DT Belt_date_DT  \n",
       "0            1.0  1991-05-11 00:00:00 2013-06-01   1991-05-11   2013-06-01  \n",
       "1            1.0  1991-09-12 00:00:00 2013-09-01   1991-09-12   2013-09-01  \n",
       "2            1.0  1982-05-28 00:00:00 2013-12-01   1982-05-28   2013-12-01  \n",
       "\n",
       "[3 rows x 63 columns]"
      ]
     },
     "execution_count": 25,
     "metadata": {},
     "output_type": "execute_result"
    }
   ],
   "source": [
    "df.head(3)"
   ]
  },
  {
   "cell_type": "code",
   "execution_count": 26,
   "metadata": {},
   "outputs": [
    {
     "data": {
      "text/plain": [
       "Index(['Gender', 'Weight', 'Championship', 'Round', 'Fighter', 'Opponant',\n",
       "       'Points', 'Result', 'How', 'Time', 'Day', 'Match No', 'Place',\n",
       "       'Entrance', 'Gym', 'Belt', 'Medal_ADCC', 'ADCC_place', 'ADCC_Year',\n",
       "       'ADCC_years_competed', 'Num_ADCC_comp', 'Trails_winner', 'Trials_Year',\n",
       "       'Trails_place', 'Highest_ADCC_place', 'Max_ADCC_medals',\n",
       "       'MR_ADCC_Medal_yr', 'Highest_Trials_place', 'Max_tr_medals',\n",
       "       'MR_tr_Medal_yr', 'age_float', 'blackbelt_float', 'Results', 'RoundNo',\n",
       "       'Min', 'Sec', 'Seconds', 'KGWeight', 'How_weighted', 'How_weighted_2',\n",
       "       'Result_score', 'Final_WL_Score', 'Place_score', 'Place_num',\n",
       "       'IBJJF_world', 'IBJJF_majors', 'Other_tours', 'MR_IBJJF_W_yr',\n",
       "       'IBJJF_W_belt', 'Num_IBJJF_W_medals', 'MR_IBJJF_W_place', 'MR_IBJJF_yr',\n",
       "       'IBJJF_belt', 'Num_IBJJF_medals', 'MR_IBJJF_place', 'MR_Other_yr',\n",
       "       'Other_belt', 'Num_Other_medals', 'MR_Other_place', 'Birthdate',\n",
       "       'Belt_date', 'Birthdate_DT', 'Belt_date_DT'],\n",
       "      dtype='object')"
      ]
     },
     "execution_count": 26,
     "metadata": {},
     "output_type": "execute_result"
    }
   ],
   "source": [
    "df.columns"
   ]
  },
  {
   "cell_type": "markdown",
   "metadata": {},
   "source": [
    "Original data from the ADCC tournament contained multiple features for how the matches concluded. For the prediction model, I dropped all match outcome data that would lead to target data leakage. We will keep only fighter history, ADCC entrance info, and results and how the match concluded (two targets) for the prediction."
   ]
  },
  {
   "cell_type": "code",
   "execution_count": 14,
   "metadata": {},
   "outputs": [],
   "source": [
    "df1 = df[['Results', #'How', #target\n",
    "          'Gender','Weight','Fighter','Opponant','Entrance','Gym', #match entrace data\n",
    "          'Belt','age_float','blackbelt_float', #fighter info\n",
    "          'Num_ADCC_comp','Highest_ADCC_place','Max_ADCC_medals','MR_ADCC_Medal_yr','Highest_Trials_place',\n",
    "          'Max_tr_medals','MR_tr_Medal_yr',\n",
    "          #'IBJJF_world', 'IBJJF_majors','Other_tours', \n",
    "          'MR_IBJJF_W_yr', 'IBJJF_W_belt', 'Num_IBJJF_W_medals','MR_IBJJF_W_place', 'MR_IBJJF_yr', 'IBJJF_belt', \n",
    "          'Num_IBJJF_medals','MR_IBJJF_place', 'MR_Other_yr', 'Other_belt', 'Num_Other_medals','MR_Other_place'\n",
    "         ]]"
   ]
  },
  {
   "cell_type": "code",
   "execution_count": 79,
   "metadata": {},
   "outputs": [
    {
     "data": {
      "text/plain": [
       "(226, 28)"
      ]
     },
     "execution_count": 79,
     "metadata": {},
     "output_type": "execute_result"
    }
   ],
   "source": [
    "df1.shape"
   ]
  },
  {
   "cell_type": "code",
   "execution_count": 15,
   "metadata": {},
   "outputs": [],
   "source": [
    "#we fill missing values with a zero because if the fighters do not have a medal in past tournaments, they get a score of zero\n",
    "df1.fillna(0, inplace=True)"
   ]
  },
  {
   "cell_type": "code",
   "execution_count": 16,
   "metadata": {
    "scrolled": true
   },
   "outputs": [],
   "source": [
    "df1.Num_ADCC_comp= df1.Num_ADCC_comp.astype(int)\n",
    "df1.Highest_ADCC_place= df1.Highest_ADCC_place.astype(int)\n",
    "df1.Max_ADCC_medals= df1.Max_ADCC_medals.astype(int)\n",
    "df1.MR_ADCC_Medal_yr= df1.MR_ADCC_Medal_yr.astype(int)\n",
    "df1.Highest_Trials_place= df1.Highest_Trials_place.astype(int)\n",
    "df1.Max_tr_medals= df1.Max_tr_medals.astype(int)\n",
    "df1.MR_tr_Medal_yr= df1.MR_tr_Medal_yr.astype(int)\n",
    "\n",
    "df1.MR_IBJJF_W_yr= df1.MR_IBJJF_W_yr.astype(int)\n",
    "df1.Num_IBJJF_W_medals= df1.Num_IBJJF_W_medals.astype(int)\n",
    "df1.MR_IBJJF_W_place= df1.MR_IBJJF_W_place.astype(int)\n",
    "\n",
    "df1.MR_IBJJF_yr= df1.MR_IBJJF_yr.astype(int)\n",
    "df1.Num_IBJJF_medals= df1.Num_IBJJF_medals.astype(int)\n",
    "df1.MR_IBJJF_place= df1.MR_IBJJF_place.astype(int)\n",
    "df1.MR_Other_yr= df1.MR_Other_yr.astype(int)\n",
    "df1.Num_Other_medals= df1.Num_Other_medals.astype(int)\n",
    "df1.MR_Other_place= df1.MR_Other_place.astype(int)\n",
    "\n",
    "df1.age_float= df1.age_float.astype(int)\n",
    "df1.blackbelt_float= df1.blackbelt_float.astype(int)"
   ]
  },
  {
   "cell_type": "code",
   "execution_count": 17,
   "metadata": {},
   "outputs": [],
   "source": [
    "df1.Gym= df1.Gym.astype(str)\n",
    "df1.Belt= df1.Belt.astype(str)\n",
    "df1.Entrance= df1.Entrance.astype(str)\n",
    "df1.IBJJF_W_belt= df1.IBJJF_W_belt.astype(str)\n",
    "df1.IBJJF_belt= df1.IBJJF_belt.astype(str)\n",
    "df1.Other_belt= df1.Other_belt.astype(str)"
   ]
  },
  {
   "cell_type": "markdown",
   "metadata": {},
   "source": [
    "<font color=  #3498db >\n",
    "\n",
    "#### One Hot Encoding"
   ]
  },
  {
   "cell_type": "code",
   "execution_count": 18,
   "metadata": {},
   "outputs": [
    {
     "data": {
      "text/html": [
       "<div>\n",
       "<style scoped>\n",
       "    .dataframe tbody tr th:only-of-type {\n",
       "        vertical-align: middle;\n",
       "    }\n",
       "\n",
       "    .dataframe tbody tr th {\n",
       "        vertical-align: top;\n",
       "    }\n",
       "\n",
       "    .dataframe thead th {\n",
       "        text-align: right;\n",
       "    }\n",
       "</style>\n",
       "<table border=\"1\" class=\"dataframe\">\n",
       "  <thead>\n",
       "    <tr style=\"text-align: right;\">\n",
       "      <th></th>\n",
       "      <th>Results</th>\n",
       "    </tr>\n",
       "  </thead>\n",
       "  <tbody>\n",
       "    <tr>\n",
       "      <th>0</th>\n",
       "      <td>0</td>\n",
       "    </tr>\n",
       "    <tr>\n",
       "      <th>1</th>\n",
       "      <td>1</td>\n",
       "    </tr>\n",
       "    <tr>\n",
       "      <th>2</th>\n",
       "      <td>1</td>\n",
       "    </tr>\n",
       "  </tbody>\n",
       "</table>\n",
       "</div>"
      ],
      "text/plain": [
       "   Results\n",
       "0        0\n",
       "1        1\n",
       "2        1"
      ]
     },
     "execution_count": 18,
     "metadata": {},
     "output_type": "execute_result"
    }
   ],
   "source": [
    "#label encode the target column\n",
    "from sklearn.preprocessing import LabelEncoder\n",
    "\n",
    "target = ['Results']\n",
    "\n",
    "encoder = LabelEncoder()\n",
    "\n",
    "# Apply the label encoder to each column\n",
    "encoded = df1[target].apply(encoder.fit_transform)\n",
    "encoded.head(3)"
   ]
  },
  {
   "cell_type": "code",
   "execution_count": 19,
   "metadata": {},
   "outputs": [],
   "source": [
    "# segment categorical features\n",
    "\n",
    "cat_features = ['Gender','Weight','Fighter','Opponant',\n",
    "       'Entrance','Gym','Belt','IBJJF_W_belt', 'IBJJF_belt','Other_belt',\n",
    "               ]"
   ]
  },
  {
   "cell_type": "code",
   "execution_count": 20,
   "metadata": {
    "scrolled": true
   },
   "outputs": [],
   "source": [
    "#ohe with pandas get_dummies for categorical features, drop the target\n",
    "df1.drop(columns=['Results'], inplace=True)\n",
    "data = pd.get_dummies(df1,prefix_sep=\"__\",\n",
    "                              columns=cat_features)"
   ]
  },
  {
   "cell_type": "code",
   "execution_count": 21,
   "metadata": {},
   "outputs": [
    {
     "data": {
      "text/html": [
       "<div>\n",
       "<style scoped>\n",
       "    .dataframe tbody tr th:only-of-type {\n",
       "        vertical-align: middle;\n",
       "    }\n",
       "\n",
       "    .dataframe tbody tr th {\n",
       "        vertical-align: top;\n",
       "    }\n",
       "\n",
       "    .dataframe thead th {\n",
       "        text-align: right;\n",
       "    }\n",
       "</style>\n",
       "<table border=\"1\" class=\"dataframe\">\n",
       "  <thead>\n",
       "    <tr style=\"text-align: right;\">\n",
       "      <th></th>\n",
       "      <th>age_float</th>\n",
       "      <th>blackbelt_float</th>\n",
       "      <th>Num_ADCC_comp</th>\n",
       "      <th>Highest_ADCC_place</th>\n",
       "      <th>Max_ADCC_medals</th>\n",
       "      <th>MR_ADCC_Medal_yr</th>\n",
       "      <th>Highest_Trials_place</th>\n",
       "      <th>Max_tr_medals</th>\n",
       "      <th>MR_tr_Medal_yr</th>\n",
       "      <th>MR_IBJJF_W_yr</th>\n",
       "      <th>...</th>\n",
       "      <th>IBJJF_W_belt__brown</th>\n",
       "      <th>IBJJF_W_belt__purple</th>\n",
       "      <th>IBJJF_belt__0</th>\n",
       "      <th>IBJJF_belt__black</th>\n",
       "      <th>IBJJF_belt__brown</th>\n",
       "      <th>IBJJF_belt__purple</th>\n",
       "      <th>Other_belt__0</th>\n",
       "      <th>Other_belt__black</th>\n",
       "      <th>Other_belt__brown</th>\n",
       "      <th>Other_belt__purple</th>\n",
       "    </tr>\n",
       "  </thead>\n",
       "  <tbody>\n",
       "    <tr>\n",
       "      <th>0</th>\n",
       "      <td>28</td>\n",
       "      <td>6</td>\n",
       "      <td>1</td>\n",
       "      <td>3</td>\n",
       "      <td>1</td>\n",
       "      <td>2019</td>\n",
       "      <td>0</td>\n",
       "      <td>0</td>\n",
       "      <td>0</td>\n",
       "      <td>2019</td>\n",
       "      <td>...</td>\n",
       "      <td>0</td>\n",
       "      <td>0</td>\n",
       "      <td>0</td>\n",
       "      <td>1</td>\n",
       "      <td>0</td>\n",
       "      <td>0</td>\n",
       "      <td>0</td>\n",
       "      <td>1</td>\n",
       "      <td>0</td>\n",
       "      <td>0</td>\n",
       "    </tr>\n",
       "    <tr>\n",
       "      <th>1</th>\n",
       "      <td>28</td>\n",
       "      <td>6</td>\n",
       "      <td>4</td>\n",
       "      <td>0</td>\n",
       "      <td>0</td>\n",
       "      <td>2019</td>\n",
       "      <td>0</td>\n",
       "      <td>0</td>\n",
       "      <td>0</td>\n",
       "      <td>0</td>\n",
       "      <td>...</td>\n",
       "      <td>0</td>\n",
       "      <td>0</td>\n",
       "      <td>0</td>\n",
       "      <td>1</td>\n",
       "      <td>0</td>\n",
       "      <td>0</td>\n",
       "      <td>0</td>\n",
       "      <td>1</td>\n",
       "      <td>0</td>\n",
       "      <td>0</td>\n",
       "    </tr>\n",
       "    <tr>\n",
       "      <th>2</th>\n",
       "      <td>37</td>\n",
       "      <td>6</td>\n",
       "      <td>1</td>\n",
       "      <td>0</td>\n",
       "      <td>0</td>\n",
       "      <td>2019</td>\n",
       "      <td>1</td>\n",
       "      <td>1</td>\n",
       "      <td>2019</td>\n",
       "      <td>0</td>\n",
       "      <td>...</td>\n",
       "      <td>0</td>\n",
       "      <td>0</td>\n",
       "      <td>0</td>\n",
       "      <td>1</td>\n",
       "      <td>0</td>\n",
       "      <td>0</td>\n",
       "      <td>0</td>\n",
       "      <td>1</td>\n",
       "      <td>0</td>\n",
       "      <td>0</td>\n",
       "    </tr>\n",
       "    <tr>\n",
       "      <th>3</th>\n",
       "      <td>27</td>\n",
       "      <td>4</td>\n",
       "      <td>1</td>\n",
       "      <td>0</td>\n",
       "      <td>0</td>\n",
       "      <td>2019</td>\n",
       "      <td>0</td>\n",
       "      <td>0</td>\n",
       "      <td>0</td>\n",
       "      <td>2018</td>\n",
       "      <td>...</td>\n",
       "      <td>0</td>\n",
       "      <td>0</td>\n",
       "      <td>0</td>\n",
       "      <td>1</td>\n",
       "      <td>0</td>\n",
       "      <td>0</td>\n",
       "      <td>0</td>\n",
       "      <td>1</td>\n",
       "      <td>0</td>\n",
       "      <td>0</td>\n",
       "    </tr>\n",
       "    <tr>\n",
       "      <th>4</th>\n",
       "      <td>29</td>\n",
       "      <td>9</td>\n",
       "      <td>3</td>\n",
       "      <td>1</td>\n",
       "      <td>4</td>\n",
       "      <td>2017</td>\n",
       "      <td>0</td>\n",
       "      <td>0</td>\n",
       "      <td>0</td>\n",
       "      <td>2019</td>\n",
       "      <td>...</td>\n",
       "      <td>0</td>\n",
       "      <td>0</td>\n",
       "      <td>0</td>\n",
       "      <td>1</td>\n",
       "      <td>0</td>\n",
       "      <td>0</td>\n",
       "      <td>0</td>\n",
       "      <td>1</td>\n",
       "      <td>0</td>\n",
       "      <td>0</td>\n",
       "    </tr>\n",
       "  </tbody>\n",
       "</table>\n",
       "<p>5 rows × 296 columns</p>\n",
       "</div>"
      ],
      "text/plain": [
       "   age_float  blackbelt_float  Num_ADCC_comp  Highest_ADCC_place  \\\n",
       "0         28                6              1                   3   \n",
       "1         28                6              4                   0   \n",
       "2         37                6              1                   0   \n",
       "3         27                4              1                   0   \n",
       "4         29                9              3                   1   \n",
       "\n",
       "   Max_ADCC_medals  MR_ADCC_Medal_yr  Highest_Trials_place  Max_tr_medals  \\\n",
       "0                1              2019                     0              0   \n",
       "1                0              2019                     0              0   \n",
       "2                0              2019                     1              1   \n",
       "3                0              2019                     0              0   \n",
       "4                4              2017                     0              0   \n",
       "\n",
       "   MR_tr_Medal_yr  MR_IBJJF_W_yr  ...  IBJJF_W_belt__brown  \\\n",
       "0               0           2019  ...                    0   \n",
       "1               0              0  ...                    0   \n",
       "2            2019              0  ...                    0   \n",
       "3               0           2018  ...                    0   \n",
       "4               0           2019  ...                    0   \n",
       "\n",
       "   IBJJF_W_belt__purple  IBJJF_belt__0  IBJJF_belt__black  IBJJF_belt__brown  \\\n",
       "0                     0              0                  1                  0   \n",
       "1                     0              0                  1                  0   \n",
       "2                     0              0                  1                  0   \n",
       "3                     0              0                  1                  0   \n",
       "4                     0              0                  1                  0   \n",
       "\n",
       "   IBJJF_belt__purple  Other_belt__0  Other_belt__black  Other_belt__brown  \\\n",
       "0                   0              0                  1                  0   \n",
       "1                   0              0                  1                  0   \n",
       "2                   0              0                  1                  0   \n",
       "3                   0              0                  1                  0   \n",
       "4                   0              0                  1                  0   \n",
       "\n",
       "   Other_belt__purple  \n",
       "0                   0  \n",
       "1                   0  \n",
       "2                   0  \n",
       "3                   0  \n",
       "4                   0  \n",
       "\n",
       "[5 rows x 296 columns]"
      ]
     },
     "execution_count": 21,
     "metadata": {},
     "output_type": "execute_result"
    }
   ],
   "source": [
    "data.head()"
   ]
  },
  {
   "cell_type": "code",
   "execution_count": 21,
   "metadata": {},
   "outputs": [
    {
     "data": {
      "text/plain": [
       "Index(['age_float', 'blackbelt_float', 'Num_ADCC_comp', 'Highest_ADCC_place',\n",
       "       'Max_ADCC_medals', 'MR_ADCC_Medal_yr', 'Highest_Trials_place',\n",
       "       'Max_tr_medals', 'MR_tr_Medal_yr', 'MR_IBJJF_W_yr',\n",
       "       ...\n",
       "       'IBJJF_W_belt__brown', 'IBJJF_W_belt__purple', 'IBJJF_belt__0',\n",
       "       'IBJJF_belt__black', 'IBJJF_belt__brown', 'IBJJF_belt__purple',\n",
       "       'Other_belt__0', 'Other_belt__black', 'Other_belt__brown',\n",
       "       'Other_belt__purple'],\n",
       "      dtype='object', length=296)"
      ]
     },
     "execution_count": 21,
     "metadata": {},
     "output_type": "execute_result"
    }
   ],
   "source": [
    "data.columns"
   ]
  },
  {
   "cell_type": "code",
   "execution_count": 22,
   "metadata": {},
   "outputs": [],
   "source": [
    "data.fillna(0, inplace=True)"
   ]
  },
  {
   "cell_type": "code",
   "execution_count": 23,
   "metadata": {
    "scrolled": true
   },
   "outputs": [],
   "source": [
    "# from sklearn import preprocessing\n",
    "# le = preprocessing.LabelEncoder()\n",
    "\n",
    "# #encode all column features into array\n",
    "# for col in df1.columns:\n",
    "#     df1[col]=le.fit_transform(df1[col])  "
   ]
  },
  {
   "cell_type": "code",
   "execution_count": 24,
   "metadata": {},
   "outputs": [
    {
     "name": "stdout",
     "output_type": "stream",
     "text": [
      "StandardScaler(copy=True, with_mean=True, with_std=True)\n"
     ]
    }
   ],
   "source": [
    "from sklearn.preprocessing import StandardScaler\n",
    "scaler = StandardScaler()\n",
    "print(scaler.fit(data))"
   ]
  },
  {
   "cell_type": "code",
   "execution_count": null,
   "metadata": {},
   "outputs": [],
   "source": [
    "print(scaler.mean_)"
   ]
  },
  {
   "cell_type": "code",
   "execution_count": 25,
   "metadata": {},
   "outputs": [
    {
     "name": "stdout",
     "output_type": "stream",
     "text": [
      "[[ 0.03265331  0.31041175 -0.67379752 ...  0.74023321 -0.1159867\n",
      "  -0.09449112]\n",
      " [ 0.03265331  0.31041175  1.51201453 ...  0.74023321 -0.1159867\n",
      "  -0.09449112]\n",
      " [ 1.87756512  0.31041175 -0.67379752 ...  0.74023321 -0.1159867\n",
      "  -0.09449112]\n",
      " ...\n",
      " [-0.7873075  -0.86271627 -0.67379752 ...  0.74023321 -0.1159867\n",
      "  -0.09449112]\n",
      " [ 0.44263371  0.07578615 -0.67379752 ...  0.74023321 -0.1159867\n",
      "  -0.09449112]\n",
      " [ 0.03265331 -1.09734187 -1.40240154 ... -1.35092561 -0.1159867\n",
      "  -0.09449112]]\n"
     ]
    }
   ],
   "source": [
    "print(scaler.transform(data))"
   ]
  },
  {
   "cell_type": "code",
   "execution_count": 26,
   "metadata": {},
   "outputs": [],
   "source": [
    "y = encoded #data['Results']\n",
    "X = data"
   ]
  },
  {
   "cell_type": "code",
   "execution_count": 27,
   "metadata": {},
   "outputs": [
    {
     "data": {
      "text/plain": [
       "(226, 296)"
      ]
     },
     "metadata": {},
     "output_type": "display_data"
    },
    {
     "data": {
      "text/plain": [
       "(226, 1)"
      ]
     },
     "metadata": {},
     "output_type": "display_data"
    }
   ],
   "source": [
    "display(X.shape)\n",
    "display(y.shape)"
   ]
  },
  {
   "cell_type": "code",
   "execution_count": 28,
   "metadata": {},
   "outputs": [],
   "source": [
    "from sklearn.model_selection import train_test_split\n",
    "\n",
    "# Split dataset into training set and test set\n",
    "X_train, X_test, y_train, y_test = train_test_split(X,y, test_size=0.25,random_state=109)"
   ]
  },
  {
   "cell_type": "code",
   "execution_count": 29,
   "metadata": {},
   "outputs": [
    {
     "name": "stdout",
     "output_type": "stream",
     "text": [
      "Training X_train Shape: (169, 296)\n",
      "Training y_train Shape: (169, 1)\n",
      "Testing X_test Shape: (57, 296)\n",
      "Testing y_test Shape: (57, 1)\n"
     ]
    }
   ],
   "source": [
    "print('Training X_train Shape:', X_train.shape)\n",
    "print('Training y_train Shape:', y_train.shape)\n",
    "print('Testing X_test Shape:', X_test.shape)\n",
    "print('Testing y_test Shape:', y_test.shape)"
   ]
  },
  {
   "cell_type": "markdown",
   "metadata": {},
   "source": [
    "<font color= #28b463>\n",
    "    \n",
    "### Target 1: Results (Win/Loss)"
   ]
  },
  {
   "cell_type": "markdown",
   "metadata": {},
   "source": [
    "<font color=  #3498db >\n",
    "\n",
    "#### K Nearest Neighbors"
   ]
  },
  {
   "cell_type": "code",
   "execution_count": 56,
   "metadata": {},
   "outputs": [
    {
     "data": {
      "text/plain": [
       "KNeighborsClassifier(algorithm='auto', leaf_size=30, metric='minkowski',\n",
       "                     metric_params=None, n_jobs=None, n_neighbors=1, p=2,\n",
       "                     weights='uniform')"
      ]
     },
     "execution_count": 56,
     "metadata": {},
     "output_type": "execute_result"
    }
   ],
   "source": [
    "from sklearn.neighbors import KNeighborsClassifier\n",
    "knn = KNeighborsClassifier(n_neighbors=1)\n",
    "knn.fit(X_train, y_train)"
   ]
  },
  {
   "cell_type": "code",
   "execution_count": 57,
   "metadata": {},
   "outputs": [
    {
     "name": "stdout",
     "output_type": "stream",
     "text": [
      "Test set score: 0.56\n"
     ]
    }
   ],
   "source": [
    "print(\"Test set score: {:.2f}\".format(knn.score(X_test, y_test)))"
   ]
  },
  {
   "cell_type": "code",
   "execution_count": 34,
   "metadata": {},
   "outputs": [
    {
     "data": {
      "image/png": "[encoded data removed]",
      "text/plain": [
       "<Figure size 432x288 with 1 Axes>"
      ]
     },
     "metadata": {
      "needs_background": "light"
     },
     "output_type": "display_data"
    }
   ],
   "source": [
    "import matplotlib.pyplot as plt\n",
    "\n",
    "training_accuracy = []\n",
    "test_accuracy = []\n",
    "neighbors_settings = range (1,11)\n",
    "\n",
    "for n_neighbors in neighbors_settings:\n",
    "    knn = KNeighborsClassifier(n_neighbors=n_neighbors)\n",
    "    knn.fit(X_train, y_train)\n",
    "    training_accuracy.append(knn.score(X_train, y_train))\n",
    "    test_accuracy.append(knn.score(X_test, y_test))\n",
    "\n",
    "plt.plot(neighbors_settings, training_accuracy, label='training_accuracy')\n",
    "plt.plot(neighbors_settings, test_accuracy, label='test_accuracy')\n",
    "plt.xlabel('n_neighbors')\n",
    "plt.ylabel('Accuracy')\n",
    "plt.legend()\n",
    "plt.show()"
   ]
  },
  {
   "cell_type": "markdown",
   "metadata": {},
   "source": [
    "<font color= #28b463>\n",
    "Best neighbors is 5 to 6 to avoid over and underfitting. The model's performance is 61% using KNN. However, with one-hot encoding, the dataset is has 296 features and a handful have 0 most of the time (sparse dataset). We use the KNN accuracy as the baseline, but continue to compare models below."
   ]
  },
  {
   "cell_type": "code",
   "execution_count": 58,
   "metadata": {},
   "outputs": [
    {
     "name": "stdout",
     "output_type": "stream",
     "text": [
      "Test set score: 0.61\n"
     ]
    }
   ],
   "source": [
    "from sklearn.neighbors import KNeighborsClassifier\n",
    "knn = KNeighborsClassifier(n_neighbors=6)\n",
    "knn.fit(X_train, y_train)\n",
    "\n",
    "print(\"Test set score: {:.2f}\".format(knn.score(X_test, y_test)))"
   ]
  },
  {
   "cell_type": "markdown",
   "metadata": {},
   "source": [
    "<font color=  #3498db >\n",
    "\n",
    "#### Random Forest"
   ]
  },
  {
   "cell_type": "code",
   "execution_count": 127,
   "metadata": {
    "scrolled": true
   },
   "outputs": [],
   "source": [
    "from sklearn.ensemble import RandomForestClassifier\n",
    "clf = RandomForestClassifier(n_estimators=100, random_state=0)\n",
    "\n",
    "clf.fit(X_train, y_train)\n",
    "\n",
    "predicted= clf.predict(X_test) "
   ]
  },
  {
   "cell_type": "code",
   "execution_count": 128,
   "metadata": {},
   "outputs": [
    {
     "name": "stdout",
     "output_type": "stream",
     "text": [
      "Accuracy: 0.543859649122807\n"
     ]
    }
   ],
   "source": [
    "from sklearn import metrics\n",
    "print(\"Accuracy:\",metrics.accuracy_score(y_test, predicted))"
   ]
  },
  {
   "cell_type": "code",
   "execution_count": 129,
   "metadata": {},
   "outputs": [
    {
     "name": "stdout",
     "output_type": "stream",
     "text": [
      "              precision    recall  f1-score   support\n",
      "\n",
      "           0       0.54      0.46      0.50        28\n",
      "           1       0.55      0.62      0.58        29\n",
      "\n",
      "    accuracy                           0.54        57\n",
      "   macro avg       0.54      0.54      0.54        57\n",
      "weighted avg       0.54      0.54      0.54        57\n",
      "\n"
     ]
    }
   ],
   "source": [
    "print(metrics.classification_report(y_test, predicted))"
   ]
  },
  {
   "cell_type": "code",
   "execution_count": 130,
   "metadata": {},
   "outputs": [
    {
     "data": {
      "text/plain": [
       "array([[14, 13],\n",
       "       [14, 16]], dtype=int64)"
      ]
     },
     "execution_count": 130,
     "metadata": {},
     "output_type": "execute_result"
    }
   ],
   "source": [
    "#cross validating \n",
    "from sklearn.model_selection import cross_val_predict\n",
    "from sklearn.metrics import confusion_matrix, accuracy_score\n",
    "\n",
    "y_pred_cv = cross_val_predict(clf, X_test, y_test, cv=5)\n",
    "\n",
    "confusion_matrix(y_pred_cv, y_test)"
   ]
  },
  {
   "cell_type": "code",
   "execution_count": 131,
   "metadata": {},
   "outputs": [
    {
     "name": "stdout",
     "output_type": "stream",
     "text": [
      "[0.66666667 0.83333333 0.5        0.5        0.66666667 0.66666667\n",
      " 0.5        0.33333333 0.33333333 0.5        0.5        0.83333333\n",
      " 0.5        0.33333333 0.66666667 0.66666667 0.5        0.5\n",
      " 0.5        1.         0.5        0.5        0.66666667 0.66666667\n",
      " 0.4        0.5        0.5        0.75       0.5        0.        ]\n",
      "Accuracy: 0.55 (+/- 0.36)\n"
     ]
    }
   ],
   "source": [
    "from sklearn.model_selection import cross_val_score\n",
    "cv_score = cross_val_score(clf, X_train, y_train, cv = 30)\n",
    "print(cv_score)\n",
    "print(\"Accuracy: %0.2f (+/- %0.2f)\" % (cv_score.mean(), cv_score.std() * 2))"
   ]
  },
  {
   "cell_type": "code",
   "execution_count": 132,
   "metadata": {},
   "outputs": [
    {
     "name": "stdout",
     "output_type": "stream",
     "text": [
      "Accuracy: 0.51 (+/- 0.27)\n"
     ]
    }
   ],
   "source": [
    "#Let's test the entire dataset again.\n",
    "scores = cross_val_score(clf, X, y, cv=10)\n",
    "print(\"Accuracy: %0.2f (+/- %0.2f)\" % (scores.mean(), scores.std() * 2))"
   ]
  },
  {
   "cell_type": "markdown",
   "metadata": {},
   "source": [
    "<font color=  #3498db >\n",
    "\n",
    "#### Logistic Regression"
   ]
  },
  {
   "cell_type": "code",
   "execution_count": 35,
   "metadata": {},
   "outputs": [
    {
     "name": "stdout",
     "output_type": "stream",
     "text": [
      "Training X_train Shape: (169, 296)\n",
      "Training y_train Shape: (169, 1)\n",
      "Testing X_test Shape: (57, 296)\n",
      "Testing y_test Shape: (57, 1)\n"
     ]
    }
   ],
   "source": [
    "from sklearn.model_selection import train_test_split\n",
    "X_train, X_test, y_train, y_test = train_test_split(X,y, test_size=0.25,random_state=109) \n",
    "# 75% training and 25% test\n",
    "\n",
    "print('Training X_train Shape:', X_train.shape)\n",
    "print('Training y_train Shape:', y_train.shape)\n",
    "print('Testing X_test Shape:', X_test.shape)\n",
    "print('Testing y_test Shape:', y_test.shape)"
   ]
  },
  {
   "cell_type": "code",
   "execution_count": 36,
   "metadata": {},
   "outputs": [],
   "source": [
    "from sklearn.linear_model import LogisticRegression\n",
    "lr = LogisticRegression()\n",
    "lr.fit(X_train, y_train)\n",
    "lr_predict =lr.predict(X_test)\n",
    "\n",
    "lr_predict_prob = lr.predict_proba(X_test)"
   ]
  },
  {
   "cell_type": "code",
   "execution_count": 37,
   "metadata": {},
   "outputs": [
    {
     "name": "stdout",
     "output_type": "stream",
     "text": [
      "[[15 13]\n",
      " [10 19]]\n",
      "0.5964912280701754\n"
     ]
    }
   ],
   "source": [
    "from sklearn.metrics import confusion_matrix, accuracy_score\n",
    "lr_conf_matrix = confusion_matrix(y_test, lr_predict)\n",
    "lr_accuracy = accuracy_score(y_test, lr_predict)\n",
    "print(lr_conf_matrix)\n",
    "print(lr_accuracy)"
   ]
  },
  {
   "cell_type": "code",
   "execution_count": 38,
   "metadata": {},
   "outputs": [
    {
     "name": "stdout",
     "output_type": "stream",
     "text": [
      "              precision    recall  f1-score   support\n",
      "\n",
      "           0       0.60      0.54      0.57        28\n",
      "           1       0.59      0.66      0.62        29\n",
      "\n",
      "    accuracy                           0.60        57\n",
      "   macro avg       0.60      0.60      0.59        57\n",
      "weighted avg       0.60      0.60      0.59        57\n",
      "\n"
     ]
    }
   ],
   "source": [
    "from sklearn import metrics\n",
    "print(metrics.classification_report(y_test, lr_predict))"
   ]
  },
  {
   "cell_type": "code",
   "execution_count": 39,
   "metadata": {},
   "outputs": [
    {
     "data": {
      "text/plain": [
       "array([[15, 13],\n",
       "       [13, 16]], dtype=int64)"
      ]
     },
     "execution_count": 39,
     "metadata": {},
     "output_type": "execute_result"
    }
   ],
   "source": [
    "#cross validation \n",
    "from sklearn.model_selection import cross_val_predict\n",
    "from sklearn.metrics import confusion_matrix, accuracy_score\n",
    "\n",
    "y_pred_cv = cross_val_predict(lr, X_test, y_test, cv=5)\n",
    "\n",
    "confusion_matrix(y_pred_cv, y_test)"
   ]
  },
  {
   "cell_type": "code",
   "execution_count": 40,
   "metadata": {},
   "outputs": [
    {
     "name": "stdout",
     "output_type": "stream",
     "text": [
      "[0.66666667 0.66666667 0.66666667 0.5        0.66666667 0.66666667\n",
      " 0.5        0.33333333 0.5        0.66666667 0.5        0.5\n",
      " 0.5        0.33333333 0.66666667 0.83333333 0.5        0.66666667\n",
      " 0.5        0.83333333 0.33333333 0.66666667 0.66666667 0.66666667\n",
      " 0.4        0.75       0.5        1.         0.75       0.        ]\n",
      "Accuracy: 0.58 (+/- 0.37)\n"
     ]
    }
   ],
   "source": [
    "#cross validation score\n",
    "from sklearn.model_selection import cross_val_score\n",
    "cv_score = cross_val_score(lr, X_train, y_train, cv = 30)\n",
    "print(cv_score)\n",
    "print(\"Accuracy: %0.2f (+/- %0.2f)\" % (cv_score.mean(), cv_score.std() * 2))"
   ]
  },
  {
   "cell_type": "code",
   "execution_count": 41,
   "metadata": {},
   "outputs": [
    {
     "name": "stdout",
     "output_type": "stream",
     "text": [
      "Accuracy: 0.50 (+/- 0.20)\n"
     ]
    }
   ],
   "source": [
    "# accuracy on entire dataset\n",
    "scores = cross_val_score(lr, X, y, cv=10)\n",
    "print(\"Accuracy: %0.2f (+/- %0.2f)\" % (scores.mean(), scores.std() * 2))"
   ]
  },
  {
   "cell_type": "code",
   "execution_count": 42,
   "metadata": {},
   "outputs": [
    {
     "name": "stdout",
     "output_type": "stream",
     "text": [
      "0.5964912280701754\n",
      "0.59375\n",
      "0.6551724137931034\n",
      "0.6229508196721311\n"
     ]
    }
   ],
   "source": [
    "# accuracy, precision, recall, and f1 scoring for LR\n",
    "from sklearn import metrics\n",
    "print(metrics.accuracy_score(y_test, lr_predict))\n",
    "print(metrics.precision_score(y_test, lr_predict))\n",
    "print(metrics.recall_score(y_test, lr_predict))\n",
    "print(metrics.f1_score(y_test, lr_predict))"
   ]
  },
  {
   "cell_type": "markdown",
   "metadata": {},
   "source": [
    "- Precision: tp / (tp + fp) - The number of correct positive results divided by the number of all positive results returned by the classifier. \n",
    "- Recall: tp / (tp + fn) - The number of correct positive results divided by the number of all samples that should have been identified as positive.\n",
    "- The F1 score is the harmonic mean of the precision and recall, where an F1 score reaches its best value at 1 (perfect precision and recall) and worst at 0. "
   ]
  },
  {
   "cell_type": "markdown",
   "metadata": {},
   "source": [
    "<font color=  #3498db >\n",
    "Compare to LinearSVC"
   ]
  },
  {
   "cell_type": "code",
   "execution_count": 43,
   "metadata": {},
   "outputs": [
    {
     "name": "stdout",
     "output_type": "stream",
     "text": [
      "Training Accuracy Score: 0.60\n",
      "Testing Accuracy Score: 0.63\n"
     ]
    }
   ],
   "source": [
    "# compare logistic regression to linear support vector machine classifiers\n",
    "from sklearn.svm import LinearSVC\n",
    "\n",
    "clf = LinearSVC(random_state=0, tol=1e-5)\n",
    "clf.fit(X_train, y_train)\n",
    "print(\"Training Accuracy Score: {:.2f}\".format(clf.score(X_train, y_train)))\n",
    "print(\"Testing Accuracy Score: {:.2f}\".format(clf.score(X_test, y_test)))"
   ]
  },
  {
   "cell_type": "markdown",
   "metadata": {},
   "source": [
    "<font color=  #3498db >\n",
    "Cross Validation for Logistic Regression"
   ]
  },
  {
   "cell_type": "code",
   "execution_count": 59,
   "metadata": {},
   "outputs": [
    {
     "name": "stdout",
     "output_type": "stream",
     "text": [
      "0.5666666666666667\n"
     ]
    }
   ],
   "source": [
    "# try k-fold cross-validator\n",
    "from sklearn.model_selection import cross_val_score\n",
    "from sklearn.model_selection import KFold\n",
    "\n",
    "kfold = KFold(n_splits=3, random_state=7)\n",
    "\n",
    "result = cross_val_score(lr, X, y, cv=kfold, scoring='accuracy')\n",
    "print(result.mean())"
   ]
  },
  {
   "cell_type": "code",
   "execution_count": 60,
   "metadata": {},
   "outputs": [],
   "source": [
    "from sklearn.model_selection import GridSearchCV\n",
    "\n",
    "dual=[True,False]\n",
    "max_iter=[100,110,120,130,140]\n",
    "C = [0.1,1.0,1.5,2.0,4,5,10]\n",
    "param_grid = dict(dual=dual,max_iter=max_iter,C=C)"
   ]
  },
  {
   "cell_type": "code",
   "execution_count": 64,
   "metadata": {},
   "outputs": [
    {
     "name": "stdout",
     "output_type": "stream",
     "text": [
      "Best: 0.592920 using {'C': 1.5, 'dual': True, 'max_iter': 110}\n",
      "Execution time: 6.007554531097412 ms\n"
     ]
    }
   ],
   "source": [
    "import time\n",
    "\n",
    "lr = LogisticRegression(penalty='l2')\n",
    "grid = GridSearchCV(estimator=lr, param_grid=param_grid, cv = 3, n_jobs=-1)\n",
    "\n",
    "start_time = time.time()\n",
    "grid_result = grid.fit(X, y)\n",
    "# Summarize results\n",
    "print(\"Best: %f using %s\" % (grid_result.best_score_, grid_result.best_params_))\n",
    "print(\"Execution time: \" + str((time.time() - start_time)) + ' ms')"
   ]
  },
  {
   "cell_type": "code",
   "execution_count": 62,
   "metadata": {},
   "outputs": [
    {
     "name": "stdout",
     "output_type": "stream",
     "text": [
      "Best: 0.584071 using {'max_iter': 110, 'dual': True, 'C': 10}\n",
      "Execution time: 0.29690980911254883 ms\n"
     ]
    }
   ],
   "source": [
    "from sklearn.model_selection import RandomizedSearchCV\n",
    "\n",
    "# lr = LogisticRegression(penalty='l2')\n",
    "random = RandomizedSearchCV(estimator=lr, param_distributions=param_grid, cv = 3, n_jobs=-1)\n",
    "\n",
    "start_time = time.time()\n",
    "random_result = random.fit(X, y)\n",
    "# Summarize results\n",
    "print(\"Best: %f using %s\" % (random_result.best_score_, random_result.best_params_))\n",
    "print(\"Execution time: \" + str((time.time() - start_time)) + ' ms')"
   ]
  },
  {
   "cell_type": "markdown",
   "metadata": {},
   "source": [
    "<font color= #28b463>\n",
    "The above two cross validation searches aren't stable and continue to produce different accuracy scores. I switch to only searching for the regularization penalty and regularization hyperparameter C. "
   ]
  },
  {
   "cell_type": "code",
   "execution_count": 77,
   "metadata": {},
   "outputs": [
    {
     "name": "stdout",
     "output_type": "stream",
     "text": [
      "Training Accuracy Score: 0.99\n",
      "Testing Accuracy Score: 0.65\n"
     ]
    }
   ],
   "source": [
    "from sklearn.linear_model import LogisticRegression\n",
    "lr = LogisticRegression(penalty='l2',C=5)\n",
    "lr.fit(X_train, y_train)\n",
    "\n",
    "print(\"Training Accuracy Score: {:.2f}\".format(lr.score(X_train, y_train)))\n",
    "print(\"Testing Accuracy Score: {:.2f}\".format(lr.score(X_test, y_test)))"
   ]
  },
  {
   "cell_type": "code",
   "execution_count": 65,
   "metadata": {},
   "outputs": [],
   "source": [
    "from sklearn.model_selection import GridSearchCV\n",
    "# Create regularization penalty space\n",
    "penalty = ['l1', 'l2']\n",
    "\n",
    "# Create regularization hyperparameter space\n",
    "C = [0.1,1.0,1.5,2.0,4,5,10]\n",
    "\n",
    "hyperparameters = dict(C=C, penalty=penalty)"
   ]
  },
  {
   "cell_type": "code",
   "execution_count": 67,
   "metadata": {},
   "outputs": [
    {
     "name": "stdout",
     "output_type": "stream",
     "text": [
      "Best Penalty: l1\n",
      "Best C: 0.1\n"
     ]
    }
   ],
   "source": [
    "grid_2 = GridSearchCV(lr, hyperparameters, cv=3, verbose=0)\n",
    "best_model = grid_2.fit(X, y)\n",
    "print('Best Penalty:', best_model.best_estimator_.get_params()['penalty'])\n",
    "print('Best C:', best_model.best_estimator_.get_params()['C'])"
   ]
  },
  {
   "cell_type": "markdown",
   "metadata": {},
   "source": [
    "<font color= #28b463>\n",
    "    \n",
    "#### Final Model Selection - Logistic Regression with a l1 penalty and 0.1 C regularlization hyperparameter."
   ]
  },
  {
   "cell_type": "code",
   "execution_count": 78,
   "metadata": {},
   "outputs": [
    {
     "name": "stdout",
     "output_type": "stream",
     "text": [
      "Training Accuracy Score: 0.66\n",
      "Testing Accuracy Score: 0.70\n"
     ]
    }
   ],
   "source": [
    "from sklearn.linear_model import LogisticRegression\n",
    "lr = LogisticRegression(penalty='l1', C=0.1)\n",
    "lr.fit(X_train, y_train)\n",
    "\n",
    "print(\"Training Accuracy Score: {:.2f}\".format(lr.score(X_train, y_train)))\n",
    "print(\"Testing Accuracy Score: {:.2f}\".format(lr.score(X_test, y_test)))"
   ]
  },
  {
   "cell_type": "markdown",
   "metadata": {},
   "source": [
    "<font color=  #3498db >\n",
    "Feature Coefficients for Logistic Regression"
   ]
  },
  {
   "cell_type": "code",
   "execution_count": 53,
   "metadata": {},
   "outputs": [],
   "source": [
    "cols = list(data)\n",
    "# list(df)\n",
    "# my_dataframe.columns.values.tolist()\n",
    "# my_dataframe.columns.tolist()"
   ]
  },
  {
   "cell_type": "code",
   "execution_count": 54,
   "metadata": {
    "scrolled": true
   },
   "outputs": [
    {
     "data": {
      "text/plain": [
       "array([[-1.66191013e-01,  8.95827603e-02,  4.18353819e-01,\n",
       "         3.81597149e-01, -3.05797077e-01,  1.25417677e-04,\n",
       "         8.59844316e-01,  1.26131633e-01, -1.21329220e-03,\n",
       "         5.84034423e-04, -1.04561220e-01, -4.59490140e-01,\n",
       "         1.86145582e-03, -1.38578913e-01, -2.58370580e-01,\n",
       "         8.20695383e-04, -1.84097746e-03, -7.12963389e-01,\n",
       "         6.38540300e-03,  4.35933747e-01, -2.87768680e-01,\n",
       "         2.26877565e-01, -7.31374977e-02, -5.51944718e-01,\n",
       "         6.92596719e-01, -3.26910279e-02,  4.62001387e-01,\n",
       "        -1.37874720e-01,  1.44260123e-01,  7.08215626e-01,\n",
       "         8.11473173e-01, -6.73554713e-01,  0.00000000e+00,\n",
       "        -7.22140616e-02,  8.38999796e-01, -3.81745767e-01,\n",
       "         4.08815749e-01, -5.95867292e-01, -1.56833516e-01,\n",
       "         0.00000000e+00,  7.03846388e-01,  0.00000000e+00,\n",
       "         5.71235688e-01, -3.91402380e-01,  5.17298289e-01,\n",
       "         7.83318437e-01, -6.62607382e-02, -1.01245006e-01,\n",
       "         1.94386681e-01, -8.47453354e-01, -1.76593786e-01,\n",
       "        -2.23100226e-01,  5.91740456e-01, -3.76998410e-01,\n",
       "         0.00000000e+00,  6.64780531e-01,  9.36147646e-01,\n",
       "        -7.53666529e-01, -1.50747869e-01, -7.33895525e-01,\n",
       "         0.00000000e+00, -7.44365393e-01,  5.55560657e-01,\n",
       "        -1.39817145e-01,  6.21222224e-01, -3.85971941e-01,\n",
       "         6.60045414e-01, -7.89323064e-01, -4.44798746e-01,\n",
       "        -9.84131133e-01, -4.39024261e-01, -2.03032966e-01,\n",
       "         3.11001794e-02, -2.22872346e-01,  3.91301850e-01,\n",
       "        -1.36776337e-01, -6.35650376e-02, -2.42242560e-01,\n",
       "        -6.82935037e-02, -1.79969960e-01,  4.38003407e-01,\n",
       "        -1.76510410e-01,  5.08421562e-01,  0.00000000e+00,\n",
       "         1.24691597e-01, -1.96910702e-01, -9.99664392e-02,\n",
       "        -4.67122749e-02, -1.79099927e-01,  9.76622326e-01,\n",
       "         6.53639636e-01,  0.00000000e+00, -1.31767715e+00,\n",
       "        -1.40021364e-01, -6.69917530e-02, -6.09180927e-01,\n",
       "         9.18186877e-01,  1.05681402e-01, -2.18299525e-01,\n",
       "         9.54419138e-01, -8.00642723e-01,  4.59138869e-01,\n",
       "        -5.74509320e-01, -2.49539549e-01,  1.77217076e-01,\n",
       "        -2.95572419e-02, -2.03580685e-01, -7.25999948e-02,\n",
       "         1.44854899e-01, -2.07528423e-01, -4.36415532e-01,\n",
       "         0.00000000e+00, -3.98726373e-02, -3.79080672e-01,\n",
       "        -1.26427167e-01,  0.00000000e+00,  0.00000000e+00,\n",
       "         2.02680682e-02, -6.59270717e-02,  3.56091439e-01,\n",
       "         3.99290067e-01,  3.61261026e-01, -6.90347934e-01,\n",
       "         5.55180503e-01,  1.27048818e+00, -4.94359534e-01,\n",
       "         1.96896822e-01,  7.12971736e-01, -6.13686691e-01,\n",
       "         9.51712322e-01,  8.68678099e-01,  7.23201767e-01,\n",
       "        -3.76998410e-01,  3.47454555e-01, -3.27849522e+00,\n",
       "         1.25375243e+00,  2.18063307e-01,  0.00000000e+00,\n",
       "        -1.03236928e+00,  0.00000000e+00, -1.43427232e+00,\n",
       "         0.00000000e+00,  4.53471525e-01,  1.75567434e-02,\n",
       "        -2.72589322e-01,  0.00000000e+00, -2.22872346e-01,\n",
       "         8.95733183e-01,  2.43420389e-01,  1.96896822e-01,\n",
       "        -1.21185204e+00,  8.38999796e-01,  0.00000000e+00,\n",
       "        -2.07528423e-01, -2.26156021e+00,  0.00000000e+00,\n",
       "        -6.73554713e-01, -1.34514711e+00,  1.00989361e+00,\n",
       "         1.10518114e+00, -3.51658123e+00,  0.00000000e+00,\n",
       "        -2.64581262e+00,  3.59584494e-01,  2.55412083e-01,\n",
       "         1.89012694e+00,  9.28428759e-01,  8.24788457e-01,\n",
       "         7.60369086e-01,  9.83823621e-01,  1.19699924e+00,\n",
       "         8.65541132e-01, -1.08639629e+00, -2.78129922e+00,\n",
       "         4.76686221e-01,  1.81132493e+00, -1.59457172e+00,\n",
       "         3.83497333e-01, -2.73063704e+00,  0.00000000e+00,\n",
       "        -1.37548088e+00,  8.65541132e-01,  1.05950125e+00,\n",
       "        -8.90592398e-01, -2.82145441e-01,  0.00000000e+00,\n",
       "         1.44175400e+00, -1.76363784e+00,  0.00000000e+00,\n",
       "         0.00000000e+00,  8.11473173e-01,  9.33591635e-01,\n",
       "         1.12003095e+00,  7.57029926e-01, -1.66811329e+00,\n",
       "         3.83497333e-01,  1.06557561e+00,  7.63899025e-01,\n",
       "         1.16588747e+00,  5.49305983e-01,  5.39404538e-01,\n",
       "         7.23813128e-01, -1.11427228e+00,  3.36436869e-02,\n",
       "         5.64759624e-01,  4.54756144e-01, -2.17429988e-01,\n",
       "         4.13828681e-01,  9.17296287e-02,  1.26478564e-01,\n",
       "         3.59925885e-01,  1.25927872e+00,  0.00000000e+00,\n",
       "         1.21064784e+00,  2.33516881e-01,  1.50742680e-01,\n",
       "         1.05021997e+00,  7.53550559e-01, -5.37118874e-01,\n",
       "        -1.33481403e+00,  0.00000000e+00,  6.04149311e-02,\n",
       "        -2.25247060e+00, -4.13998572e-01,  6.12488909e-02,\n",
       "         6.95978857e-01,  1.14005095e+00, -1.32641178e+00,\n",
       "         8.38999796e-01, -9.06298671e-01,  5.59275598e-01,\n",
       "         1.22132184e+00,  9.63965925e-01,  7.03846388e-01,\n",
       "        -5.74509320e-01, -4.67122749e-02,  5.04139286e-01,\n",
       "        -2.03032966e-01,  0.00000000e+00,  1.96896822e-01,\n",
       "        -2.62838742e-01, -9.99664392e-02,  6.64780531e-01,\n",
       "        -6.62124487e-01, -1.19269054e+00,  5.71235688e-01,\n",
       "         5.81311489e-01, -3.81745767e-01, -1.56089604e+00,\n",
       "        -3.80620624e-01, -2.42242560e-01, -2.03580685e-01,\n",
       "        -1.76593786e-01, -3.79080672e-01,  0.00000000e+00,\n",
       "        -1.76510410e-01, -1.40021364e-01, -1.79099927e-01,\n",
       "         1.44854899e-01,  1.77217076e-01, -2.07528423e-01,\n",
       "         6.27233884e-01, -2.34142561e-01, -6.09180927e-01,\n",
       "         0.00000000e+00, -1.56833516e-01,  5.17298289e-01,\n",
       "         4.08815749e-01,  4.14522298e-01, -4.94359534e-01,\n",
       "        -1.79969960e-01, -6.69917530e-02,  7.08215626e-01,\n",
       "         3.61261026e-01, -7.25999948e-02,  4.62001387e-01,\n",
       "        -4.67078572e-01,  1.74366648e-01,  9.18186877e-01,\n",
       "         3.99290067e-01, -4.51260881e-01, -2.14105703e-01,\n",
       "        -3.79080672e-01,  5.10797624e-01,  3.39946413e-01,\n",
       "         9.54419138e-01,  3.22906099e-01, -1.68575012e+00,\n",
       "         5.10363844e-01,  2.86797839e-01, -4.64606257e-01,\n",
       "         1.09763724e-01,  4.42984659e-01,  1.80318353e-01,\n",
       "        -2.86665263e-01,  1.05681402e-01]])"
      ]
     },
     "execution_count": 54,
     "metadata": {},
     "output_type": "execute_result"
    }
   ],
   "source": [
    "lr.coef_"
   ]
  },
  {
   "cell_type": "code",
   "execution_count": null,
   "metadata": {},
   "outputs": [],
   "source": [
    "np.array([cols[1:-1]]).T"
   ]
  },
  {
   "cell_type": "code",
   "execution_count": 55,
   "metadata": {
    "scrolled": true
   },
   "outputs": [
    {
     "data": {
      "image/png": "[encoded data removed]",
      "text/plain": [
       "<Figure size 720x1800 with 1 Axes>"
      ]
     },
     "metadata": {
      "needs_background": "light"
     },
     "output_type": "display_data"
    }
   ],
   "source": [
    "import matplotlib.pyplot as plt\n",
    "\n",
    "feature_importance = abs(lr.coef_[0])\n",
    "feature_importance = 100.0 * (feature_importance / feature_importance.max())\n",
    "sorted_idx = np.argsort(feature_importance)\n",
    "pos = np.arange(sorted_idx.shape[0]) + .5\n",
    "\n",
    "featfig = plt.figure(figsize=(10,25))\n",
    "featax = featfig.add_subplot(1, 1, 1)\n",
    "featax.barh(pos, feature_importance[sorted_idx], align='center')\n",
    "featax.set_yticks(pos)\n",
    "featax.set_yticklabels(np.array(X.columns)[sorted_idx], fontsize=8)\n",
    "featax.set_xlabel('Relative Feature Importance')\n",
    "\n",
    "plt.tight_layout()   \n",
    "plt.show()"
   ]
  },
  {
   "cell_type": "markdown",
   "metadata": {},
   "source": [
    "<font color=  #3498db >\n",
    "\n",
    "#### Decision Tree Classifier"
   ]
  },
  {
   "cell_type": "code",
   "execution_count": 137,
   "metadata": {},
   "outputs": [
    {
     "name": "stdout",
     "output_type": "stream",
     "text": [
      "[[15 13]\n",
      " [15 14]]\n",
      "0.5087719298245614\n"
     ]
    }
   ],
   "source": [
    "from sklearn.tree import DecisionTreeClassifier\n",
    "dt = DecisionTreeClassifier(max_depth=10)\n",
    "\n",
    "dt.fit(X_train,y_train)\n",
    "dt_predict = dt.predict(X_test)\n",
    "dt_predict_prob = dt.predict_proba(X_test)\n",
    "\n",
    "dt_conf_matrix = confusion_matrix(y_test, dt_predict)\n",
    "dt_accuracy_score = accuracy_score(y_test, dt_predict)\n",
    "\n",
    "print(dt_conf_matrix)\n",
    "print(dt_accuracy_score)"
   ]
  },
  {
   "cell_type": "markdown",
   "metadata": {},
   "source": [
    "<font color=  #3498db >\n",
    "\n",
    "#### GaussianNB"
   ]
  },
  {
   "cell_type": "code",
   "execution_count": 138,
   "metadata": {},
   "outputs": [
    {
     "name": "stdout",
     "output_type": "stream",
     "text": [
      "[[12 16]\n",
      " [ 9 20]]\n",
      "0.5614035087719298\n"
     ]
    }
   ],
   "source": [
    "from sklearn.naive_bayes import GaussianNB\n",
    "gnb = GaussianNB()\n",
    "gnb.fit(X_train, y_train)\n",
    "gnb_predict = gnb.predict(X_test)\n",
    "gnb_predict_prob = gnb.predict_proba(X_test)\n",
    "\n",
    "gnb_conf_matrix = confusion_matrix(y_test, gnb_predict)\n",
    "gnb_accuracy_score = accuracy_score(y_test, gnb_predict)\n",
    "\n",
    "print(gnb_conf_matrix)\n",
    "print(gnb_accuracy_score)"
   ]
  },
  {
   "cell_type": "markdown",
   "metadata": {},
   "source": [
    "<font color=  #3498db >\n",
    "\n",
    "#### N-Estimators for Random Forest Model"
   ]
  },
  {
   "cell_type": "code",
   "execution_count": 139,
   "metadata": {
    "scrolled": false
   },
   "outputs": [
    {
     "data": {
      "text/plain": [
       "GridSearchCV(cv=10, error_score='raise-deprecating',\n",
       "             estimator=RandomForestClassifier(bootstrap=True, class_weight=None,\n",
       "                                              criterion='gini', max_depth=None,\n",
       "                                              max_features='auto',\n",
       "                                              max_leaf_nodes=None,\n",
       "                                              min_impurity_decrease=0.0,\n",
       "                                              min_impurity_split=None,\n",
       "                                              min_samples_leaf=1,\n",
       "                                              min_samples_split=2,\n",
       "                                              min_weight_fraction_leaf=0.0,\n",
       "                                              n_estimators=100, n_jobs=None,\n",
       "                                              oob_score=False, random_state=0,\n",
       "                                              verbose=0, warm_start=False),\n",
       "             iid='warn', n_jobs=None,\n",
       "             param_grid=[{'max_features': [2, 4, 6, 8],\n",
       "                          'n_estimators': [3, 10, 30, 50, 100]}],\n",
       "             pre_dispatch='2*n_jobs', refit=True, return_train_score=False,\n",
       "             scoring='f1', verbose=0)"
      ]
     },
     "execution_count": 139,
     "metadata": {},
     "output_type": "execute_result"
    }
   ],
   "source": [
    "from sklearn.model_selection import GridSearchCV\n",
    "\n",
    "param_grid = [\n",
    "{'n_estimators': [3, 10, 30, 50, 100], 'max_features': [2, 4, 6, 8]},\n",
    "]\n",
    "\n",
    "grid_search = GridSearchCV(clf, param_grid, cv=10, scoring='f1')\n",
    "\n",
    "grid_search.fit(X, y)"
   ]
  },
  {
   "cell_type": "code",
   "execution_count": 140,
   "metadata": {},
   "outputs": [
    {
     "data": {
      "text/plain": [
       "{'max_features': 8, 'n_estimators': 3}"
      ]
     },
     "execution_count": 140,
     "metadata": {},
     "output_type": "execute_result"
    }
   ],
   "source": [
    "grid_search.best_params_"
   ]
  },
  {
   "cell_type": "markdown",
   "metadata": {},
   "source": [
    "<font color=  #3498db >\n",
    "\n",
    "#### Feature Importance"
   ]
  },
  {
   "cell_type": "code",
   "execution_count": 144,
   "metadata": {},
   "outputs": [],
   "source": [
    "feat_score=[]\n",
    "for name, score in zip(X_train.columns, grid_search.best_estimator_.feature_importances_):\n",
    "    feat_score.append([name, score])"
   ]
  },
  {
   "cell_type": "code",
   "execution_count": 145,
   "metadata": {},
   "outputs": [
    {
     "name": "stdout",
     "output_type": "stream",
     "text": [
      "['age_float', 0.04737508422287202]\n",
      "['blackbelt_float', 0.045013300884638195]\n",
      "['Num_IBJJF_W_medals', 0.03626682168530549]\n",
      "['Opponant__Gordon Ryan', 0.03381717727234492]\n",
      "['MR_IBJJF_yr', 0.030625324235638435]\n",
      "['Max_tr_medals', 0.02632078177360674]\n",
      "['Weight__Absolute', 0.022353448670871]\n",
      "['MR_ADCC_Medal_yr', 0.02211895453042463]\n",
      "['Gender__Male', 0.02122705031781838]\n",
      "['Opponant__Gabi Garcia', 0.018808570570304346]\n",
      "['Max_ADCC_medals', 0.018604667122464055]\n",
      "['Num_ADCC_comp', 0.01834375038066462]\n",
      "['MR_tr_Medal_yr', 0.017877301723368443]\n",
      "['Opponant__Augusto \"Tanquinho\" Mendes', 0.017090105237957915]\n",
      "['Opponant__Garry Tonon', 0.016121195838724272]\n",
      "['Belt__brown', 0.015644381625934626]\n",
      "['MR_Other_place', 0.015254115323263527]\n",
      "['Opponant__Matheus Diniz', 0.014080985366998588]\n",
      "['Opponant__Aaron \"Tex\" Johnson', 0.014022668716193515]\n",
      "['IBJJF_belt__black', 0.013840460957451372]\n",
      "['MR_IBJJF_W_yr', 0.013217782621060282]\n",
      "['MR_Other_yr', 0.011919763266032392]\n",
      "['Fighter__Edwin Najmi', 0.011765327247769512]\n",
      "['Opponant__Mahamed Aly', 0.011316864408208643]\n",
      "['Opponant__Kennedy Maciel', 0.011307890206972778]\n",
      "['Opponant__Carina Santi', 0.01111925990501273]\n",
      "['IBJJF_belt__brown', 0.011069189262581103]\n",
      "['Gym__GF Team', 0.010908496895046077]\n",
      "['MR_IBJJF_place', 0.010645524549431214]\n",
      "['Entrance__Trials Medalists', 0.010193422516421097]\n",
      "['Opponant__John Hansen', 0.009836934760560382]\n",
      "['Gym__CTA', 0.009409458259345242]\n",
      "['Other_belt__black', 0.009268598758028374]\n",
      "['Num_Other_medals', 0.009160689847363483]\n",
      "['Opponant__Josh Hinger', 0.008901136543737262]\n",
      "['Opponant__Bruno Frazatto', 0.008750654861544388]\n",
      "['Opponant__JT Torres', 0.008501585767080683]\n",
      "['Num_IBJJF_medals', 0.008438724035054312]\n",
      "['Opponant__Jena Bishop', 0.008364699270163969]\n",
      "['Opponant__Catherine Perret', 0.008280606600604723]\n",
      "['Weight__Men -77kg', 0.008268561280128893]\n",
      "['Fighter__Andre Galvao', 0.008124220826432419]\n",
      "['Opponant__Ana Carolina Vieira', 0.007622663391843025]\n",
      "['Fighter__Fellipe Andrew', 0.007468763107992396]\n",
      "['Gym__Team Lloyd Irvin', 0.007374459396962518]\n",
      "['Opponant__Lucas \"Hulk\" Barbosa', 0.0069732353205295625]\n",
      "['MR_IBJJF_W_place', 0.006955408116601221]\n",
      "['Opponant__Mateusz Juskowiak', 0.006888848080179019]\n",
      "['Gym__Alliance', 0.006662543291944291]\n",
      "['Opponant__Jon Blank', 0.006389713591248639]\n",
      "['Opponant__Bianca Basilio', 0.0062446557859401905]\n",
      "['Opponant__Dante Leon', 0.00623527942590124]\n",
      "['Opponant__Paulo Miyao', 0.006210831101890851]\n",
      "['Opponant__Murilo Santana', 0.00610955130440921]\n",
      "['Opponant__Amanda Leve', 0.0059043302760893495]\n",
      "['Opponant__Alec Baulding', 0.005901553727640683]\n",
      "['Opponant__Patrick Gaudio', 0.005768689574034609]\n",
      "['IBJJF_belt__0', 0.005656920294652614]\n",
      "['Entrance__Invited', 0.005567000674034314]\n",
      "['Opponant__John Combs', 0.005530100654229278]\n",
      "['Opponant__Nicky Ryan', 0.0054083920680401505]\n",
      "['Fighter__Nick Rodriguez', 0.00518000583087017]\n",
      "['Highest_ADCC_place', 0.005105312351689167]\n",
      "['Fighter__Thomas Halpin', 0.005063234421032587]\n",
      "['Opponant__Jared Dopp', 0.004944787492792679]\n",
      "['Fighter__Mason Fowler', 0.004725685459630413]\n",
      "['Opponant__Max Gimenis', 0.004725685459630413]\n",
      "['Fighter__Dante Leon', 0.004486797697041846]\n",
      "['Opponant__Eliot Marshall', 0.004430330118403513]\n",
      "['Entrance__Super Fight Defending Champ', 0.004430330118403513]\n",
      "['Opponant__Nick Rodriguez', 0.004426165295730513]\n",
      "['Opponant__Perttu Tepponen', 0.004426165295730513]\n",
      "['IBJJF_W_belt__purple', 0.004419032373110701]\n",
      "['Opponant__Kaynan Duarte', 0.004189790420481241]\n",
      "['Gym__Renzo Gracie Academy', 0.004141333871382747]\n",
      "['Fighter__Lachlan Giles', 0.004097590552759043]\n",
      "['Belt__blue', 0.00393807121635868]\n",
      "['Opponant__Fellipe Andrew', 0.003938071216358678]\n",
      "['Opponant__Paulo Jose Barauna', 0.003938071216358678]\n",
      "['Opponant__Roberto \"Cyborg\" Abreu', 0.003938071216358678]\n",
      "['Gym__East Coast BJJ', 0.0039143136352509916]\n",
      "['Weight__Women -60kg', 0.003783047261308131]\n",
      "['Weight__Men +99kg', 0.0037826815044451774]\n",
      "['Opponant__Mateusz Gamrot', 0.003445349556239066]\n",
      "['IBJJF_W_belt__black', 0.003347360533904878]\n",
      "['Opponant__Ruan Alvarenga', 0.003329986690303288]\n",
      "['Opponant__Rustam Chsiev', 0.0032535820975026705]\n",
      "['Opponant__Marcus Buchecha Almeida', 0.003215844689053038]\n",
      "['Fighter__Kaynan Duarte', 0.003065663667944488]\n",
      "['IBJJF_W_belt__0', 0.0030296746409278364]\n",
      "['Opponant__Beatriz Mesquita', 0.003016411384092988]\n",
      "['Fighter__JT Torres', 0.0030147913618056676]\n",
      "['Opponant__Ben Dyson', 0.0029535534122690087]\n",
      "['Opponant__Dan Martinez', 0.0029535534122690087]\n",
      "['Opponant__Edwin Najmi', 0.0029535534122690087]\n",
      "['Opponant__Vinicius Gazola', 0.0029535534122690087]\n",
      "['IBJJF_W_belt__brown', 0.0029535534122690087]\n",
      "['Opponant__Valdir Araujo', 0.0029507768638203417]\n",
      "['Opponant__Victor Hugo', 0.0029507768638203417]\n",
      "['Weight__Men -99kg', 0.0027878640148961843]\n",
      "['Opponant__Mike Perez', 0.0027074239612465897]\n",
      "['Opponant__Elvira Karppinen', 0.002658198071042108]\n",
      "['Gym__Gracie Humaita', 0.0026002264275804873]\n",
      "['Weight__Men -88kg', 0.0025272230120876207]\n",
      "['Gym__Gracie Barra', 0.0023628427298152065]\n",
      "['Opponant__Pablo Mantovani', 0.0022784554894646637]\n",
      "['Entrance__0', 0.002248210943863116]\n",
      "['Highest_Trials_place', 0.0019671845758802275]\n",
      "['Weight__Men -66kg', 0.001889830040481896]\n",
      "['Opponant__Craig Jones', 0.0017721320473614054]\n",
      "['Fighter__Rikako Yuasa', 0.0017580675073029777]\n",
      "['Gym__Team Quest', 0.0017034075902577304]\n",
      "['Fighter__John Hansen', 0.0016620951898830398]\n",
      "['Opponant__Orlando Sanchez', 0.001559094248282472]\n",
      "['IBJJF_belt__purple', 0.001512577353555946]\n",
      "['Gender__Female', 0.0014767767061345043]\n",
      "['Fighter__Ffion Davies', 0.001327700378904025]\n",
      "['Fighter__Ruan Alvarenga', 0.001147678588621726]\n",
      "['Opponant__Ffion Davies', 0.0010491651071361204]\n",
      "['Opponant__Kenta Iwamoto', 0.0009845178040896695]\n",
      "['Opponant__Richard Alarcon', 0.0009845178040896695]\n",
      "['Opponant__James Puopolo', 0.0009835922879401137]\n",
      "['Gym__Absolute MMA', 0.000969371376334445]\n",
      "['Opponant__Renato Canuto', 0.0009276646691884026]\n",
      "['Fighter__Jena Bishop', 0.0007876142432717355]\n",
      "['Opponant__Vinny Magalhaes', 0.0005697440995889419]\n",
      "['Fighter__Perttu Tepponen', 0.0005625816023369521]\n",
      "['Fighter__Eldar Rafigaev', 0.00056205273596578]\n",
      "['Fighter__Jackson Sousa', 0.000492258902044835]\n",
      "['Fighter__Shane Jamil Hill-Taylor', 0.0004828543958978726]\n",
      "['Fighter__Felipe Pena', 0.00042193620175271537]\n",
      "['Fighter__Celso Vinicius', 0.00039380712163586645]\n",
      "['Opponant__Antonio Braga Neto', 0.00035442640947228396]\n",
      "['Weight__Women +60kg', 0.0003375489614021745]\n",
      "['Belt__black', 0.00032817260136322273]\n",
      "['Fighter__Eliot Marshall', 0.00024589807198502827]\n",
      "['Fighter__Pedro Marinho', 0.00024589807198502827]\n",
      "['Gym__Leve Jiu Jitsu', 0.00019671845758802405]\n",
      "['Fighter__Carina Santi', 0.0001695820141015721]\n",
      "['Fighter__Ross Nicholls', 7.032270029212031e-05]\n",
      "['Fighter__Ben Dyson', 4.683772799714877e-05]\n",
      "['Fighter__Yuri Simoes', 2.3440900097367756e-05]\n",
      "['Fighter__Craig Jones', 1.2626345159566368e-06]\n",
      "['Fighter__Matheus Gabriel', 1.8745578909233362e-07]\n",
      "['Weight__Super Fight', 0.0]\n",
      "['Fighter__Aaron \"Tex\" Johnson', 0.0]\n",
      "['Fighter__Adam Wardzinski', 0.0]\n",
      "['Fighter__Alec Baulding', 0.0]\n",
      "['Fighter__Amanda Leve', 0.0]\n",
      "['Fighter__Ana Carolina Vieira', 0.0]\n",
      "['Fighter__Antonio Braga Neto', 0.0]\n",
      "['Fighter__Augusto \"Tanquinho\" Mendes', 0.0]\n",
      "['Fighter__Beatriz Mesquita', 0.0]\n",
      "['Fighter__Ben Hodgkinson', 0.0]\n",
      "['Fighter__Bianca Basilio', 0.0]\n",
      "['Fighter__Bruno Frazatto', 0.0]\n",
      "['Fighter__Catherine Perret', 0.0]\n",
      "['Fighter__DJ Jackson', 0.0]\n",
      "['Fighter__Dan Martinez', 0.0]\n",
      "['Fighter__Elvira Karppinen', 0.0]\n",
      "['Fighter__Gabi Garcia', 0.0]\n",
      "['Fighter__Gabriel Almeida', 0.0]\n",
      "['Fighter__Gabriel Arges', 0.0]\n",
      "['Fighter__Garry Tonon', 0.0]\n",
      "['Fighter__Geo Martinez', 0.0]\n",
      "['Fighter__Gianni Grippo', 0.0]\n",
      "['Fighter__Gordon Ryan', 0.0]\n",
      "['Fighter__Hudson Taylor', 0.0]\n",
      "['Fighter__James Puopolo', 0.0]\n",
      "['Fighter__Jared Dopp', 0.0]\n",
      "['Fighter__Jessica Flowers', 0.0]\n",
      "['Fighter__John Combs', 0.0]\n",
      "['Fighter__Jon Blank', 0.0]\n",
      "['Fighter__Jon Satava', 0.0]\n",
      "['Fighter__Josh Hinger', 0.0]\n",
      "['Fighter__Keith Krikorian', 0.0]\n",
      "['Fighter__Keller Locke-Sodhi', 0.0]\n",
      "['Fighter__Kennedy Maciel', 0.0]\n",
      "['Fighter__Kenta Iwamoto', 0.0]\n",
      "['Fighter__Livia Giles', 0.0]\n",
      "['Fighter__Lucas \"Hulk\" Barbosa', 0.0]\n",
      "['Fighter__Lucas Lepri', 0.0]\n",
      "['Fighter__Mahamed Aly', 0.0]\n",
      "['Fighter__Marcus Buchecha Almeida', 0.0]\n",
      "['Fighter__Mateusz Gamrot', 0.0]\n",
      "['Fighter__Mateusz Juskowiak', 0.0]\n",
      "['Fighter__Matheus Diniz', 0.0]\n",
      "['Fighter__Max Gimenis', 0.0]\n",
      "['Fighter__Mike Perez', 0.0]\n",
      "['Fighter__Mraz Avdoyan', 0.0]\n",
      "['Fighter__Murilo Santana', 0.0]\n",
      "['Fighter__Nathiely de Jesus', 0.0]\n",
      "['Fighter__Nicky Ryan', 0.0]\n",
      "['Fighter__Oliver Taza', 0.0]\n",
      "['Fighter__Orlando Sanchez', 0.0]\n",
      "['Fighter__Pablo Mantovani', 0.0]\n",
      "['Fighter__Patrick Gaudio', 0.0]\n",
      "['Fighter__Paul Ardila-Ibarra', 0.0]\n",
      "['Fighter__Paulo Jose Barauna', 0.0]\n",
      "['Fighter__Paulo Miyao', 0.0]\n",
      "['Fighter__Renato Canuto', 0.0]\n",
      "['Fighter__Richard Alarcon', 0.0]\n",
      "['Fighter__Roberto \"Cyborg\" Abreu', 0.0]\n",
      "['Fighter__Rustam Chsiev', 0.0]\n",
      "['Fighter__Servio Tulio', 0.0]\n",
      "['Fighter__Stephanie Egger', 0.0]\n",
      "['Fighter__Tayane Porfirio', 0.0]\n",
      "['Fighter__Tim Spriggs', 0.0]\n",
      "['Fighter__Tye Ruotolo', 0.0]\n",
      "['Fighter__Vagner Rocha', 0.0]\n",
      "['Fighter__Valdir Araujo', 0.0]\n",
      "['Fighter__Victor Hugo', 0.0]\n",
      "['Fighter__Vinicius Gazola', 0.0]\n",
      "['Fighter__Vinny Magalhaes', 0.0]\n",
      "['Opponant__Adam Wardzinski', 0.0]\n",
      "['Opponant__Andre Galvao', 0.0]\n",
      "['Opponant__Ben Hodgkinson', 0.0]\n",
      "['Opponant__Celso Vinicius', 0.0]\n",
      "['Opponant__DJ Jackson', 0.0]\n",
      "['Opponant__Eldar Rafigaev', 0.0]\n",
      "['Opponant__Felipe Pena', 0.0]\n",
      "['Opponant__Gabriel Almeida', 0.0]\n",
      "['Opponant__Gabriel Arges', 0.0]\n",
      "['Opponant__Geo Martinez', 0.0]\n",
      "['Opponant__Gianni Grippo', 0.0]\n",
      "['Opponant__Hudson Taylor', 0.0]\n",
      "['Opponant__Jackson Sousa', 0.0]\n",
      "['Opponant__Jessica Flowers', 0.0]\n",
      "['Opponant__Jon Satava', 0.0]\n",
      "['Opponant__Keith Krikorian', 0.0]\n",
      "['Opponant__Keller Locke-Sodhi', 0.0]\n",
      "['Opponant__Lachlan Giles', 0.0]\n",
      "['Opponant__Livia Giles', 0.0]\n",
      "['Opponant__Lucas Lepri', 0.0]\n",
      "['Opponant__Mason Fowler', 0.0]\n",
      "['Opponant__Matheus Gabriel', 0.0]\n",
      "['Opponant__Mraz Avdoyan', 0.0]\n",
      "['Opponant__Nathiely de Jesus', 0.0]\n",
      "['Opponant__Oliver Taza', 0.0]\n",
      "['Opponant__Paul Ardila-Ibarra', 0.0]\n",
      "['Opponant__Pedro Marinho', 0.0]\n",
      "['Opponant__Rikako Yuasa', 0.0]\n",
      "['Opponant__Ross Nicholls', 0.0]\n",
      "['Opponant__Servio Tulio', 0.0]\n",
      "['Opponant__Shane Jamil Hill-Taylor', 0.0]\n",
      "['Opponant__Stephanie Egger', 0.0]\n",
      "['Opponant__Tayane Porfirio', 0.0]\n",
      "['Opponant__Thomas Halpin', 0.0]\n",
      "['Opponant__Tim Spriggs', 0.0]\n",
      "['Opponant__Tye Ruotolo', 0.0]\n",
      "['Opponant__Vagner Rocha', 0.0]\n",
      "['Opponant__Yuri Simoes', 0.0]\n",
      "['Entrance__2017 Champion', 0.0]\n",
      "['Gym__10th Planet', 0.0]\n",
      "['Gym__Almeida JJ', 0.0]\n",
      "['Gym__American Top Team (ATT)', 0.0]\n",
      "['Gym__Ankos MMA Poznan', 0.0]\n",
      "['Gym__Atos', 0.0]\n",
      "['Gym__Axios BJJ', 0.0]\n",
      "['Gym__Buddy Gym', 0.0]\n",
      "['Gym__Checkmat', 0.0]\n",
      "['Gym__Dethrone Mixed Martial Arts', 0.0]\n",
      "['Gym__Easton Training Centre', 0.0]\n",
      "['Gym__Fight Sports', 0.0]\n",
      "['Gym__G13', 0.0]\n",
      "['Gym__Gordo JJ', 0.0]\n",
      "['Gym__Grappling Education', 0.0]\n",
      "['Gym__Hilti BJJ', 0.0]\n",
      "['Gym__Jungle BJJ', 0.0]\n",
      "['Gym__K-Dojo', 0.0]\n",
      "['Gym__Maromba', 0.0]\n",
      "['Gym__Matrix Jiu Jitsu team', 0.0]\n",
      "['Gym__Murowana Goslina Team', 0.0]\n",
      "['Gym__One Jiu-Jitsu Academy', 0.0]\n",
      "['Gym__PSLPB Cicero Costha', 0.0]\n",
      "['Gym__Paraestra', 0.0]\n",
      "['Gym__Ribeiro JJ', 0.0]\n",
      "['Gym__Rodrigo Pinheiro', 0.0]\n",
      "['Gym__Roger Gracie Academy', 0.0]\n",
      "['Gym__Roy Dean BJJ', 0.0]\n",
      "['Gym__Ryan Gracie', 0.0]\n",
      "['Gym__Soul Fighters', 0.0]\n",
      "['Gym__Tri-Force Jiu Jitsu Academy', 0.0]\n",
      "['Gym__Unity', 0.0]\n",
      "['Gym__Unity JJ', 0.0]\n",
      "['Gym__VRMMA', 0.0]\n",
      "['Gym__Zenith JJ', 0.0]\n",
      "['Belt__0', 0.0]\n",
      "['Belt__MMA fighter', 0.0]\n",
      "['Belt__blue juvinile', 0.0]\n",
      "['Belt__purple', 0.0]\n",
      "['Belt__wrestler', 0.0]\n",
      "['IBJJF_W_belt__blue', 0.0]\n",
      "['Other_belt__0', 0.0]\n",
      "['Other_belt__brown', 0.0]\n",
      "['Other_belt__purple', 0.0]\n"
     ]
    }
   ],
   "source": [
    "feat_score.sort(reverse=True, key= lambda x:x[1])\n",
    "for char in feat_score:\n",
    "    print(char)"
   ]
  },
  {
   "cell_type": "markdown",
   "metadata": {},
   "source": [
    "Change f1 scoring to roc_auc"
   ]
  },
  {
   "cell_type": "code",
   "execution_count": 146,
   "metadata": {},
   "outputs": [
    {
     "data": {
      "text/plain": [
       "GridSearchCV(cv=10, error_score='raise-deprecating',\n",
       "             estimator=RandomForestClassifier(bootstrap=True, class_weight=None,\n",
       "                                              criterion='gini', max_depth=None,\n",
       "                                              max_features='auto',\n",
       "                                              max_leaf_nodes=None,\n",
       "                                              min_impurity_decrease=0.0,\n",
       "                                              min_impurity_split=None,\n",
       "                                              min_samples_leaf=1,\n",
       "                                              min_samples_split=2,\n",
       "                                              min_weight_fraction_leaf=0.0,\n",
       "                                              n_estimators=100, n_jobs=None,\n",
       "                                              oob_score=False, random_state=0,\n",
       "                                              verbose=0, warm_start=False),\n",
       "             iid='warn', n_jobs=None,\n",
       "             param_grid=[{'max_features': [2, 4, 6, 8],\n",
       "                          'n_estimators': [3, 10, 30, 50, 100]}],\n",
       "             pre_dispatch='2*n_jobs', refit=True, return_train_score=False,\n",
       "             scoring='roc_auc', verbose=0)"
      ]
     },
     "execution_count": 146,
     "metadata": {},
     "output_type": "execute_result"
    }
   ],
   "source": [
    "from sklearn.model_selection import GridSearchCV\n",
    "\n",
    "param_grid = [\n",
    "{'n_estimators': [3, 10, 30, 50, 100], 'max_features': [2, 4, 6, 8]},\n",
    "]\n",
    "\n",
    "grid_search = GridSearchCV(clf, param_grid, cv=10, scoring='roc_auc')\n",
    "\n",
    "grid_search.fit(X, y)"
   ]
  },
  {
   "cell_type": "code",
   "execution_count": 147,
   "metadata": {},
   "outputs": [
    {
     "data": {
      "text/plain": [
       "{'max_features': 8, 'n_estimators': 3}"
      ]
     },
     "execution_count": 147,
     "metadata": {},
     "output_type": "execute_result"
    }
   ],
   "source": [
    "grid_search.fit(X, y)\n",
    "grid_search.best_params_"
   ]
  },
  {
   "cell_type": "code",
   "execution_count": 148,
   "metadata": {},
   "outputs": [],
   "source": [
    "feat_score=[]\n",
    "for name, score in zip(X_train.columns, grid_search.best_estimator_.feature_importances_):\n",
    "    feat_score.append([name, score])"
   ]
  },
  {
   "cell_type": "code",
   "execution_count": 149,
   "metadata": {},
   "outputs": [
    {
     "name": "stdout",
     "output_type": "stream",
     "text": [
      "['age_float', 0.04737508422287202]\n",
      "['blackbelt_float', 0.045013300884638195]\n",
      "['Num_IBJJF_W_medals', 0.03626682168530549]\n",
      "['Opponant__Gordon Ryan', 0.03381717727234492]\n",
      "['MR_IBJJF_yr', 0.030625324235638435]\n",
      "['Max_tr_medals', 0.02632078177360674]\n",
      "['Weight__Absolute', 0.022353448670871]\n",
      "['MR_ADCC_Medal_yr', 0.02211895453042463]\n",
      "['Gender__Male', 0.02122705031781838]\n",
      "['Opponant__Gabi Garcia', 0.018808570570304346]\n",
      "['Max_ADCC_medals', 0.018604667122464055]\n",
      "['Num_ADCC_comp', 0.01834375038066462]\n",
      "['MR_tr_Medal_yr', 0.017877301723368443]\n",
      "['Opponant__Augusto \"Tanquinho\" Mendes', 0.017090105237957915]\n",
      "['Opponant__Garry Tonon', 0.016121195838724272]\n",
      "['Belt__brown', 0.015644381625934626]\n",
      "['MR_Other_place', 0.015254115323263527]\n",
      "['Opponant__Matheus Diniz', 0.014080985366998588]\n",
      "['Opponant__Aaron \"Tex\" Johnson', 0.014022668716193515]\n",
      "['IBJJF_belt__black', 0.013840460957451372]\n",
      "['MR_IBJJF_W_yr', 0.013217782621060282]\n",
      "['MR_Other_yr', 0.011919763266032392]\n",
      "['Fighter__Edwin Najmi', 0.011765327247769512]\n",
      "['Opponant__Mahamed Aly', 0.011316864408208643]\n",
      "['Opponant__Kennedy Maciel', 0.011307890206972778]\n",
      "['Opponant__Carina Santi', 0.01111925990501273]\n",
      "['IBJJF_belt__brown', 0.011069189262581103]\n",
      "['Gym__GF Team', 0.010908496895046077]\n",
      "['MR_IBJJF_place', 0.010645524549431214]\n",
      "['Entrance__Trials Medalists', 0.010193422516421097]\n",
      "['Opponant__John Hansen', 0.009836934760560382]\n",
      "['Gym__CTA', 0.009409458259345242]\n",
      "['Other_belt__black', 0.009268598758028374]\n",
      "['Num_Other_medals', 0.009160689847363483]\n",
      "['Opponant__Josh Hinger', 0.008901136543737262]\n",
      "['Opponant__Bruno Frazatto', 0.008750654861544388]\n",
      "['Opponant__JT Torres', 0.008501585767080683]\n",
      "['Num_IBJJF_medals', 0.008438724035054312]\n",
      "['Opponant__Jena Bishop', 0.008364699270163969]\n",
      "['Opponant__Catherine Perret', 0.008280606600604723]\n",
      "['Weight__Men -77kg', 0.008268561280128893]\n",
      "['Fighter__Andre Galvao', 0.008124220826432419]\n",
      "['Opponant__Ana Carolina Vieira', 0.007622663391843025]\n",
      "['Fighter__Fellipe Andrew', 0.007468763107992396]\n",
      "['Gym__Team Lloyd Irvin', 0.007374459396962518]\n",
      "['Opponant__Lucas \"Hulk\" Barbosa', 0.0069732353205295625]\n",
      "['MR_IBJJF_W_place', 0.006955408116601221]\n",
      "['Opponant__Mateusz Juskowiak', 0.006888848080179019]\n",
      "['Gym__Alliance', 0.006662543291944291]\n",
      "['Opponant__Jon Blank', 0.006389713591248639]\n",
      "['Opponant__Bianca Basilio', 0.0062446557859401905]\n",
      "['Opponant__Dante Leon', 0.00623527942590124]\n",
      "['Opponant__Paulo Miyao', 0.006210831101890851]\n",
      "['Opponant__Murilo Santana', 0.00610955130440921]\n",
      "['Opponant__Amanda Leve', 0.0059043302760893495]\n",
      "['Opponant__Alec Baulding', 0.005901553727640683]\n",
      "['Opponant__Patrick Gaudio', 0.005768689574034609]\n",
      "['IBJJF_belt__0', 0.005656920294652614]\n",
      "['Entrance__Invited', 0.005567000674034314]\n",
      "['Opponant__John Combs', 0.005530100654229278]\n",
      "['Opponant__Nicky Ryan', 0.0054083920680401505]\n",
      "['Fighter__Nick Rodriguez', 0.00518000583087017]\n",
      "['Highest_ADCC_place', 0.005105312351689167]\n",
      "['Fighter__Thomas Halpin', 0.005063234421032587]\n",
      "['Opponant__Jared Dopp', 0.004944787492792679]\n",
      "['Fighter__Mason Fowler', 0.004725685459630413]\n",
      "['Opponant__Max Gimenis', 0.004725685459630413]\n",
      "['Fighter__Dante Leon', 0.004486797697041846]\n",
      "['Opponant__Eliot Marshall', 0.004430330118403513]\n",
      "['Entrance__Super Fight Defending Champ', 0.004430330118403513]\n",
      "['Opponant__Nick Rodriguez', 0.004426165295730513]\n",
      "['Opponant__Perttu Tepponen', 0.004426165295730513]\n",
      "['IBJJF_W_belt__purple', 0.004419032373110701]\n",
      "['Opponant__Kaynan Duarte', 0.004189790420481241]\n",
      "['Gym__Renzo Gracie Academy', 0.004141333871382747]\n",
      "['Fighter__Lachlan Giles', 0.004097590552759043]\n",
      "['Belt__blue', 0.00393807121635868]\n",
      "['Opponant__Fellipe Andrew', 0.003938071216358678]\n",
      "['Opponant__Paulo Jose Barauna', 0.003938071216358678]\n",
      "['Opponant__Roberto \"Cyborg\" Abreu', 0.003938071216358678]\n",
      "['Gym__East Coast BJJ', 0.0039143136352509916]\n",
      "['Weight__Women -60kg', 0.003783047261308131]\n",
      "['Weight__Men +99kg', 0.0037826815044451774]\n",
      "['Opponant__Mateusz Gamrot', 0.003445349556239066]\n",
      "['IBJJF_W_belt__black', 0.003347360533904878]\n",
      "['Opponant__Ruan Alvarenga', 0.003329986690303288]\n",
      "['Opponant__Rustam Chsiev', 0.0032535820975026705]\n",
      "['Opponant__Marcus Buchecha Almeida', 0.003215844689053038]\n",
      "['Fighter__Kaynan Duarte', 0.003065663667944488]\n",
      "['IBJJF_W_belt__0', 0.0030296746409278364]\n",
      "['Opponant__Beatriz Mesquita', 0.003016411384092988]\n",
      "['Fighter__JT Torres', 0.0030147913618056676]\n",
      "['Opponant__Ben Dyson', 0.0029535534122690087]\n",
      "['Opponant__Dan Martinez', 0.0029535534122690087]\n",
      "['Opponant__Edwin Najmi', 0.0029535534122690087]\n",
      "['Opponant__Vinicius Gazola', 0.0029535534122690087]\n",
      "['IBJJF_W_belt__brown', 0.0029535534122690087]\n",
      "['Opponant__Valdir Araujo', 0.0029507768638203417]\n",
      "['Opponant__Victor Hugo', 0.0029507768638203417]\n",
      "['Weight__Men -99kg', 0.0027878640148961843]\n",
      "['Opponant__Mike Perez', 0.0027074239612465897]\n",
      "['Opponant__Elvira Karppinen', 0.002658198071042108]\n",
      "['Gym__Gracie Humaita', 0.0026002264275804873]\n",
      "['Weight__Men -88kg', 0.0025272230120876207]\n",
      "['Gym__Gracie Barra', 0.0023628427298152065]\n",
      "['Opponant__Pablo Mantovani', 0.0022784554894646637]\n",
      "['Entrance__0', 0.002248210943863116]\n",
      "['Highest_Trials_place', 0.0019671845758802275]\n",
      "['Weight__Men -66kg', 0.001889830040481896]\n",
      "['Opponant__Craig Jones', 0.0017721320473614054]\n",
      "['Fighter__Rikako Yuasa', 0.0017580675073029777]\n",
      "['Gym__Team Quest', 0.0017034075902577304]\n",
      "['Fighter__John Hansen', 0.0016620951898830398]\n",
      "['Opponant__Orlando Sanchez', 0.001559094248282472]\n",
      "['IBJJF_belt__purple', 0.001512577353555946]\n",
      "['Gender__Female', 0.0014767767061345043]\n",
      "['Fighter__Ffion Davies', 0.001327700378904025]\n",
      "['Fighter__Ruan Alvarenga', 0.001147678588621726]\n",
      "['Opponant__Ffion Davies', 0.0010491651071361204]\n",
      "['Opponant__Kenta Iwamoto', 0.0009845178040896695]\n",
      "['Opponant__Richard Alarcon', 0.0009845178040896695]\n",
      "['Opponant__James Puopolo', 0.0009835922879401137]\n",
      "['Gym__Absolute MMA', 0.000969371376334445]\n",
      "['Opponant__Renato Canuto', 0.0009276646691884026]\n",
      "['Fighter__Jena Bishop', 0.0007876142432717355]\n",
      "['Opponant__Vinny Magalhaes', 0.0005697440995889419]\n",
      "['Fighter__Perttu Tepponen', 0.0005625816023369521]\n",
      "['Fighter__Eldar Rafigaev', 0.00056205273596578]\n",
      "['Fighter__Jackson Sousa', 0.000492258902044835]\n",
      "['Fighter__Shane Jamil Hill-Taylor', 0.0004828543958978726]\n",
      "['Fighter__Felipe Pena', 0.00042193620175271537]\n",
      "['Fighter__Celso Vinicius', 0.00039380712163586645]\n",
      "['Opponant__Antonio Braga Neto', 0.00035442640947228396]\n",
      "['Weight__Women +60kg', 0.0003375489614021745]\n",
      "['Belt__black', 0.00032817260136322273]\n",
      "['Fighter__Eliot Marshall', 0.00024589807198502827]\n",
      "['Fighter__Pedro Marinho', 0.00024589807198502827]\n",
      "['Gym__Leve Jiu Jitsu', 0.00019671845758802405]\n",
      "['Fighter__Carina Santi', 0.0001695820141015721]\n",
      "['Fighter__Ross Nicholls', 7.032270029212031e-05]\n",
      "['Fighter__Ben Dyson', 4.683772799714877e-05]\n",
      "['Fighter__Yuri Simoes', 2.3440900097367756e-05]\n",
      "['Fighter__Craig Jones', 1.2626345159566368e-06]\n",
      "['Fighter__Matheus Gabriel', 1.8745578909233362e-07]\n",
      "['Weight__Super Fight', 0.0]\n",
      "['Fighter__Aaron \"Tex\" Johnson', 0.0]\n",
      "['Fighter__Adam Wardzinski', 0.0]\n",
      "['Fighter__Alec Baulding', 0.0]\n",
      "['Fighter__Amanda Leve', 0.0]\n",
      "['Fighter__Ana Carolina Vieira', 0.0]\n",
      "['Fighter__Antonio Braga Neto', 0.0]\n",
      "['Fighter__Augusto \"Tanquinho\" Mendes', 0.0]\n",
      "['Fighter__Beatriz Mesquita', 0.0]\n",
      "['Fighter__Ben Hodgkinson', 0.0]\n",
      "['Fighter__Bianca Basilio', 0.0]\n",
      "['Fighter__Bruno Frazatto', 0.0]\n",
      "['Fighter__Catherine Perret', 0.0]\n",
      "['Fighter__DJ Jackson', 0.0]\n",
      "['Fighter__Dan Martinez', 0.0]\n",
      "['Fighter__Elvira Karppinen', 0.0]\n",
      "['Fighter__Gabi Garcia', 0.0]\n",
      "['Fighter__Gabriel Almeida', 0.0]\n",
      "['Fighter__Gabriel Arges', 0.0]\n",
      "['Fighter__Garry Tonon', 0.0]\n",
      "['Fighter__Geo Martinez', 0.0]\n",
      "['Fighter__Gianni Grippo', 0.0]\n",
      "['Fighter__Gordon Ryan', 0.0]\n",
      "['Fighter__Hudson Taylor', 0.0]\n",
      "['Fighter__James Puopolo', 0.0]\n",
      "['Fighter__Jared Dopp', 0.0]\n",
      "['Fighter__Jessica Flowers', 0.0]\n",
      "['Fighter__John Combs', 0.0]\n",
      "['Fighter__Jon Blank', 0.0]\n",
      "['Fighter__Jon Satava', 0.0]\n",
      "['Fighter__Josh Hinger', 0.0]\n",
      "['Fighter__Keith Krikorian', 0.0]\n",
      "['Fighter__Keller Locke-Sodhi', 0.0]\n",
      "['Fighter__Kennedy Maciel', 0.0]\n",
      "['Fighter__Kenta Iwamoto', 0.0]\n",
      "['Fighter__Livia Giles', 0.0]\n",
      "['Fighter__Lucas \"Hulk\" Barbosa', 0.0]\n",
      "['Fighter__Lucas Lepri', 0.0]\n",
      "['Fighter__Mahamed Aly', 0.0]\n",
      "['Fighter__Marcus Buchecha Almeida', 0.0]\n",
      "['Fighter__Mateusz Gamrot', 0.0]\n",
      "['Fighter__Mateusz Juskowiak', 0.0]\n",
      "['Fighter__Matheus Diniz', 0.0]\n",
      "['Fighter__Max Gimenis', 0.0]\n",
      "['Fighter__Mike Perez', 0.0]\n",
      "['Fighter__Mraz Avdoyan', 0.0]\n",
      "['Fighter__Murilo Santana', 0.0]\n",
      "['Fighter__Nathiely de Jesus', 0.0]\n",
      "['Fighter__Nicky Ryan', 0.0]\n",
      "['Fighter__Oliver Taza', 0.0]\n",
      "['Fighter__Orlando Sanchez', 0.0]\n",
      "['Fighter__Pablo Mantovani', 0.0]\n",
      "['Fighter__Patrick Gaudio', 0.0]\n",
      "['Fighter__Paul Ardila-Ibarra', 0.0]\n",
      "['Fighter__Paulo Jose Barauna', 0.0]\n",
      "['Fighter__Paulo Miyao', 0.0]\n",
      "['Fighter__Renato Canuto', 0.0]\n",
      "['Fighter__Richard Alarcon', 0.0]\n",
      "['Fighter__Roberto \"Cyborg\" Abreu', 0.0]\n",
      "['Fighter__Rustam Chsiev', 0.0]\n",
      "['Fighter__Servio Tulio', 0.0]\n",
      "['Fighter__Stephanie Egger', 0.0]\n",
      "['Fighter__Tayane Porfirio', 0.0]\n",
      "['Fighter__Tim Spriggs', 0.0]\n",
      "['Fighter__Tye Ruotolo', 0.0]\n",
      "['Fighter__Vagner Rocha', 0.0]\n",
      "['Fighter__Valdir Araujo', 0.0]\n",
      "['Fighter__Victor Hugo', 0.0]\n",
      "['Fighter__Vinicius Gazola', 0.0]\n",
      "['Fighter__Vinny Magalhaes', 0.0]\n",
      "['Opponant__Adam Wardzinski', 0.0]\n",
      "['Opponant__Andre Galvao', 0.0]\n",
      "['Opponant__Ben Hodgkinson', 0.0]\n",
      "['Opponant__Celso Vinicius', 0.0]\n",
      "['Opponant__DJ Jackson', 0.0]\n",
      "['Opponant__Eldar Rafigaev', 0.0]\n",
      "['Opponant__Felipe Pena', 0.0]\n",
      "['Opponant__Gabriel Almeida', 0.0]\n",
      "['Opponant__Gabriel Arges', 0.0]\n",
      "['Opponant__Geo Martinez', 0.0]\n",
      "['Opponant__Gianni Grippo', 0.0]\n",
      "['Opponant__Hudson Taylor', 0.0]\n",
      "['Opponant__Jackson Sousa', 0.0]\n",
      "['Opponant__Jessica Flowers', 0.0]\n",
      "['Opponant__Jon Satava', 0.0]\n",
      "['Opponant__Keith Krikorian', 0.0]\n",
      "['Opponant__Keller Locke-Sodhi', 0.0]\n",
      "['Opponant__Lachlan Giles', 0.0]\n",
      "['Opponant__Livia Giles', 0.0]\n",
      "['Opponant__Lucas Lepri', 0.0]\n",
      "['Opponant__Mason Fowler', 0.0]\n",
      "['Opponant__Matheus Gabriel', 0.0]\n",
      "['Opponant__Mraz Avdoyan', 0.0]\n",
      "['Opponant__Nathiely de Jesus', 0.0]\n",
      "['Opponant__Oliver Taza', 0.0]\n",
      "['Opponant__Paul Ardila-Ibarra', 0.0]\n",
      "['Opponant__Pedro Marinho', 0.0]\n",
      "['Opponant__Rikako Yuasa', 0.0]\n",
      "['Opponant__Ross Nicholls', 0.0]\n",
      "['Opponant__Servio Tulio', 0.0]\n",
      "['Opponant__Shane Jamil Hill-Taylor', 0.0]\n",
      "['Opponant__Stephanie Egger', 0.0]\n",
      "['Opponant__Tayane Porfirio', 0.0]\n",
      "['Opponant__Thomas Halpin', 0.0]\n",
      "['Opponant__Tim Spriggs', 0.0]\n",
      "['Opponant__Tye Ruotolo', 0.0]\n",
      "['Opponant__Vagner Rocha', 0.0]\n",
      "['Opponant__Yuri Simoes', 0.0]\n",
      "['Entrance__2017 Champion', 0.0]\n",
      "['Gym__10th Planet', 0.0]\n",
      "['Gym__Almeida JJ', 0.0]\n",
      "['Gym__American Top Team (ATT)', 0.0]\n",
      "['Gym__Ankos MMA Poznan', 0.0]\n",
      "['Gym__Atos', 0.0]\n",
      "['Gym__Axios BJJ', 0.0]\n",
      "['Gym__Buddy Gym', 0.0]\n",
      "['Gym__Checkmat', 0.0]\n",
      "['Gym__Dethrone Mixed Martial Arts', 0.0]\n",
      "['Gym__Easton Training Centre', 0.0]\n",
      "['Gym__Fight Sports', 0.0]\n",
      "['Gym__G13', 0.0]\n",
      "['Gym__Gordo JJ', 0.0]\n",
      "['Gym__Grappling Education', 0.0]\n",
      "['Gym__Hilti BJJ', 0.0]\n",
      "['Gym__Jungle BJJ', 0.0]\n",
      "['Gym__K-Dojo', 0.0]\n",
      "['Gym__Maromba', 0.0]\n",
      "['Gym__Matrix Jiu Jitsu team', 0.0]\n",
      "['Gym__Murowana Goslina Team', 0.0]\n",
      "['Gym__One Jiu-Jitsu Academy', 0.0]\n",
      "['Gym__PSLPB Cicero Costha', 0.0]\n",
      "['Gym__Paraestra', 0.0]\n",
      "['Gym__Ribeiro JJ', 0.0]\n",
      "['Gym__Rodrigo Pinheiro', 0.0]\n",
      "['Gym__Roger Gracie Academy', 0.0]\n",
      "['Gym__Roy Dean BJJ', 0.0]\n",
      "['Gym__Ryan Gracie', 0.0]\n",
      "['Gym__Soul Fighters', 0.0]\n",
      "['Gym__Tri-Force Jiu Jitsu Academy', 0.0]\n",
      "['Gym__Unity', 0.0]\n",
      "['Gym__Unity JJ', 0.0]\n",
      "['Gym__VRMMA', 0.0]\n",
      "['Gym__Zenith JJ', 0.0]\n",
      "['Belt__0', 0.0]\n",
      "['Belt__MMA fighter', 0.0]\n",
      "['Belt__blue juvinile', 0.0]\n",
      "['Belt__purple', 0.0]\n",
      "['Belt__wrestler', 0.0]\n",
      "['IBJJF_W_belt__blue', 0.0]\n",
      "['Other_belt__0', 0.0]\n",
      "['Other_belt__brown', 0.0]\n",
      "['Other_belt__purple', 0.0]\n"
     ]
    }
   ],
   "source": [
    "feat_score.sort(reverse=True, key= lambda x:x[1])\n",
    "for char in feat_score:\n",
    "    print(char)"
   ]
  },
  {
   "cell_type": "markdown",
   "metadata": {},
   "source": [
    "<font color= #28b463>\n",
    "\n",
    "#### Target 2: How Matches Concluded (Submission/Score/Referee Decision/Forfeit)"
   ]
  },
  {
   "cell_type": "code",
   "execution_count": 28,
   "metadata": {},
   "outputs": [
    {
     "data": {
      "text/plain": [
       "score           108\n",
       "submission       70\n",
       "ref decision     42\n",
       "forfeit           6\n",
       "Name: How, dtype: int64"
      ]
     },
     "execution_count": 28,
     "metadata": {},
     "output_type": "execute_result"
    }
   ],
   "source": [
    "df.How.value_counts()"
   ]
  },
  {
   "cell_type": "code",
   "execution_count": 150,
   "metadata": {},
   "outputs": [
    {
     "data": {
      "text/html": [
       "<div>\n",
       "<style scoped>\n",
       "    .dataframe tbody tr th:only-of-type {\n",
       "        vertical-align: middle;\n",
       "    }\n",
       "\n",
       "    .dataframe tbody tr th {\n",
       "        vertical-align: top;\n",
       "    }\n",
       "\n",
       "    .dataframe thead th {\n",
       "        text-align: right;\n",
       "    }\n",
       "</style>\n",
       "<table border=\"1\" class=\"dataframe\">\n",
       "  <thead>\n",
       "    <tr style=\"text-align: right;\">\n",
       "      <th></th>\n",
       "      <th>How</th>\n",
       "    </tr>\n",
       "  </thead>\n",
       "  <tbody>\n",
       "    <tr>\n",
       "      <th>0</th>\n",
       "      <td>1</td>\n",
       "    </tr>\n",
       "    <tr>\n",
       "      <th>1</th>\n",
       "      <td>3</td>\n",
       "    </tr>\n",
       "    <tr>\n",
       "      <th>2</th>\n",
       "      <td>2</td>\n",
       "    </tr>\n",
       "  </tbody>\n",
       "</table>\n",
       "</div>"
      ],
      "text/plain": [
       "   How\n",
       "0    1\n",
       "1    3\n",
       "2    2"
      ]
     },
     "execution_count": 150,
     "metadata": {},
     "output_type": "execute_result"
    }
   ],
   "source": [
    "#label encode the target column\n",
    "from sklearn.preprocessing import LabelEncoder\n",
    "\n",
    "target = ['How']\n",
    "\n",
    "encoder = LabelEncoder()\n",
    "\n",
    "# Apply the label encoder to each column\n",
    "encoded_2 = df[target].apply(encoder.fit_transform)\n",
    "encoded_2.head(3)"
   ]
  },
  {
   "cell_type": "code",
   "execution_count": 151,
   "metadata": {},
   "outputs": [],
   "source": [
    "y_2 = encoded_2\n",
    "X_2 = data"
   ]
  },
  {
   "cell_type": "code",
   "execution_count": 152,
   "metadata": {},
   "outputs": [
    {
     "data": {
      "text/plain": [
       "(226, 296)"
      ]
     },
     "metadata": {},
     "output_type": "display_data"
    },
    {
     "data": {
      "text/plain": [
       "(226, 1)"
      ]
     },
     "metadata": {},
     "output_type": "display_data"
    }
   ],
   "source": [
    "display(X_2.shape)\n",
    "display(y_2.shape)"
   ]
  },
  {
   "cell_type": "code",
   "execution_count": 153,
   "metadata": {},
   "outputs": [],
   "source": [
    "from sklearn.model_selection import train_test_split\n",
    "\n",
    "# Split dataset into training set and test set\n",
    "X_2_train, X_2_test, y_2_train, y_2_test = train_test_split(X_2,y_2, test_size=0.25,random_state=109)"
   ]
  },
  {
   "cell_type": "code",
   "execution_count": 154,
   "metadata": {},
   "outputs": [
    {
     "name": "stdout",
     "output_type": "stream",
     "text": [
      "Training X_train Shape: (169, 296)\n",
      "Training y_train Shape: (169, 1)\n",
      "Testing X_test Shape: (57, 296)\n",
      "Testing y_test Shape: (57, 1)\n"
     ]
    }
   ],
   "source": [
    "print('Training X_train Shape:', X_2_train.shape)\n",
    "print('Training y_train Shape:', y_2_train.shape)\n",
    "print('Testing X_test Shape:', X_2_test.shape)\n",
    "print('Testing y_test Shape:', y_2_test.shape)"
   ]
  },
  {
   "cell_type": "markdown",
   "metadata": {},
   "source": [
    "<font color=  #3498db >\n",
    "\n",
    "#### Random Forest"
   ]
  },
  {
   "cell_type": "code",
   "execution_count": 155,
   "metadata": {},
   "outputs": [],
   "source": [
    "from sklearn.ensemble import RandomForestClassifier\n",
    "clf = RandomForestClassifier(n_estimators=100, random_state=0)\n",
    "\n",
    "clf.fit(X_2_train, y_2_train)\n",
    "\n",
    "predicted= clf.predict(X_2_test) "
   ]
  },
  {
   "cell_type": "code",
   "execution_count": 156,
   "metadata": {},
   "outputs": [
    {
     "name": "stdout",
     "output_type": "stream",
     "text": [
      "Accuracy: 0.3684210526315789\n"
     ]
    }
   ],
   "source": [
    "from sklearn import metrics\n",
    "print(\"Accuracy:\",metrics.accuracy_score(y_2_test, predicted))"
   ]
  },
  {
   "cell_type": "code",
   "execution_count": 157,
   "metadata": {},
   "outputs": [
    {
     "name": "stdout",
     "output_type": "stream",
     "text": [
      "              precision    recall  f1-score   support\n",
      "\n",
      "           0       0.00      0.00      0.00         2\n",
      "           1       0.12      0.09      0.11        11\n",
      "           2       0.35      0.57      0.44        21\n",
      "           3       0.53      0.35      0.42        23\n",
      "\n",
      "    accuracy                           0.37        57\n",
      "   macro avg       0.25      0.25      0.24        57\n",
      "weighted avg       0.37      0.37      0.35        57\n",
      "\n"
     ]
    }
   ],
   "source": [
    "print(metrics.classification_report(y_2_test, predicted))"
   ]
  },
  {
   "cell_type": "code",
   "execution_count": 158,
   "metadata": {},
   "outputs": [
    {
     "data": {
      "text/plain": [
       "array([[ 0,  0,  0,  0],\n",
       "       [ 0,  0,  1,  1],\n",
       "       [ 2,  6, 12,  3],\n",
       "       [ 0,  5,  8, 19]], dtype=int64)"
      ]
     },
     "execution_count": 158,
     "metadata": {},
     "output_type": "execute_result"
    }
   ],
   "source": [
    "#cross validating \n",
    "from sklearn.model_selection import cross_val_predict\n",
    "from sklearn.metrics import confusion_matrix, accuracy_score\n",
    "\n",
    "y_2_pred_cv = cross_val_predict(clf, X_2_test, y_2_test, cv=5)\n",
    "\n",
    "confusion_matrix(y_2_pred_cv, y_2_test)"
   ]
  },
  {
   "cell_type": "code",
   "execution_count": 159,
   "metadata": {},
   "outputs": [
    {
     "name": "stdout",
     "output_type": "stream",
     "text": [
      "[0.375      0.28571429 0.28571429 0.57142857 0.66666667 0.33333333\n",
      " 0.5        0.33333333 0.5        0.16666667 0.66666667 0.5\n",
      " 1.         0.33333333 0.83333333 0.33333333 0.5        0.8\n",
      " 0.2        0.4        0.8        0.6        0.4        1.\n",
      " 0.4        0.4        0.6        0.5        0.5        0.75      ]\n",
      "Accuracy: 0.52 (+/- 0.43)\n"
     ]
    }
   ],
   "source": [
    "from sklearn.model_selection import cross_val_score\n",
    "cv_score = cross_val_score(clf, X_2_train, y_2_train, cv = 30)\n",
    "print(cv_score)\n",
    "print(\"Accuracy: %0.2f (+/- %0.2f)\" % (cv_score.mean(), cv_score.std() * 2))"
   ]
  },
  {
   "cell_type": "code",
   "execution_count": 160,
   "metadata": {},
   "outputs": [
    {
     "name": "stdout",
     "output_type": "stream",
     "text": [
      "Accuracy: 0.49 (+/- 0.30)\n"
     ]
    }
   ],
   "source": [
    "#Let's test the entire dataset again.\n",
    "scores = cross_val_score(clf, X_2, y_2, cv=10)\n",
    "print(\"Accuracy: %0.2f (+/- %0.2f)\" % (scores.mean(), scores.std() * 2))"
   ]
  },
  {
   "cell_type": "markdown",
   "metadata": {},
   "source": [
    "<font color=  #3498db >\n",
    "\n",
    "#### Logistic Regression"
   ]
  },
  {
   "cell_type": "code",
   "execution_count": 161,
   "metadata": {},
   "outputs": [
    {
     "name": "stdout",
     "output_type": "stream",
     "text": [
      "Training X_train Shape: (169, 296)\n",
      "Training y_train Shape: (169, 1)\n",
      "Testing X_test Shape: (57, 296)\n",
      "Testing y_test Shape: (57, 1)\n"
     ]
    }
   ],
   "source": [
    "X_2_train, X_2_test, y_2_train, y_2_test = train_test_split(X_2,y_2, test_size=0.25,random_state=109) # 60% training and 40% test\n",
    "\n",
    "print('Training X_train Shape:', X_2_train.shape)\n",
    "print('Training y_train Shape:', y_2_train.shape)\n",
    "print('Testing X_test Shape:', X_2_test.shape)\n",
    "print('Testing y_test Shape:', y_2_test.shape)"
   ]
  },
  {
   "cell_type": "code",
   "execution_count": 162,
   "metadata": {},
   "outputs": [],
   "source": [
    "from sklearn.linear_model import LogisticRegression\n",
    "lr = LogisticRegression()\n",
    "lr.fit(X_2_train, y_2_train)\n",
    "lr_predict =lr.predict(X_2_test)\n",
    "\n",
    "lr_predict_prob = lr.predict_proba(X_2_test)"
   ]
  },
  {
   "cell_type": "code",
   "execution_count": 163,
   "metadata": {
    "scrolled": true
   },
   "outputs": [
    {
     "name": "stdout",
     "output_type": "stream",
     "text": [
      "[[ 0  1  1  0]\n",
      " [ 0  0 10  1]\n",
      " [ 0  4 12  5]\n",
      " [ 0  2 11 10]]\n",
      "0.38596491228070173\n"
     ]
    },
    {
     "data": {
      "text/plain": [
       "0.38596491228070173"
      ]
     },
     "execution_count": 163,
     "metadata": {},
     "output_type": "execute_result"
    }
   ],
   "source": [
    "from sklearn.metrics import confusion_matrix, accuracy_score\n",
    "lr_conf_matrix = confusion_matrix(y_2_test, lr_predict)\n",
    "lr_accuracy = accuracy_score(y_2_test, lr_predict)\n",
    "\n",
    "print(lr_conf_matrix)\n",
    "print(lr_accuracy)\n",
    "\n",
    "metrics.f1_score(y_2_test, lr_predict, average='micro') "
   ]
  },
  {
   "cell_type": "markdown",
   "metadata": {},
   "source": [
    "<font color=  #3498db >\n",
    "\n",
    "#### Decision Tree Classifier"
   ]
  },
  {
   "cell_type": "code",
   "execution_count": 164,
   "metadata": {},
   "outputs": [
    {
     "name": "stdout",
     "output_type": "stream",
     "text": [
      "[[ 0  1  1  0]\n",
      " [ 0  1  9  1]\n",
      " [ 0  9  8  4]\n",
      " [ 0  3 14  6]]\n",
      "0.2631578947368421\n"
     ]
    }
   ],
   "source": [
    "from sklearn.tree import DecisionTreeClassifier\n",
    "dt = DecisionTreeClassifier(max_depth=10)\n",
    "\n",
    "dt.fit(X_2_train,y_2_train)\n",
    "dt_predict = dt.predict(X_2_test)\n",
    "dt_predict_prob = dt.predict_proba(X_2_test)\n",
    "\n",
    "dt_conf_matrix = confusion_matrix(y_2_test, dt_predict)\n",
    "dt_accuracy_score = accuracy_score(y_2_test, dt_predict)\n",
    "\n",
    "print(dt_conf_matrix)\n",
    "print(dt_accuracy_score)"
   ]
  },
  {
   "cell_type": "markdown",
   "metadata": {},
   "source": [
    "<font color=  #3498db >\n",
    "\n",
    "#### GaussianNB"
   ]
  },
  {
   "cell_type": "code",
   "execution_count": 165,
   "metadata": {},
   "outputs": [
    {
     "name": "stdout",
     "output_type": "stream",
     "text": [
      "[[ 0  1  1  0]\n",
      " [ 0  2  6  3]\n",
      " [ 2  7  2 10]\n",
      " [ 1  3 10  9]]\n",
      "0.22807017543859648\n"
     ]
    }
   ],
   "source": [
    "from sklearn.naive_bayes import GaussianNB\n",
    "gnb = GaussianNB()\n",
    "gnb.fit(X_2_train, y_2_train)\n",
    "gnb_predict = gnb.predict(X_2_test)\n",
    "gnb_predict_prob = gnb.predict_proba(X_2_test)\n",
    "\n",
    "gnb_conf_matrix = confusion_matrix(y_2_test, gnb_predict)\n",
    "gnb_accuracy_score = accuracy_score(y_2_test, gnb_predict)\n",
    "\n",
    "print(gnb_conf_matrix)\n",
    "print(gnb_accuracy_score)"
   ]
  },
  {
   "cell_type": "markdown",
   "metadata": {},
   "source": [
    "<font color=  #3498db >\n",
    "\n",
    "#### LightGBM"
   ]
  },
  {
   "cell_type": "code",
   "execution_count": 48,
   "metadata": {},
   "outputs": [],
   "source": [
    "df2 = df[['Results', #for prediction\n",
    "          'Gender','Weight','Fighter','Opponant','Entrance','Gym', #match entrace data\n",
    "          'Belt','age_float','blackbelt_float', #fighter info\n",
    "          'Num_ADCC_comp','Highest_ADCC_place','Max_ADCC_medals','MR_ADCC_Medal_yr','Highest_Trials_place',\n",
    "          'Max_tr_medals','MR_tr_Medal_yr',\n",
    "          #'IBJJF_world', 'IBJJF_majors','Other_tours', \n",
    "          'MR_IBJJF_W_yr', 'IBJJF_W_belt', 'Num_IBJJF_W_medals','MR_IBJJF_W_place', 'MR_IBJJF_yr', 'IBJJF_belt', \n",
    "          'Num_IBJJF_medals','MR_IBJJF_place', 'MR_Other_yr', 'Other_belt', 'Num_Other_medals','MR_Other_place'\n",
    "         ]]"
   ]
  },
  {
   "cell_type": "code",
   "execution_count": 49,
   "metadata": {},
   "outputs": [],
   "source": [
    "df2.fillna(0, inplace=True)"
   ]
  },
  {
   "cell_type": "code",
   "execution_count": 50,
   "metadata": {},
   "outputs": [],
   "source": [
    "df2.Num_ADCC_comp= df2.Num_ADCC_comp.astype(int)\n",
    "df2.Highest_ADCC_place= df2.Highest_ADCC_place.astype(int)\n",
    "df2.Max_ADCC_medals= df2.Max_ADCC_medals.astype(int)\n",
    "df2.MR_ADCC_Medal_yr= df2.MR_ADCC_Medal_yr.astype(int)\n",
    "df2.Highest_Trials_place= df2.Highest_Trials_place.astype(int)\n",
    "df2.Max_tr_medals= df2.Max_tr_medals.astype(int)\n",
    "df2.MR_tr_Medal_yr= df2.MR_tr_Medal_yr.astype(int)\n",
    "\n",
    "df2.MR_IBJJF_W_yr= df2.MR_IBJJF_W_yr.astype(int)\n",
    "df2.Num_IBJJF_W_medals= df2.Num_IBJJF_W_medals.astype(int)\n",
    "df2.MR_IBJJF_W_place= df2.MR_IBJJF_W_place.astype(int)\n",
    "\n",
    "df2.MR_IBJJF_yr= df2.MR_IBJJF_yr.astype(int)\n",
    "df2.Num_IBJJF_medals= df2.Num_IBJJF_medals.astype(int)\n",
    "df2.MR_IBJJF_place= df2.MR_IBJJF_place.astype(int)\n",
    "df2.MR_Other_yr= df2.MR_Other_yr.astype(int)\n",
    "df2.Num_Other_medals= df2.Num_Other_medals.astype(int)\n",
    "df2.MR_Other_place= df2.MR_Other_place.astype(int)\n",
    "\n",
    "df2.age_float= df2.age_float.astype(int)\n",
    "df2.blackbelt_float= df2.blackbelt_float.astype(int)\n",
    "\n",
    "df2.Gym= df2.Gym.astype(str)\n",
    "df2.Belt= df2.Belt.astype(str)\n",
    "df2.Entrance= df2.Entrance.astype(str)\n",
    "df2.IBJJF_W_belt= df2.IBJJF_W_belt.astype(str)\n",
    "df2.IBJJF_belt= df2.IBJJF_belt.astype(str)\n",
    "df2.Other_belt= df2.Other_belt.astype(str)"
   ]
  },
  {
   "cell_type": "code",
   "execution_count": 51,
   "metadata": {},
   "outputs": [
    {
     "data": {
      "text/html": [
       "<div>\n",
       "<style scoped>\n",
       "    .dataframe tbody tr th:only-of-type {\n",
       "        vertical-align: middle;\n",
       "    }\n",
       "\n",
       "    .dataframe tbody tr th {\n",
       "        vertical-align: top;\n",
       "    }\n",
       "\n",
       "    .dataframe thead th {\n",
       "        text-align: right;\n",
       "    }\n",
       "</style>\n",
       "<table border=\"1\" class=\"dataframe\">\n",
       "  <thead>\n",
       "    <tr style=\"text-align: right;\">\n",
       "      <th></th>\n",
       "      <th>Results</th>\n",
       "    </tr>\n",
       "  </thead>\n",
       "  <tbody>\n",
       "    <tr>\n",
       "      <th>0</th>\n",
       "      <td>0</td>\n",
       "    </tr>\n",
       "    <tr>\n",
       "      <th>1</th>\n",
       "      <td>1</td>\n",
       "    </tr>\n",
       "    <tr>\n",
       "      <th>2</th>\n",
       "      <td>1</td>\n",
       "    </tr>\n",
       "  </tbody>\n",
       "</table>\n",
       "</div>"
      ],
      "text/plain": [
       "   Results\n",
       "0        0\n",
       "1        1\n",
       "2        1"
      ]
     },
     "execution_count": 51,
     "metadata": {},
     "output_type": "execute_result"
    }
   ],
   "source": [
    "#label encode the target column\n",
    "from sklearn.preprocessing import LabelEncoder\n",
    "\n",
    "target = ['Results']\n",
    "\n",
    "encoder = LabelEncoder()\n",
    "\n",
    "# Apply the label encoder to each column\n",
    "encoded = df2[target].apply(encoder.fit_transform)\n",
    "encoded.head(3)"
   ]
  },
  {
   "cell_type": "code",
   "execution_count": 52,
   "metadata": {},
   "outputs": [],
   "source": [
    "# segment categorical features\n",
    "\n",
    "cat_features = ['Gender','Weight','Fighter','Opponant',\n",
    "       'Entrance','Gym','Belt','IBJJF_W_belt', 'IBJJF_belt','Other_belt',\n",
    "               ]"
   ]
  },
  {
   "cell_type": "code",
   "execution_count": 53,
   "metadata": {},
   "outputs": [
    {
     "data": {
      "text/html": [
       "<div>\n",
       "<style scoped>\n",
       "    .dataframe tbody tr th:only-of-type {\n",
       "        vertical-align: middle;\n",
       "    }\n",
       "\n",
       "    .dataframe tbody tr th {\n",
       "        vertical-align: top;\n",
       "    }\n",
       "\n",
       "    .dataframe thead th {\n",
       "        text-align: right;\n",
       "    }\n",
       "</style>\n",
       "<table border=\"1\" class=\"dataframe\">\n",
       "  <thead>\n",
       "    <tr style=\"text-align: right;\">\n",
       "      <th></th>\n",
       "      <th>age_float</th>\n",
       "      <th>blackbelt_float</th>\n",
       "      <th>Num_ADCC_comp</th>\n",
       "      <th>Highest_ADCC_place</th>\n",
       "      <th>Max_ADCC_medals</th>\n",
       "      <th>MR_ADCC_Medal_yr</th>\n",
       "      <th>Highest_Trials_place</th>\n",
       "      <th>Max_tr_medals</th>\n",
       "      <th>MR_tr_Medal_yr</th>\n",
       "      <th>MR_IBJJF_W_yr</th>\n",
       "      <th>...</th>\n",
       "      <th>IBJJF_W_belt__brown</th>\n",
       "      <th>IBJJF_W_belt__purple</th>\n",
       "      <th>IBJJF_belt__0</th>\n",
       "      <th>IBJJF_belt__black</th>\n",
       "      <th>IBJJF_belt__brown</th>\n",
       "      <th>IBJJF_belt__purple</th>\n",
       "      <th>Other_belt__0</th>\n",
       "      <th>Other_belt__black</th>\n",
       "      <th>Other_belt__brown</th>\n",
       "      <th>Other_belt__purple</th>\n",
       "    </tr>\n",
       "  </thead>\n",
       "  <tbody>\n",
       "    <tr>\n",
       "      <th>0</th>\n",
       "      <td>28</td>\n",
       "      <td>6</td>\n",
       "      <td>1</td>\n",
       "      <td>3</td>\n",
       "      <td>1</td>\n",
       "      <td>2019</td>\n",
       "      <td>0</td>\n",
       "      <td>0</td>\n",
       "      <td>0</td>\n",
       "      <td>2019</td>\n",
       "      <td>...</td>\n",
       "      <td>0</td>\n",
       "      <td>0</td>\n",
       "      <td>0</td>\n",
       "      <td>1</td>\n",
       "      <td>0</td>\n",
       "      <td>0</td>\n",
       "      <td>0</td>\n",
       "      <td>1</td>\n",
       "      <td>0</td>\n",
       "      <td>0</td>\n",
       "    </tr>\n",
       "    <tr>\n",
       "      <th>1</th>\n",
       "      <td>28</td>\n",
       "      <td>6</td>\n",
       "      <td>4</td>\n",
       "      <td>0</td>\n",
       "      <td>0</td>\n",
       "      <td>2019</td>\n",
       "      <td>0</td>\n",
       "      <td>0</td>\n",
       "      <td>0</td>\n",
       "      <td>0</td>\n",
       "      <td>...</td>\n",
       "      <td>0</td>\n",
       "      <td>0</td>\n",
       "      <td>0</td>\n",
       "      <td>1</td>\n",
       "      <td>0</td>\n",
       "      <td>0</td>\n",
       "      <td>0</td>\n",
       "      <td>1</td>\n",
       "      <td>0</td>\n",
       "      <td>0</td>\n",
       "    </tr>\n",
       "    <tr>\n",
       "      <th>2</th>\n",
       "      <td>37</td>\n",
       "      <td>6</td>\n",
       "      <td>1</td>\n",
       "      <td>0</td>\n",
       "      <td>0</td>\n",
       "      <td>2019</td>\n",
       "      <td>1</td>\n",
       "      <td>1</td>\n",
       "      <td>2019</td>\n",
       "      <td>0</td>\n",
       "      <td>...</td>\n",
       "      <td>0</td>\n",
       "      <td>0</td>\n",
       "      <td>0</td>\n",
       "      <td>1</td>\n",
       "      <td>0</td>\n",
       "      <td>0</td>\n",
       "      <td>0</td>\n",
       "      <td>1</td>\n",
       "      <td>0</td>\n",
       "      <td>0</td>\n",
       "    </tr>\n",
       "    <tr>\n",
       "      <th>3</th>\n",
       "      <td>27</td>\n",
       "      <td>4</td>\n",
       "      <td>1</td>\n",
       "      <td>0</td>\n",
       "      <td>0</td>\n",
       "      <td>2019</td>\n",
       "      <td>0</td>\n",
       "      <td>0</td>\n",
       "      <td>0</td>\n",
       "      <td>2018</td>\n",
       "      <td>...</td>\n",
       "      <td>0</td>\n",
       "      <td>0</td>\n",
       "      <td>0</td>\n",
       "      <td>1</td>\n",
       "      <td>0</td>\n",
       "      <td>0</td>\n",
       "      <td>0</td>\n",
       "      <td>1</td>\n",
       "      <td>0</td>\n",
       "      <td>0</td>\n",
       "    </tr>\n",
       "    <tr>\n",
       "      <th>4</th>\n",
       "      <td>29</td>\n",
       "      <td>9</td>\n",
       "      <td>3</td>\n",
       "      <td>1</td>\n",
       "      <td>4</td>\n",
       "      <td>2017</td>\n",
       "      <td>0</td>\n",
       "      <td>0</td>\n",
       "      <td>0</td>\n",
       "      <td>2019</td>\n",
       "      <td>...</td>\n",
       "      <td>0</td>\n",
       "      <td>0</td>\n",
       "      <td>0</td>\n",
       "      <td>1</td>\n",
       "      <td>0</td>\n",
       "      <td>0</td>\n",
       "      <td>0</td>\n",
       "      <td>1</td>\n",
       "      <td>0</td>\n",
       "      <td>0</td>\n",
       "    </tr>\n",
       "  </tbody>\n",
       "</table>\n",
       "<p>5 rows × 296 columns</p>\n",
       "</div>"
      ],
      "text/plain": [
       "   age_float  blackbelt_float  Num_ADCC_comp  Highest_ADCC_place  \\\n",
       "0         28                6              1                   3   \n",
       "1         28                6              4                   0   \n",
       "2         37                6              1                   0   \n",
       "3         27                4              1                   0   \n",
       "4         29                9              3                   1   \n",
       "\n",
       "   Max_ADCC_medals  MR_ADCC_Medal_yr  Highest_Trials_place  Max_tr_medals  \\\n",
       "0                1              2019                     0              0   \n",
       "1                0              2019                     0              0   \n",
       "2                0              2019                     1              1   \n",
       "3                0              2019                     0              0   \n",
       "4                4              2017                     0              0   \n",
       "\n",
       "   MR_tr_Medal_yr  MR_IBJJF_W_yr  ...  IBJJF_W_belt__brown  \\\n",
       "0               0           2019  ...                    0   \n",
       "1               0              0  ...                    0   \n",
       "2            2019              0  ...                    0   \n",
       "3               0           2018  ...                    0   \n",
       "4               0           2019  ...                    0   \n",
       "\n",
       "   IBJJF_W_belt__purple  IBJJF_belt__0  IBJJF_belt__black  IBJJF_belt__brown  \\\n",
       "0                     0              0                  1                  0   \n",
       "1                     0              0                  1                  0   \n",
       "2                     0              0                  1                  0   \n",
       "3                     0              0                  1                  0   \n",
       "4                     0              0                  1                  0   \n",
       "\n",
       "   IBJJF_belt__purple  Other_belt__0  Other_belt__black  Other_belt__brown  \\\n",
       "0                   0              0                  1                  0   \n",
       "1                   0              0                  1                  0   \n",
       "2                   0              0                  1                  0   \n",
       "3                   0              0                  1                  0   \n",
       "4                   0              0                  1                  0   \n",
       "\n",
       "   Other_belt__purple  \n",
       "0                   0  \n",
       "1                   0  \n",
       "2                   0  \n",
       "3                   0  \n",
       "4                   0  \n",
       "\n",
       "[5 rows x 296 columns]"
      ]
     },
     "execution_count": 53,
     "metadata": {},
     "output_type": "execute_result"
    }
   ],
   "source": [
    "#ohe with pandas get_dummies for categorical features, drop the target\n",
    "df2.drop(columns=['Results'], inplace=True)\n",
    "data = pd.get_dummies(df2,prefix_sep=\"__\",\n",
    "                              columns=cat_features)\n",
    "\n",
    "data.head()"
   ]
  },
  {
   "cell_type": "markdown",
   "metadata": {},
   "source": [
    "<font color=  #3498db >\n",
    "\n",
    "Train / Test Split with GridSearchCV"
   ]
  },
  {
   "cell_type": "code",
   "execution_count": 54,
   "metadata": {},
   "outputs": [],
   "source": [
    "y = encoded \n",
    "X = data"
   ]
  },
  {
   "cell_type": "code",
   "execution_count": 55,
   "metadata": {},
   "outputs": [
    {
     "data": {
      "text/plain": [
       "(226, 296)"
      ]
     },
     "metadata": {},
     "output_type": "display_data"
    },
    {
     "data": {
      "text/plain": [
       "(226, 1)"
      ]
     },
     "metadata": {},
     "output_type": "display_data"
    }
   ],
   "source": [
    "display(X.shape)\n",
    "display(y.shape)"
   ]
  },
  {
   "cell_type": "code",
   "execution_count": 56,
   "metadata": {},
   "outputs": [
    {
     "name": "stdout",
     "output_type": "stream",
     "text": [
      "Training X_train Shape: (169, 296)\n",
      "Training y_train Shape: (169, 1)\n",
      "Testing X_test Shape: (57, 296)\n",
      "Testing y_test Shape: (57, 1)\n"
     ]
    }
   ],
   "source": [
    "from sklearn.model_selection import train_test_split\n",
    "\n",
    "# Split dataset into training set and test set\n",
    "X_train, X_test, y_train, y_test = train_test_split(X,y, test_size=0.25,random_state=109)\n",
    "\n",
    "print('Training X_train Shape:', X_train.shape)\n",
    "print('Training y_train Shape:', y_train.shape)\n",
    "print('Testing X_test Shape:', X_test.shape)\n",
    "print('Testing y_test Shape:', y_test.shape)"
   ]
  },
  {
   "cell_type": "code",
   "execution_count": null,
   "metadata": {},
   "outputs": [],
   "source": [
    "import lightgbm as lgb\n",
    "from sklearn.metrics import auc, accuracy_score, roc_auc_score, roc_curve\n",
    "from sklearn.model_selection import GridSearchCV\n",
    "\n",
    "estimator = lgb.LGBMClassifier(learning_rate = 0.125, metric = 'l1', \n",
    "                        n_estimators = 20, num_leaves = 38)\n",
    "\n",
    "\n",
    "param_grid = {\n",
    "    'n_estimators': [x for x in range(24,40,2)],\n",
    "    'learning_rate': [0.10, 0.125, 0.15, 0.175, 0.2]}\n",
    "gridsearch = GridSearchCV(estimator, param_grid)\n",
    "\n",
    "gridsearch.fit(X_train, y_train,\n",
    "        eval_set = [(X_test, y_test)],\n",
    "        eval_metric = ['auc', 'binary_logloss'],\n",
    "        early_stopping_rounds = 5)"
   ]
  },
  {
   "cell_type": "code",
   "execution_count": 59,
   "metadata": {},
   "outputs": [
    {
     "name": "stdout",
     "output_type": "stream",
     "text": [
      "[1]\tvalid_0's auc: 0.583128\tvalid_0's binary_logloss: 0.687776\tvalid_0's l1: 0.496311\n",
      "Training until validation scores don't improve for 5 rounds\n",
      "[2]\tvalid_0's auc: 0.553571\tvalid_0's binary_logloss: 0.688686\tvalid_0's l1: 0.494523\n",
      "[3]\tvalid_0's auc: 0.561576\tvalid_0's binary_logloss: 0.688714\tvalid_0's l1: 0.491568\n",
      "[4]\tvalid_0's auc: 0.571429\tvalid_0's binary_logloss: 0.686527\tvalid_0's l1: 0.489243\n",
      "[5]\tvalid_0's auc: 0.578818\tvalid_0's binary_logloss: 0.684953\tvalid_0's l1: 0.486661\n",
      "[6]\tvalid_0's auc: 0.568966\tvalid_0's binary_logloss: 0.689883\tvalid_0's l1: 0.486121\n",
      "Early stopping, best iteration is:\n",
      "[1]\tvalid_0's auc: 0.583128\tvalid_0's binary_logloss: 0.687776\tvalid_0's l1: 0.496311\n"
     ]
    },
    {
     "data": {
      "text/plain": [
       "LGBMClassifier(boosting_type='gbdt', class_weight=None, colsample_bytree=1.0,\n",
       "               importance_type='split', learning_rate=0.15, max_depth=-1,\n",
       "               metric='l1', min_child_samples=20, min_child_weight=0.001,\n",
       "               min_split_gain=0.0, n_estimators=24, n_jobs=-1, num_leaves=31,\n",
       "               objective=None, random_state=None, reg_alpha=0.0, reg_lambda=0.0,\n",
       "               silent=True, subsample=1.0, subsample_for_bin=200000,\n",
       "               subsample_freq=0)"
      ]
     },
     "execution_count": 59,
     "metadata": {},
     "output_type": "execute_result"
    }
   ],
   "source": [
    "gbm = lgb.LGBMClassifier(learning_rate = 0.15, metric = 'l1', \n",
    "                        n_estimators = 24)\n",
    "\n",
    "\n",
    "gbm.fit(X_train, y_train,\n",
    "        eval_set=[(X_test, y_test)],\n",
    "        eval_metric=['auc', 'binary_logloss'],\n",
    "early_stopping_rounds=5)"
   ]
  },
  {
   "cell_type": "code",
   "execution_count": 65,
   "metadata": {},
   "outputs": [
    {
     "data": {
      "image/png": "[encoded data removed]",
      "text/plain": [
       "<Figure size 432x432 with 1 Axes>"
      ]
     },
     "metadata": {
      "needs_background": "light"
     },
     "output_type": "display_data"
    }
   ],
   "source": [
    "import matplotlib.pyplot as plt\n",
    "ax = lgb.plot_importance(gbm, height = 0.4, \n",
    "#                          max_num_features = 25, \n",
    "                         xlim = (0,20), \n",
    "#                          ylim = (0,23), \n",
    "                         figsize = (6,6))\n",
    "plt.show()"
   ]
  },
  {
   "cell_type": "code",
   "execution_count": 67,
   "metadata": {},
   "outputs": [
    {
     "name": "stdout",
     "output_type": "stream",
     "text": [
      "The accuracy of prediction is: 0.543859649122807\n",
      "The roc_auc_score of prediction is: 0.5437192118226601\n"
     ]
    }
   ],
   "source": [
    "y_pred = gbm.predict(X_test, num_iteration=gbm.best_iteration_)\n",
    "print('The accuracy of prediction is:', accuracy_score(y_test, y_pred))\n",
    "print('The roc_auc_score of prediction is:', roc_auc_score(y_test, y_pred))\n",
    "# print('The null acccuracy is:', max(y_test.mean(), 1 - y_test.mean()))"
   ]
  },
  {
   "cell_type": "code",
   "execution_count": 70,
   "metadata": {},
   "outputs": [
    {
     "data": {
      "image/png": "[encoded data removed]",
      "text/plain": [
       "<Figure size 432x288 with 1 Axes>"
      ]
     },
     "metadata": {
      "needs_background": "light"
     },
     "output_type": "display_data"
    }
   ],
   "source": [
    "y_pred_prob = gbm.predict_proba(X_test)[:, 1]\n",
    "fpr, tpr, thresholds = roc_curve(y_test, y_pred_prob)\n",
    "\n",
    "plt.plot(fpr, tpr)\n",
    "plt.xlim([0.0, 1.0])\n",
    "plt.ylim([0.0, 1.0])\n",
    "plt.rcParams['font.size'] = 12\n",
    "plt.title('ROC curve for ADCC win/loss classifier')\n",
    "plt.xlabel('False Positive Rate (1 - Specificity)')\n",
    "plt.grid(True)"
   ]
  },
  {
   "cell_type": "code",
   "execution_count": 71,
   "metadata": {},
   "outputs": [
    {
     "name": "stdout",
     "output_type": "stream",
     "text": [
      "[[15 13]\n",
      " [13 16]]\n"
     ]
    }
   ],
   "source": [
    "from sklearn import metrics\n",
    "print(metrics.confusion_matrix(y_test, y_pred))"
   ]
  },
  {
   "cell_type": "markdown",
   "metadata": {},
   "source": [
    "<font color=  #3498db >\n",
    "\n",
    "Train / Test / Validation "
   ]
  },
  {
   "cell_type": "code",
   "execution_count": 37,
   "metadata": {},
   "outputs": [],
   "source": [
    "data.fillna(0, inplace=True)"
   ]
  },
  {
   "cell_type": "code",
   "execution_count": 38,
   "metadata": {},
   "outputs": [],
   "source": [
    "#add target encoded to all data ohe\n",
    "data_1 = data.join(encoded)"
   ]
  },
  {
   "cell_type": "code",
   "execution_count": 39,
   "metadata": {},
   "outputs": [
    {
     "data": {
      "text/html": [
       "<div>\n",
       "<style scoped>\n",
       "    .dataframe tbody tr th:only-of-type {\n",
       "        vertical-align: middle;\n",
       "    }\n",
       "\n",
       "    .dataframe tbody tr th {\n",
       "        vertical-align: top;\n",
       "    }\n",
       "\n",
       "    .dataframe thead th {\n",
       "        text-align: right;\n",
       "    }\n",
       "</style>\n",
       "<table border=\"1\" class=\"dataframe\">\n",
       "  <thead>\n",
       "    <tr style=\"text-align: right;\">\n",
       "      <th></th>\n",
       "      <th>age_float</th>\n",
       "      <th>blackbelt_float</th>\n",
       "      <th>Num_ADCC_comp</th>\n",
       "      <th>Highest_ADCC_place</th>\n",
       "      <th>Max_ADCC_medals</th>\n",
       "      <th>MR_ADCC_Medal_yr</th>\n",
       "      <th>Highest_Trials_place</th>\n",
       "      <th>Max_tr_medals</th>\n",
       "      <th>MR_tr_Medal_yr</th>\n",
       "      <th>MR_IBJJF_W_yr</th>\n",
       "      <th>...</th>\n",
       "      <th>IBJJF_W_belt__purple</th>\n",
       "      <th>IBJJF_belt__0</th>\n",
       "      <th>IBJJF_belt__black</th>\n",
       "      <th>IBJJF_belt__brown</th>\n",
       "      <th>IBJJF_belt__purple</th>\n",
       "      <th>Other_belt__0</th>\n",
       "      <th>Other_belt__black</th>\n",
       "      <th>Other_belt__brown</th>\n",
       "      <th>Other_belt__purple</th>\n",
       "      <th>Results</th>\n",
       "    </tr>\n",
       "  </thead>\n",
       "  <tbody>\n",
       "    <tr>\n",
       "      <th>0</th>\n",
       "      <td>28</td>\n",
       "      <td>6</td>\n",
       "      <td>1</td>\n",
       "      <td>3</td>\n",
       "      <td>1</td>\n",
       "      <td>2019</td>\n",
       "      <td>0</td>\n",
       "      <td>0</td>\n",
       "      <td>0</td>\n",
       "      <td>2019</td>\n",
       "      <td>...</td>\n",
       "      <td>0</td>\n",
       "      <td>0</td>\n",
       "      <td>1</td>\n",
       "      <td>0</td>\n",
       "      <td>0</td>\n",
       "      <td>0</td>\n",
       "      <td>1</td>\n",
       "      <td>0</td>\n",
       "      <td>0</td>\n",
       "      <td>0</td>\n",
       "    </tr>\n",
       "    <tr>\n",
       "      <th>1</th>\n",
       "      <td>28</td>\n",
       "      <td>6</td>\n",
       "      <td>4</td>\n",
       "      <td>0</td>\n",
       "      <td>0</td>\n",
       "      <td>2019</td>\n",
       "      <td>0</td>\n",
       "      <td>0</td>\n",
       "      <td>0</td>\n",
       "      <td>0</td>\n",
       "      <td>...</td>\n",
       "      <td>0</td>\n",
       "      <td>0</td>\n",
       "      <td>1</td>\n",
       "      <td>0</td>\n",
       "      <td>0</td>\n",
       "      <td>0</td>\n",
       "      <td>1</td>\n",
       "      <td>0</td>\n",
       "      <td>0</td>\n",
       "      <td>1</td>\n",
       "    </tr>\n",
       "    <tr>\n",
       "      <th>2</th>\n",
       "      <td>37</td>\n",
       "      <td>6</td>\n",
       "      <td>1</td>\n",
       "      <td>0</td>\n",
       "      <td>0</td>\n",
       "      <td>2019</td>\n",
       "      <td>1</td>\n",
       "      <td>1</td>\n",
       "      <td>2019</td>\n",
       "      <td>0</td>\n",
       "      <td>...</td>\n",
       "      <td>0</td>\n",
       "      <td>0</td>\n",
       "      <td>1</td>\n",
       "      <td>0</td>\n",
       "      <td>0</td>\n",
       "      <td>0</td>\n",
       "      <td>1</td>\n",
       "      <td>0</td>\n",
       "      <td>0</td>\n",
       "      <td>1</td>\n",
       "    </tr>\n",
       "  </tbody>\n",
       "</table>\n",
       "<p>3 rows × 297 columns</p>\n",
       "</div>"
      ],
      "text/plain": [
       "   age_float  blackbelt_float  Num_ADCC_comp  Highest_ADCC_place  \\\n",
       "0         28                6              1                   3   \n",
       "1         28                6              4                   0   \n",
       "2         37                6              1                   0   \n",
       "\n",
       "   Max_ADCC_medals  MR_ADCC_Medal_yr  Highest_Trials_place  Max_tr_medals  \\\n",
       "0                1              2019                     0              0   \n",
       "1                0              2019                     0              0   \n",
       "2                0              2019                     1              1   \n",
       "\n",
       "   MR_tr_Medal_yr  MR_IBJJF_W_yr  ...  IBJJF_W_belt__purple  IBJJF_belt__0  \\\n",
       "0               0           2019  ...                     0              0   \n",
       "1               0              0  ...                     0              0   \n",
       "2            2019              0  ...                     0              0   \n",
       "\n",
       "   IBJJF_belt__black  IBJJF_belt__brown  IBJJF_belt__purple  Other_belt__0  \\\n",
       "0                  1                  0                   0              0   \n",
       "1                  1                  0                   0              0   \n",
       "2                  1                  0                   0              0   \n",
       "\n",
       "   Other_belt__black  Other_belt__brown  Other_belt__purple  Results  \n",
       "0                  1                  0                   0        0  \n",
       "1                  1                  0                   0        1  \n",
       "2                  1                  0                   0        1  \n",
       "\n",
       "[3 rows x 297 columns]"
      ]
     },
     "execution_count": 39,
     "metadata": {},
     "output_type": "execute_result"
    }
   ],
   "source": [
    "data_1.head(3)"
   ]
  },
  {
   "cell_type": "code",
   "execution_count": 40,
   "metadata": {},
   "outputs": [],
   "source": [
    "# baseline model\n",
    "valid_fraction = 0.1\n",
    "valid_size = int(len(data_1) * valid_fraction)\n",
    "\n",
    "train = data_1[:-2 * valid_size]\n",
    "valid = data_1[-2 * valid_size:-valid_size]\n",
    "test = data_1[-valid_size:]"
   ]
  },
  {
   "cell_type": "code",
   "execution_count": 41,
   "metadata": {},
   "outputs": [
    {
     "name": "stdout",
     "output_type": "stream",
     "text": [
      "Result fraction = 0.5330\n",
      "Result fraction = 0.4545\n",
      "Result fraction = 0.2727\n"
     ]
    }
   ],
   "source": [
    "from sklearn import metrics\n",
    "for each in [train, valid, test]:\n",
    "    print(f\"Result fraction = {each.Results.mean():.4f}\")"
   ]
  },
  {
   "cell_type": "code",
   "execution_count": 42,
   "metadata": {
    "scrolled": true
   },
   "outputs": [],
   "source": [
    "import lightgbm as lgb\n",
    "\n",
    "feature_cols = train.columns.drop('Results')\n",
    "\n",
    "dtrain = lgb.Dataset(train[feature_cols], label=train['Results'])\n",
    "dvalid = lgb.Dataset(valid[feature_cols], label=valid['Results'])\n",
    "\n",
    "param = {'num_leaves': 64, 'objective': 'binary'}\n",
    "param['metric'] = 'auc'\n",
    "num_round = 1000\n",
    "bst = lgb.train(param, dtrain, num_round, valid_sets=[dvalid], early_stopping_rounds=10, verbose_eval=False)"
   ]
  },
  {
   "cell_type": "code",
   "execution_count": 43,
   "metadata": {},
   "outputs": [
    {
     "name": "stdout",
     "output_type": "stream",
     "text": [
      "Test AUC score: 0.40625\n"
     ]
    }
   ],
   "source": [
    "from sklearn import metrics\n",
    "ypred = bst.predict(test[feature_cols])\n",
    "score = metrics.roc_auc_score(test['Results'], ypred)\n",
    "\n",
    "print(f\"Test AUC score: {score}\")"
   ]
  },
  {
   "cell_type": "markdown",
   "metadata": {},
   "source": [
    "<font color=  #3498db >\n",
    "\n",
    "#### Categorical Encodings "
   ]
  },
  {
   "cell_type": "markdown",
   "metadata": {},
   "source": [
    "Here the model will learn on the validation data."
   ]
  },
  {
   "cell_type": "code",
   "execution_count": 44,
   "metadata": {},
   "outputs": [],
   "source": [
    "import lightgbm as lgb\n",
    "from sklearn import metrics\n",
    "\n",
    "def get_data_splits(dataframe, valid_fraction=0.1):\n",
    "    valid_fraction = 0.1\n",
    "    valid_size = int(len(dataframe) * valid_fraction)\n",
    "\n",
    "    train = dataframe[:-valid_size * 2]\n",
    "    # valid size == test size, last two sections of the data\n",
    "    valid = dataframe[-valid_size * 2:-valid_size]\n",
    "    test = dataframe[-valid_size:]\n",
    "    \n",
    "    return train, valid, test\n",
    "\n",
    "def train_model(train, valid):\n",
    "    feature_cols = train.columns.drop('Results')\n",
    "\n",
    "    dtrain = lgb.Dataset(train[feature_cols], label=train['Results'])\n",
    "    dvalid = lgb.Dataset(valid[feature_cols], label=valid['Results'])\n",
    "\n",
    "    param = {'num_leaves': 64, 'objective': 'binary', \n",
    "             'metric': 'auc', }\n",
    "    print(\"Training model!\")\n",
    "    bst = lgb.train(param, dtrain, num_boost_round=1000, valid_sets=[dvalid], \n",
    "                    early_stopping_rounds=10, verbose_eval=False)\n",
    "\n",
    "    valid_pred = bst.predict(valid[feature_cols])\n",
    "    valid_score = metrics.roc_auc_score(valid['Results'], valid_pred)\n",
    "    print(f\"Validation AUC score: {valid_score:.4f}\") \n",
    "    return bst"
   ]
  },
  {
   "cell_type": "code",
   "execution_count": 45,
   "metadata": {},
   "outputs": [
    {
     "name": "stdout",
     "output_type": "stream",
     "text": [
      "Training model!\n",
      "Validation AUC score: 0.8167\n"
     ]
    }
   ],
   "source": [
    "# Training a model on the baseline data\n",
    "train, valid, _ = get_data_splits(data_1)\n",
    "\n",
    "bst = train_model(train, valid)"
   ]
  },
  {
   "cell_type": "markdown",
   "metadata": {},
   "source": [
    "<font color=  #3498db >\n",
    "\n",
    "Tune Hyperparameters"
   ]
  },
  {
   "cell_type": "code",
   "execution_count": 46,
   "metadata": {},
   "outputs": [],
   "source": [
    "import lightgbm as lgb\n",
    "from sklearn import metrics\n",
    "\n",
    "def get_data_splits(dataframe, valid_fraction=0.1):\n",
    "    valid_fraction = 0.1\n",
    "    valid_size = int(len(dataframe) * valid_fraction)\n",
    "\n",
    "    train = dataframe[:-valid_size * 2]\n",
    "    # valid size == test size, last two sections of the data\n",
    "    valid = dataframe[-valid_size * 2:-valid_size]\n",
    "    test = dataframe[-valid_size:]\n",
    "    \n",
    "    return train, valid, test\n",
    "\n",
    "def train_model(train, valid):\n",
    "    feature_cols = train.columns.drop('Results')\n",
    "\n",
    "    dtrain = lgb.Dataset(train[feature_cols], label=train['Results'])\n",
    "    dvalid = lgb.Dataset(valid[feature_cols], label=valid['Results'])\n",
    "\n",
    "    param = {'num_leaves': 10, 'objective': 'binary', 'learning_rate': 2, 'max_depth': 10, 'feature_fraction':1,\n",
    "             'metric': 'auc', 'seed': 7, 'min_data':20 } #'boosting_type': 'gbdt', 'sub_features': 0.5,\n",
    "            # lowering num leaves loweres the score\n",
    "            # learning rate 2 had the max and raised score from 81 to 85\n",
    "            # changing seed didn't change the score\n",
    "            # added/removing boosting type and sub features didn't change anything\n",
    "    print(\"Training model!\")\n",
    "    bst = lgb.train(param, dtrain, num_boost_round=1000, valid_sets=[dvalid], \n",
    "                    early_stopping_rounds=10, verbose_eval=False)\n",
    "\n",
    "    valid_pred = bst.predict(valid[feature_cols])\n",
    "    valid_score = metrics.roc_auc_score(valid['Results'], valid_pred)\n",
    "    print(f\"Validation AUC score: {valid_score:.4f}\")\n",
    "    return bst"
   ]
  },
  {
   "cell_type": "code",
   "execution_count": 47,
   "metadata": {},
   "outputs": [
    {
     "name": "stdout",
     "output_type": "stream",
     "text": [
      "Training model!\n",
      "Validation AUC score: 0.8500\n"
     ]
    }
   ],
   "source": [
    "# Training a model on the baseline data\n",
    "train, valid, _ = get_data_splits(data_1)\n",
    "\n",
    "bst = train_model(train, valid)"
   ]
  },
  {
   "cell_type": "code",
   "execution_count": 190,
   "metadata": {},
   "outputs": [
    {
     "data": {
      "image/png": "[encoded data removed]",
      "text/plain": [
       "<Figure size 576x576 with 1 Axes>"
      ]
     },
     "metadata": {
      "needs_background": "light"
     },
     "output_type": "display_data"
    }
   ],
   "source": [
    "_ = lgb.plot_importance(bst, figsize=(8,8))"
   ]
  },
  {
   "cell_type": "markdown",
   "metadata": {},
   "source": [
    "<font color=  #3498db >\n",
    "Count Encoding"
   ]
  },
  {
   "cell_type": "markdown",
   "metadata": {},
   "source": [
    "Count encoding replaces each categorical value with the number of times it appears in the dataset."
   ]
  },
  {
   "cell_type": "code",
   "execution_count": 210,
   "metadata": {},
   "outputs": [
    {
     "data": {
      "text/html": [
       "<div>\n",
       "<style scoped>\n",
       "    .dataframe tbody tr th:only-of-type {\n",
       "        vertical-align: middle;\n",
       "    }\n",
       "\n",
       "    .dataframe tbody tr th {\n",
       "        vertical-align: top;\n",
       "    }\n",
       "\n",
       "    .dataframe thead th {\n",
       "        text-align: right;\n",
       "    }\n",
       "</style>\n",
       "<table border=\"1\" class=\"dataframe\">\n",
       "  <thead>\n",
       "    <tr style=\"text-align: right;\">\n",
       "      <th></th>\n",
       "      <th>Results</th>\n",
       "    </tr>\n",
       "  </thead>\n",
       "  <tbody>\n",
       "    <tr>\n",
       "      <th>0</th>\n",
       "      <td>0</td>\n",
       "    </tr>\n",
       "    <tr>\n",
       "      <th>1</th>\n",
       "      <td>1</td>\n",
       "    </tr>\n",
       "    <tr>\n",
       "      <th>2</th>\n",
       "      <td>1</td>\n",
       "    </tr>\n",
       "  </tbody>\n",
       "</table>\n",
       "</div>"
      ],
      "text/plain": [
       "   Results\n",
       "0        0\n",
       "1        1\n",
       "2        1"
      ]
     },
     "execution_count": 210,
     "metadata": {},
     "output_type": "execute_result"
    }
   ],
   "source": [
    "#label encode the target column\n",
    "from sklearn.preprocessing import LabelEncoder\n",
    "\n",
    "target = ['Results']\n",
    "\n",
    "encoder = LabelEncoder()\n",
    "\n",
    "# Apply the label encoder to each column\n",
    "encoded = df2[target].apply(encoder.fit_transform)\n",
    "encoded.head(3)"
   ]
  },
  {
   "cell_type": "code",
   "execution_count": 211,
   "metadata": {},
   "outputs": [],
   "source": [
    "# segment categorical features\n",
    "\n",
    "cat_features = ['Gender','Weight','Fighter','Opponant',\n",
    "       'Entrance','Gym','Belt','IBJJF_W_belt', 'IBJJF_belt','Other_belt',\n",
    "               ]"
   ]
  },
  {
   "cell_type": "code",
   "execution_count": 212,
   "metadata": {},
   "outputs": [],
   "source": [
    "import category_encoders as ce\n",
    "count_enc = ce.CountEncoder()\n",
    "count_encoded = count_enc.fit_transform(df2[cat_features])\n",
    "\n",
    "data_cols = ['age_float', 'blackbelt_float',\n",
    "       'Num_ADCC_comp', 'Highest_ADCC_place', 'Max_ADCC_medals',\n",
    "       'MR_ADCC_Medal_yr', 'Highest_Trials_place', 'Max_tr_medals',\n",
    "       'MR_tr_Medal_yr', 'MR_IBJJF_W_yr', 'Num_IBJJF_W_medals',\n",
    "       'MR_IBJJF_W_place', 'MR_IBJJF_yr', 'Num_IBJJF_medals',\n",
    "       'MR_IBJJF_place', 'MR_Other_yr', 'Num_Other_medals',\n",
    "       'MR_Other_place']\n",
    "\n",
    "data_2 = df2[data_cols].join(count_encoded.add_suffix(\"_count\"))"
   ]
  },
  {
   "cell_type": "code",
   "execution_count": 213,
   "metadata": {},
   "outputs": [],
   "source": [
    "#add target encoded to all data ohe\n",
    "data_2 = data_2.join(encoded)"
   ]
  },
  {
   "cell_type": "code",
   "execution_count": 214,
   "metadata": {},
   "outputs": [
    {
     "data": {
      "text/html": [
       "<div>\n",
       "<style scoped>\n",
       "    .dataframe tbody tr th:only-of-type {\n",
       "        vertical-align: middle;\n",
       "    }\n",
       "\n",
       "    .dataframe tbody tr th {\n",
       "        vertical-align: top;\n",
       "    }\n",
       "\n",
       "    .dataframe thead th {\n",
       "        text-align: right;\n",
       "    }\n",
       "</style>\n",
       "<table border=\"1\" class=\"dataframe\">\n",
       "  <thead>\n",
       "    <tr style=\"text-align: right;\">\n",
       "      <th></th>\n",
       "      <th>age_float</th>\n",
       "      <th>blackbelt_float</th>\n",
       "      <th>Num_ADCC_comp</th>\n",
       "      <th>Highest_ADCC_place</th>\n",
       "      <th>Max_ADCC_medals</th>\n",
       "      <th>MR_ADCC_Medal_yr</th>\n",
       "      <th>Highest_Trials_place</th>\n",
       "      <th>Max_tr_medals</th>\n",
       "      <th>MR_tr_Medal_yr</th>\n",
       "      <th>MR_IBJJF_W_yr</th>\n",
       "      <th>...</th>\n",
       "      <th>Weight_count</th>\n",
       "      <th>Fighter_count</th>\n",
       "      <th>Opponant_count</th>\n",
       "      <th>Entrance_count</th>\n",
       "      <th>Gym_count</th>\n",
       "      <th>Belt_count</th>\n",
       "      <th>IBJJF_W_belt_count</th>\n",
       "      <th>IBJJF_belt_count</th>\n",
       "      <th>Other_belt_count</th>\n",
       "      <th>Results</th>\n",
       "    </tr>\n",
       "  </thead>\n",
       "  <tbody>\n",
       "    <tr>\n",
       "      <th>0</th>\n",
       "      <td>28</td>\n",
       "      <td>6</td>\n",
       "      <td>1</td>\n",
       "      <td>3</td>\n",
       "      <td>1</td>\n",
       "      <td>2019</td>\n",
       "      <td>0</td>\n",
       "      <td>0</td>\n",
       "      <td>0</td>\n",
       "      <td>2019</td>\n",
       "      <td>...</td>\n",
       "      <td>32</td>\n",
       "      <td>4</td>\n",
       "      <td>4</td>\n",
       "      <td>139</td>\n",
       "      <td>4</td>\n",
       "      <td>197</td>\n",
       "      <td>89</td>\n",
       "      <td>151</td>\n",
       "      <td>146</td>\n",
       "      <td>0</td>\n",
       "    </tr>\n",
       "    <tr>\n",
       "      <th>1</th>\n",
       "      <td>28</td>\n",
       "      <td>6</td>\n",
       "      <td>4</td>\n",
       "      <td>0</td>\n",
       "      <td>0</td>\n",
       "      <td>2019</td>\n",
       "      <td>0</td>\n",
       "      <td>0</td>\n",
       "      <td>0</td>\n",
       "      <td>0</td>\n",
       "      <td>...</td>\n",
       "      <td>32</td>\n",
       "      <td>6</td>\n",
       "      <td>4</td>\n",
       "      <td>139</td>\n",
       "      <td>21</td>\n",
       "      <td>197</td>\n",
       "      <td>93</td>\n",
       "      <td>151</td>\n",
       "      <td>146</td>\n",
       "      <td>1</td>\n",
       "    </tr>\n",
       "    <tr>\n",
       "      <th>2</th>\n",
       "      <td>37</td>\n",
       "      <td>5</td>\n",
       "      <td>1</td>\n",
       "      <td>0</td>\n",
       "      <td>0</td>\n",
       "      <td>2019</td>\n",
       "      <td>1</td>\n",
       "      <td>1</td>\n",
       "      <td>2019</td>\n",
       "      <td>0</td>\n",
       "      <td>...</td>\n",
       "      <td>32</td>\n",
       "      <td>4</td>\n",
       "      <td>5</td>\n",
       "      <td>52</td>\n",
       "      <td>27</td>\n",
       "      <td>197</td>\n",
       "      <td>93</td>\n",
       "      <td>151</td>\n",
       "      <td>146</td>\n",
       "      <td>1</td>\n",
       "    </tr>\n",
       "  </tbody>\n",
       "</table>\n",
       "<p>3 rows × 29 columns</p>\n",
       "</div>"
      ],
      "text/plain": [
       "   age_float  blackbelt_float  Num_ADCC_comp  Highest_ADCC_place  \\\n",
       "0         28                6              1                   3   \n",
       "1         28                6              4                   0   \n",
       "2         37                5              1                   0   \n",
       "\n",
       "   Max_ADCC_medals  MR_ADCC_Medal_yr  Highest_Trials_place  Max_tr_medals  \\\n",
       "0                1              2019                     0              0   \n",
       "1                0              2019                     0              0   \n",
       "2                0              2019                     1              1   \n",
       "\n",
       "   MR_tr_Medal_yr  MR_IBJJF_W_yr  ...  Weight_count  Fighter_count  \\\n",
       "0               0           2019  ...            32              4   \n",
       "1               0              0  ...            32              6   \n",
       "2            2019              0  ...            32              4   \n",
       "\n",
       "   Opponant_count  Entrance_count  Gym_count  Belt_count  IBJJF_W_belt_count  \\\n",
       "0               4             139          4         197                  89   \n",
       "1               4             139         21         197                  93   \n",
       "2               5              52         27         197                  93   \n",
       "\n",
       "   IBJJF_belt_count  Other_belt_count  Results  \n",
       "0               151               146        0  \n",
       "1               151               146        1  \n",
       "2               151               146        1  \n",
       "\n",
       "[3 rows x 29 columns]"
      ]
     },
     "execution_count": 214,
     "metadata": {},
     "output_type": "execute_result"
    }
   ],
   "source": [
    "data_2.head(3)"
   ]
  },
  {
   "cell_type": "code",
   "execution_count": 215,
   "metadata": {},
   "outputs": [
    {
     "name": "stdout",
     "output_type": "stream",
     "text": [
      "Training model!\n",
      "Validation AUC score: 0.8167\n"
     ]
    }
   ],
   "source": [
    "# Training a model on the baseline data\n",
    "train, valid, test = get_data_splits(data_2)\n",
    "bst = train_model(train, valid)"
   ]
  },
  {
   "cell_type": "markdown",
   "metadata": {},
   "source": [
    "<font color=  #3498db >\n",
    "Target Encoding"
   ]
  },
  {
   "cell_type": "markdown",
   "metadata": {},
   "source": [
    "Target encoding replaces a categorical value with the average value of the target for that value of the feature. This is often blended with the target probability over the entire dataset to reduce the variance of values with few occurences.\n",
    "\n",
    "This technique uses the targets to create new features. So including the validation or test data in the target encodings would be a form of target leakage. Instead, you should learn the target encodings from the training dataset only and apply it to the other datasets."
   ]
  },
  {
   "cell_type": "code",
   "execution_count": 214,
   "metadata": {},
   "outputs": [
    {
     "name": "stdout",
     "output_type": "stream",
     "text": [
      "Training model!\n",
      "Validation AUC score: 1.0000\n"
     ]
    }
   ],
   "source": [
    "import category_encoders as ce\n",
    "cat_features = ['Results', 'Gender', 'Weight', 'Fighter', 'Opponant',\n",
    "       'Entrance', 'Gym', 'Belt','IBJJF_W_belt', 'IBJJF_belt','Other_belt',\n",
    "               ]\n",
    "\n",
    "# Create the encoder itself\n",
    "target_enc = ce.TargetEncoder(cols=cat_features)\n",
    "\n",
    "train, valid, _ = get_data_splits(data_2)\n",
    "\n",
    "# Fit the encoder using the categorical features and target\n",
    "target_enc.fit(train[cat_features], train['Results'])\n",
    "\n",
    "# Transform the features, rename the columns with _target suffix, and join to dataframe\n",
    "train = train.join(target_enc.transform(train[cat_features]).add_suffix('_target'))\n",
    "valid = valid.join(target_enc.transform(valid[cat_features]).add_suffix('_target'))\n",
    "\n",
    "train.head()\n",
    "bst = train_model(train, valid)"
   ]
  },
  {
   "cell_type": "markdown",
   "metadata": {},
   "source": [
    "<font color=  #3498db >\n",
    "CatBoost Encoding"
   ]
  },
  {
   "cell_type": "markdown",
   "metadata": {},
   "source": [
    "This is similar to target encoding in that it's based on the target probablity for a given value. However with CatBoost, for each row, the target probability is calculated only from the rows before it."
   ]
  },
  {
   "cell_type": "code",
   "execution_count": 216,
   "metadata": {},
   "outputs": [
    {
     "name": "stdout",
     "output_type": "stream",
     "text": [
      "Training model!\n",
      "Validation AUC score: 1.0000\n"
     ]
    }
   ],
   "source": [
    "cat_features = ['Results', 'Gender', 'Weight', 'Fighter', 'Opponant',\n",
    "       'Entrance', 'Gym', 'Belt','IBJJF_W_belt', 'IBJJF_belt','Other_belt',\n",
    "               ]\n",
    "target_enc = ce.CatBoostEncoder(cols=cat_features)\n",
    "\n",
    "train, valid, _ = get_data_splits(data_2)\n",
    "target_enc.fit(train[cat_features], train['Results'])\n",
    "\n",
    "train = train.join(target_enc.transform(train[cat_features]).add_suffix('_cb'))\n",
    "valid = valid.join(target_enc.transform(valid[cat_features]).add_suffix('_cb'))\n",
    "\n",
    "bst = train_model(train, valid)"
   ]
  },
  {
   "cell_type": "markdown",
   "metadata": {},
   "source": [
    "Count, Target, and CatBoost encoding work too well on the small dataset and the perfect score of 1.0 is misleading. Data leakage has occurred and we should expand the dataset with the player data."
   ]
  },
  {
   "cell_type": "markdown",
   "metadata": {},
   "source": [
    "<font color=  #3498db >\n",
    "\n",
    "#### Data Leakage!"
   ]
  },
  {
   "cell_type": "markdown",
   "metadata": {},
   "source": [
    "Stick with one-hot encoding for categories."
   ]
  },
  {
   "cell_type": "markdown",
   "metadata": {},
   "source": [
    "<font color= #28b463>\n",
    "    \n",
    "### Feature Engeineering"
   ]
  },
  {
   "cell_type": "markdown",
   "metadata": {},
   "source": [
    "<font color=  #3498db >\n",
    "\n",
    "#### Feature Generation"
   ]
  },
  {
   "cell_type": "code",
   "execution_count": 217,
   "metadata": {},
   "outputs": [],
   "source": [
    "df4 = df[['Results',#'Points','How', #for prediction\n",
    "          'Gender','Weight','Fighter','Opponant','Entrance','Gym', #match entrace data\n",
    "          'Belt','age_float','blackbelt_float', #fighter info\n",
    "          'Num_ADCC_comp','Highest_ADCC_place','Max_ADCC_medals','MR_ADCC_Medal_yr','Highest_Trials_place',\n",
    "          'Max_tr_medals','MR_tr_Medal_yr',\n",
    "          #'IBJJF_world', 'IBJJF_majors','Other_tours', \n",
    "          'MR_IBJJF_W_yr', 'IBJJF_W_belt', 'Num_IBJJF_W_medals','MR_IBJJF_W_place', 'MR_IBJJF_yr', 'IBJJF_belt', \n",
    "          'Num_IBJJF_medals','MR_IBJJF_place', 'MR_Other_yr', 'Other_belt', 'Num_Other_medals','MR_Other_place'\n",
    "         ]]"
   ]
  },
  {
   "cell_type": "code",
   "execution_count": 218,
   "metadata": {},
   "outputs": [],
   "source": [
    "df4.fillna(0, inplace=True)"
   ]
  },
  {
   "cell_type": "code",
   "execution_count": 219,
   "metadata": {},
   "outputs": [],
   "source": [
    "df4.Num_ADCC_comp= df4.Num_ADCC_comp.astype(int)\n",
    "df4.Highest_ADCC_place= df4.Highest_ADCC_place.astype(int)\n",
    "df4.Max_ADCC_medals= df4.Max_ADCC_medals.astype(int)\n",
    "df4.MR_ADCC_Medal_yr= df4.MR_ADCC_Medal_yr.astype(int)\n",
    "df4.Highest_Trials_place= df4.Highest_Trials_place.astype(int)\n",
    "df4.Max_tr_medals= df4.Max_tr_medals.astype(int)\n",
    "df4.MR_tr_Medal_yr= df4.MR_tr_Medal_yr.astype(int)\n",
    "\n",
    "df4.MR_IBJJF_W_yr= df4.MR_IBJJF_W_yr.astype(int)\n",
    "df4.Num_IBJJF_W_medals= df4.Num_IBJJF_W_medals.astype(int)\n",
    "df4.MR_IBJJF_W_place= df4.MR_IBJJF_W_place.astype(int)\n",
    "\n",
    "df4.MR_IBJJF_yr= df4.MR_IBJJF_yr.astype(int)\n",
    "df4.Num_IBJJF_medals= df4.Num_IBJJF_medals.astype(int)\n",
    "df4.MR_IBJJF_place= df4.MR_IBJJF_place.astype(int)\n",
    "df4.MR_Other_yr= df4.MR_Other_yr.astype(int)\n",
    "df4.Num_Other_medals= df4.Num_Other_medals.astype(int)\n",
    "df4.MR_Other_place= df4.MR_Other_place.astype(int)\n",
    "\n",
    "df4.age_float= df4.age_float.astype(int)\n",
    "df4.blackbelt_float= df4.blackbelt_float.astype(int)\n",
    "\n",
    "df4.Gym= df4.Gym.astype(str)\n",
    "df4.Belt= df4.Belt.astype(str)\n",
    "df4.Entrance= df4.Entrance.astype(str)\n",
    "df4.IBJJF_W_belt= df4.IBJJF_W_belt.astype(str)\n",
    "df4.IBJJF_belt= df4.IBJJF_belt.astype(str)\n",
    "df4.Other_belt= df4.Other_belt.astype(str)"
   ]
  },
  {
   "cell_type": "markdown",
   "metadata": {},
   "source": [
    "Feature Generration:\n",
    "Create interactions by combining features into one."
   ]
  },
  {
   "cell_type": "code",
   "execution_count": 264,
   "metadata": {
    "scrolled": true
   },
   "outputs": [],
   "source": [
    "df4['Entrance_Gym'] = df4['Entrance'] + \"_\" + df4['Gym']\n",
    "df4['Gender_Weight'] = df4['Gender'] + \"_\" + df4['Weight']\n",
    "df4['Fighter_Belt'] = df4['Fighter'] + \"_\" + df4['Belt']"
   ]
  },
  {
   "cell_type": "markdown",
   "metadata": {},
   "source": [
    "Transform numerical features."
   ]
  },
  {
   "cell_type": "code",
   "execution_count": 265,
   "metadata": {},
   "outputs": [
    {
     "data": {
      "text/plain": [
       "Text(0.5, 1.0, 'Experience as Black Belt')"
      ]
     },
     "execution_count": 265,
     "metadata": {},
     "output_type": "execute_result"
    },
    {
     "data": {
      "image/png": "[encoded data removed]",
      "text/plain": [
       "<Figure size 432x288 with 1 Axes>"
      ]
     },
     "metadata": {
      "needs_background": "light"
     },
     "output_type": "display_data"
    }
   ],
   "source": [
    "import matplotlib.pyplot as plt\n",
    "plt.hist(df.blackbelt_float, bins=30);\n",
    "plt.title('Experience as Black Belt')"
   ]
  },
  {
   "cell_type": "code",
   "execution_count": 266,
   "metadata": {},
   "outputs": [
    {
     "data": {
      "text/plain": [
       "Text(0.5, 1.0, 'Square root - Experience as Black Belt')"
      ]
     },
     "execution_count": 266,
     "metadata": {},
     "output_type": "execute_result"
    },
    {
     "data": {
      "image/png": "[encoded data removed]",
      "text/plain": [
       "<Figure size 432x288 with 1 Axes>"
      ]
     },
     "metadata": {
      "needs_background": "light"
     },
     "output_type": "display_data"
    }
   ],
   "source": [
    "import numpy as np\n",
    "plt.hist(np.sqrt(df.blackbelt_float), bins=30);\n",
    "plt.title('Square root - Experience as Black Belt')"
   ]
  },
  {
   "cell_type": "code",
   "execution_count": null,
   "metadata": {},
   "outputs": [],
   "source": [
    "plt.hist(np.log(df.blackbelt_float), bins=30);\n",
    "plt.title('Natural Log - Experience as Black Belt')"
   ]
  },
  {
   "cell_type": "markdown",
   "metadata": {},
   "source": [
    "Feature Selection: Drop unrealted features from dataset to reduce dimentionality."
   ]
  },
  {
   "cell_type": "code",
   "execution_count": 117,
   "metadata": {},
   "outputs": [],
   "source": [
    "df4.fillna(0, inplace=True)"
   ]
  },
  {
   "cell_type": "code",
   "execution_count": 118,
   "metadata": {},
   "outputs": [],
   "source": [
    "df4.Num_ADCC_comp= df4.Num_ADCC_comp.astype(int)\n",
    "df4.Highest_ADCC_place= df4.Highest_ADCC_place.astype(int)\n",
    "df4.Max_ADCC_medals= df4.Max_ADCC_medals.astype(int)\n",
    "df4.MR_ADCC_Medal_yr= df4.MR_ADCC_Medal_yr.astype(int)\n",
    "df4.Highest_Trials_place= df4.Highest_Trials_place.astype(int)\n",
    "df4.Max_tr_medals= df4.Max_tr_medals.astype(int)\n",
    "df4.MR_tr_Medal_yr= df4.MR_tr_Medal_yr.astype(int)\n",
    "\n",
    "df4.MR_IBJJF_W_yr= df4.MR_IBJJF_W_yr.astype(int)\n",
    "df4.Num_IBJJF_W_medals= df4.Num_IBJJF_W_medals.astype(int)\n",
    "df4.MR_IBJJF_W_place= df4.MR_IBJJF_W_place.astype(int)\n",
    "\n",
    "df4.MR_IBJJF_yr= df4.MR_IBJJF_yr.astype(int)\n",
    "df4.Num_IBJJF_medals= df4.Num_IBJJF_medals.astype(int)\n",
    "df4.MR_IBJJF_place= df4.MR_IBJJF_place.astype(int)\n",
    "df4.MR_Other_yr= df4.MR_Other_yr.astype(int)\n",
    "df4.Num_Other_medals= df4.Num_Other_medals.astype(int)\n",
    "df4.MR_Other_place= df4.MR_Other_place.astype(int)\n",
    "\n",
    "df4.age_float= df4.age_float.astype(int)\n",
    "df4.blackbelt_float= df4.blackbelt_float.astype(int)\n",
    "\n",
    "df4.Gym= df4.Gym.astype(str)\n",
    "df4.Belt= df4.Belt.astype(str)\n",
    "df4.Entrance= df4.Entrance.astype(str)\n",
    "df4.IBJJF_W_belt= df4.IBJJF_W_belt.astype(str)\n",
    "df4.IBJJF_belt= df4.IBJJF_belt.astype(str)\n",
    "df4.Other_belt= df4.Other_belt.astype(str)"
   ]
  },
  {
   "cell_type": "code",
   "execution_count": 119,
   "metadata": {},
   "outputs": [],
   "source": [
    "from sklearn import preprocessing\n",
    "le = preprocessing.LabelEncoder()\n",
    "\n",
    "#encode all column features into array\n",
    "for col in df4.columns:\n",
    "    df4[col]=le.fit_transform(df4[col])  "
   ]
  },
  {
   "cell_type": "code",
   "execution_count": 120,
   "metadata": {},
   "outputs": [
    {
     "name": "stdout",
     "output_type": "stream",
     "text": [
      "StandardScaler(copy=True, with_mean=True, with_std=True)\n"
     ]
    }
   ],
   "source": [
    "from sklearn.preprocessing import StandardScaler\n",
    "scaler = StandardScaler()\n",
    "print(scaler.fit(df4))"
   ]
  },
  {
   "cell_type": "markdown",
   "metadata": {},
   "source": [
    "Correlation Coefficients"
   ]
  },
  {
   "cell_type": "code",
   "execution_count": 121,
   "metadata": {},
   "outputs": [
    {
     "data": {
      "image/png": "[encoded data removed]",
      "text/plain": [
       "<Figure size 1080x1080 with 2 Axes>"
      ]
     },
     "metadata": {
      "needs_background": "light"
     },
     "output_type": "display_data"
    }
   ],
   "source": [
    "import seaborn as sns\n",
    "import matplotlib.pyplot as plt\n",
    "f,ax = plt.subplots(figsize=(15,15))\n",
    "ax = sns.heatmap(df4.corr(),annot=True, linewidths=.1, fmt='.1f', ax=ax,cmap=\"YlGnBu\")\n",
    "\n",
    "# fix for mpl bug that cuts off top/bottom of seaborn viz\n",
    "b, t = plt.ylim() # discover the values for bottom and top\n",
    "b += 0.5 # Add 0.5 to the bottom\n",
    "t -= 0.5 # Subtract 0.5 from the top\n",
    "plt.ylim(b, t) # update the ylim(bottom, top) values\n",
    "# plt.show() \n",
    "\n",
    "plt.show()\n",
    "# f.savefig('Numerical Corr Heat Map 2.png',bbox_inches='tight')"
   ]
  },
  {
   "cell_type": "code",
   "execution_count": 122,
   "metadata": {},
   "outputs": [
    {
     "data": {
      "text/plain": [
       "Results                 1.000000e+00\n",
       "Points                  4.482282e-01\n",
       "How                     0.000000e+00\n",
       "Gender                 -2.818152e-18\n",
       "Weight                  8.292176e-18\n",
       "Fighter                -3.509881e-02\n",
       "Opponant                3.509881e-02\n",
       "Entrance               -2.324823e-01\n",
       "Gym                    -3.921955e-02\n",
       "Belt                   -1.297882e-01\n",
       "age_float              -6.097065e-02\n",
       "blackbelt_float         1.285570e-01\n",
       "Num_ADCC_comp           1.644195e-01\n",
       "Highest_ADCC_place      2.002459e-01\n",
       "Max_ADCC_medals         1.657761e-01\n",
       "MR_ADCC_Medal_yr        2.733262e-01\n",
       "Highest_Trials_place   -1.492479e-01\n",
       "Max_tr_medals          -9.363830e-02\n",
       "MR_tr_Medal_yr         -2.167449e-01\n",
       "MR_IBJJF_W_yr           9.279679e-02\n",
       "IBJJF_W_belt           -1.977211e-02\n",
       "Num_IBJJF_W_medals      8.570438e-02\n",
       "MR_IBJJF_W_place        1.843886e-02\n",
       "MR_IBJJF_yr             2.020309e-01\n",
       "IBJJF_belt              1.129002e-01\n",
       "Num_IBJJF_medals        1.082086e-01\n",
       "MR_IBJJF_place          9.187022e-02\n",
       "MR_Other_yr             1.207758e-01\n",
       "Other_belt              9.859943e-02\n",
       "Num_Other_medals        1.860092e-01\n",
       "MR_Other_place          7.626702e-02\n",
       "Entrance_Gym           -2.178396e-01\n",
       "Gender_Weight           0.000000e+00\n",
       "Fighter_Belt           -3.509881e-02\n",
       "Name: Results, dtype: float64"
      ]
     },
     "execution_count": 122,
     "metadata": {},
     "output_type": "execute_result"
    }
   ],
   "source": [
    "df4[df4.columns[0:]].corr(method ='pearson')['Results'][:]"
   ]
  }
 ],
 "metadata": {
  "kernelspec": {
   "display_name": "Python 3",
   "language": "python",
   "name": "python3"
  },
  "language_info": {
   "codemirror_mode": {
    "name": "ipython",
    "version": 3
   },
   "file_extension": ".py",
   "mimetype": "text/x-python",
   "name": "python",
   "nbconvert_exporter": "python",
   "pygments_lexer": "ipython3",
   "version": "3.7.3"
  }
 },
 "nbformat": 4,
 "nbformat_minor": 2
}
